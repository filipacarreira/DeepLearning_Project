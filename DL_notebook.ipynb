{
 "cells": [
  {
   "cell_type": "code",
   "execution_count": 1,
   "metadata": {},
   "outputs": [],
   "source": [
    "import os, random\n",
    "from os import path\n",
    "from numpy.random import seed\n",
    "import keras\n",
    "from keras.preprocessing.image import ImageDataGenerator\n",
    "from matplotlib import pyplot as plt\n",
    "import numpy as np\n",
    "import pandas as pd\n",
    "from distutils.dir_util import copy_tree\n",
    "import shutil\n",
    "from PIL import Image\n",
    "from keras import layers,models\n",
    "import seaborn as sns\n",
    "from tqdm import tqdm\n",
    "from sklearn.metrics import confusion_matrix\n",
    "from sklearn.metrics import classification_report\n",
    "from sklearn.model_selection import ParameterGrid\n",
    "from tensorflow import random as tfrandom\n",
    "import tensorflow as tf\n",
    "from keras.callbacks import Callback, CSVLogger\n",
    "import time\n",
    "from keras.models import load_model\n",
    "from keras.utils.vis_utils import plot_model\n",
    "import matplotlib.pyplot as plt\n",
    "from keras import backend as K\n",
    "import math\n",
    "#from tensorflow import set_random_seed\n",
    "import cv2\n",
    "\n",
    "random.seed(42)\n",
    "tf.random.set_seed(42)"
   ]
  },
  {
   "cell_type": "code",
   "execution_count": 2,
   "metadata": {},
   "outputs": [],
   "source": [
    "base_path=os.getcwd()"
   ]
  },
  {
   "cell_type": "code",
   "execution_count": 3,
   "metadata": {},
   "outputs": [
    {
     "data": {
      "text/plain": [
       "'c:\\\\Users\\\\Utilizador\\\\Desktop\\\\2_semestre_DS\\\\Deep_Learning\\\\DL_GroupProject\\\\DeepLearning_Group_Project'"
      ]
     },
     "execution_count": 3,
     "metadata": {},
     "output_type": "execute_result"
    }
   ],
   "source": [
    "base_path"
   ]
  },
  {
   "cell_type": "code",
   "execution_count": 4,
   "metadata": {},
   "outputs": [],
   "source": [
    "dir_path=(base_path+r\"\\tumor_data\")"
   ]
  },
  {
   "cell_type": "code",
   "execution_count": 28,
   "metadata": {},
   "outputs": [],
   "source": [
    "# rename the images to 1_xx, 2_xx, 3_xx, by the labels \n",
    "\n",
    "for _, letter in enumerate(os.listdir(dir_path)):\n",
    "    folder_letter = os.path.join(dir_path, letter)\n",
    " \n",
    "    counts=0\n",
    "    for _, image in enumerate(os.listdir(folder_letter)):\n",
    "        \n",
    "        dst=image\n",
    "    \n",
    "        if '_' in dst:\n",
    "            continue\n",
    "        else:\n",
    "            dst = str(letter) + \"_\" + str(counts) + \".png\"\n",
    "            #print(dst)\n",
    "            src = os.path.join(folder_letter, image)\n",
    "            dst = os.path.join(folder_letter, dst)\n",
    "            print(counts)\n",
    "            os.rename(src, dst)\n",
    "            \n",
    "        counts=counts+1\n",
    "        "
   ]
  },
  {
   "cell_type": "code",
   "execution_count": 5,
   "metadata": {},
   "outputs": [],
   "source": [
    "# define directories for the train, val and test splits\n",
    "train_path = os.path.join(dir_path, 'train')\n",
    "val_path = os.path.join(dir_path, 'validation')\n",
    "test_path = os.path.join(dir_path, 'test')"
   ]
  },
  {
   "cell_type": "code",
   "execution_count": 30,
   "metadata": {},
   "outputs": [],
   "source": [
    "def createdir(mydir):\n",
    "    try:\n",
    "        os.mkdir(mydir)\n",
    "    except OSError:\n",
    "        pass\n",
    "\n",
    "# create the directories\n",
    "\n",
    "createdir(train_path)\n",
    "createdir(val_path)\n",
    "createdir(test_path)"
   ]
  },
  {
   "cell_type": "code",
   "execution_count": 31,
   "metadata": {},
   "outputs": [],
   "source": [
    "# create the directories for each label for each train, validation and test folders\n",
    "count=0\n",
    "for dir in [train_path, val_path, test_path]:\n",
    "    count+=1\n",
    "    for letter in ['1','2','3']:\n",
    "        if count == 1:\n",
    "            createdir(os.path.join(dir,str(\"train_{0}\".format(str(letter)))))\n",
    "        elif count == 2:\n",
    "            createdir(os.path.join(dir,str(\"val_{0}\".format(str(letter)))))   \n",
    "        elif count == 3:\n",
    "            createdir(os.path.join(dir,str(\"test_{0}\".format(str(letter)))))\n",
    "        "
   ]
  },
  {
   "cell_type": "code",
   "execution_count": 32,
   "metadata": {},
   "outputs": [
    {
     "name": "stdout",
     "output_type": "stream",
     "text": [
      "break\n",
      "break\n",
      "break\n"
     ]
    }
   ],
   "source": [
    "# copy all the images for the train folder to then split them for validation and test folders \n",
    "\n",
    "count=0\n",
    "\n",
    "for dir_ in [train_path+r'\\train_1', train_path+r'\\train_2', train_path+r'\\train_3']:\n",
    "        if len(os.listdir(dir_)) != 0:\n",
    "            print('break')\n",
    "            for f in os.listdir(dir_):\n",
    "                os.remove(os.path.join(dir_, f))\n",
    "                \n",
    "for dir in [dir_path+r\"\\1\", dir_path+r\"\\2\", dir_path+r\"\\3\"]:\n",
    "    count+=1\n",
    "    \n",
    "    if count == 1:\n",
    "        copy_tree(dir, train_path+r'\\train_1')\n",
    "    elif count==2:\n",
    "        copy_tree(dir, train_path+r'\\train_2')\n",
    "    elif count==3:\n",
    "        copy_tree(dir, train_path+r'\\train_3')"
   ]
  },
  {
   "cell_type": "code",
   "execution_count": 33,
   "metadata": {},
   "outputs": [],
   "source": [
    "# proportion we want for train, val_test and the test datasets\n",
    "prop_train=0.80\n",
    "prop_val_test=0.20\n",
    "prop_test=0.50 "
   ]
  },
  {
   "cell_type": "code",
   "execution_count": 34,
   "metadata": {},
   "outputs": [],
   "source": [
    "labels={'label1':708,'label2':1426,'label3':930}"
   ]
  },
  {
   "cell_type": "code",
   "execution_count": 35,
   "metadata": {},
   "outputs": [
    {
     "name": "stdout",
     "output_type": "stream",
     "text": [
      "break\n",
      "break\n",
      "break\n"
     ]
    }
   ],
   "source": [
    "# input images in VALIDATION\n",
    "\n",
    "count=0\n",
    "for index, letter in enumerate(os.listdir(train_path)):\n",
    "    count+=1\n",
    "    folder_letter_source = os.path.join(train_path, letter)\n",
    "    folder_letter_destiny_val = os.path.join(val_path, str(\"val_{0}\".format(str(count))))\n",
    "\n",
    "    images_val = random.sample(os.listdir(folder_letter_source), k=round(prop_val_test*labels['label{0}'.format(str(count))]))\n",
    "    count1=0\n",
    "    \n",
    "    for image in images_val:\n",
    "        count1+=1\n",
    "        if count1==1 and len(os.listdir(folder_letter_destiny_val)) != 0:\n",
    "            print('break')\n",
    "            for f in os.listdir(folder_letter_destiny_val):\n",
    "                os.remove(os.path.join(folder_letter_destiny_val, f))\n",
    "            \n",
    "        src = os.path.join(folder_letter_source, image)\n",
    "        dst = os.path.join(folder_letter_destiny_val, image)\n",
    "        shutil.move(src, dst)\n"
   ]
  },
  {
   "cell_type": "code",
   "execution_count": 36,
   "metadata": {},
   "outputs": [
    {
     "data": {
      "text/plain": [
       "{'label1': 142, 'label2': 285, 'label3': 186}"
      ]
     },
     "execution_count": 36,
     "metadata": {},
     "output_type": "execute_result"
    }
   ],
   "source": [
    "labels['label1']=round(labels['label1']*prop_val_test)\n",
    "labels['label2']=round(labels['label2']*prop_val_test)\n",
    "labels['label3']=round(labels['label3']*prop_val_test)\n",
    "labels"
   ]
  },
  {
   "cell_type": "code",
   "execution_count": 37,
   "metadata": {},
   "outputs": [
    {
     "name": "stdout",
     "output_type": "stream",
     "text": [
      "break\n",
      "break\n",
      "break\n"
     ]
    }
   ],
   "source": [
    "# input images in TEST\n",
    "\n",
    "count=0\n",
    "for index, letter in enumerate(os.listdir(val_path)):\n",
    "    count+=1\n",
    "    folder_letter_source = os.path.join(val_path, letter)\n",
    "    folder_letter_destiny_test = os.path.join(test_path, str(\"test_{0}\".format(str(count))))\n",
    "\n",
    "    images_val = random.sample(os.listdir(folder_letter_source), k=round(prop_test*labels['label{0}'.format(str(count))]))\n",
    "    count1=0\n",
    "    \n",
    "    for image in images_val:\n",
    "        count1+=1\n",
    "        if count1==1 and len(os.listdir(folder_letter_destiny_test)) != 0:\n",
    "            print('break')\n",
    "            for f in os.listdir(folder_letter_destiny_test):\n",
    "                os.remove(os.path.join(folder_letter_destiny_test, f))\n",
    "            \n",
    "        src = os.path.join(folder_letter_source, image)\n",
    "        dst = os.path.join(folder_letter_destiny_test, image)\n",
    "        shutil.move(src, dst)\n",
    "        "
   ]
  },
  {
   "cell_type": "code",
   "execution_count": 6,
   "metadata": {},
   "outputs": [
    {
     "name": "stdout",
     "output_type": "stream",
     "text": [
      "Found 2451 images belonging to 3 classes.\n"
     ]
    }
   ],
   "source": [
    "train_datagen_aug=ImageDataGenerator(\n",
    "                    rescale=1./255,\n",
    "                    rotation_range=50,\n",
    "                    #rotation_range=10,\n",
    "                    shear_range=0.05)\n",
    "                    #horizontal_flip=True )\n",
    "\n",
    "train_generator_aug = train_datagen_aug.flow_from_directory(\n",
    "    train_path,\n",
    "    target_size=(150, 150),\n",
    "    batch_size=20,\n",
    "    class_mode='categorical',\n",
    "    color_mode='grayscale',\n",
    ")"
   ]
  },
  {
   "cell_type": "code",
   "execution_count": 8,
   "metadata": {},
   "outputs": [
    {
     "name": "stdout",
     "output_type": "stream",
     "text": [
      "Found 2451 images belonging to 3 classes.\n",
      "Found 307 images belonging to 3 classes.\n",
      "Found 306 images belonging to 3 classes.\n"
     ]
    }
   ],
   "source": [
    "train_datagen = ImageDataGenerator(rescale=1.0/255.0)\n",
    "val_datagen = ImageDataGenerator(rescale=1.0/255.0)\n",
    "test_datagen = ImageDataGenerator(rescale=1.0/255.0)\n",
    "\n",
    "train_generator = train_datagen.flow_from_directory(\n",
    "    train_path,\n",
    "    target_size=(150, 150),\n",
    "    batch_size=20,\n",
    "    class_mode='categorical',\n",
    "    color_mode='grayscale',\n",
    ")\n",
    "\n",
    "val_generator = val_datagen.flow_from_directory(\n",
    "    val_path,\n",
    "    target_size=(150, 150),  \n",
    "    batch_size=20,\n",
    "    class_mode='categorical',\n",
    "    color_mode='grayscale',\n",
    ")\n",
    "\n",
    "test_generator = test_datagen.flow_from_directory(\n",
    "    test_path,\n",
    "    target_size=(150, 150), \n",
    "    batch_size=20,\n",
    "    class_mode='categorical',\n",
    "    color_mode='grayscale',\n",
    "    shuffle=False\n",
    ")"
   ]
  },
  {
   "cell_type": "code",
   "execution_count": 9,
   "metadata": {},
   "outputs": [
    {
     "name": "stdout",
     "output_type": "stream",
     "text": [
      "Found 2451 images belonging to 3 classes.\n",
      "Found 307 images belonging to 3 classes.\n",
      "Found 306 images belonging to 3 classes.\n"
     ]
    }
   ],
   "source": [
    "train_generator_rgb = train_datagen.flow_from_directory(\n",
    "    train_path,\n",
    "    target_size=(150, 150),\n",
    "    batch_size=20,\n",
    "    class_mode='categorical',\n",
    "    color_mode='rgb',\n",
    ")\n",
    "\n",
    "val_generator_rgb = val_datagen.flow_from_directory(\n",
    "    val_path,\n",
    "    target_size=(150, 150),  \n",
    "    batch_size=20,\n",
    "    class_mode='categorical',\n",
    "    color_mode='rgb',\n",
    ")\n",
    "\n",
    "test_generator_rgb = test_datagen.flow_from_directory(\n",
    "    test_path,\n",
    "    target_size=(150, 150), \n",
    "    batch_size=20,\n",
    "    class_mode='categorical',\n",
    "    color_mode='rgb',\n",
    "    shuffle=False\n",
    ")"
   ]
  },
  {
   "cell_type": "code",
   "execution_count": 10,
   "metadata": {},
   "outputs": [],
   "source": [
    "def recall_m(y_true, y_pred):\n",
    "    true_positives = K.sum(K.round(K.clip(y_true * y_pred, 0, 1)))\n",
    "    possible_positives = K.sum(K.round(K.clip(y_true, 0, 1)))\n",
    "    recall = true_positives / (possible_positives + K.epsilon())\n",
    "    return recall\n",
    "\n",
    "def precision_m(y_true, y_pred):\n",
    "    true_positives = K.sum(K.round(K.clip(y_true * y_pred, 0, 1)))\n",
    "    predicted_positives = K.sum(K.round(K.clip(y_pred, 0, 1)))\n",
    "    precision = true_positives / (predicted_positives + K.epsilon())\n",
    "    return precision\n",
    "\n",
    "def f1_m(y_true, y_pred):\n",
    "    precision = precision_m(y_true, y_pred)\n",
    "    recall = recall_m(y_true, y_pred)\n",
    "    return 2*((precision*recall)/(precision+recall+K.epsilon()))"
   ]
  },
  {
   "cell_type": "code",
   "execution_count": 11,
   "metadata": {},
   "outputs": [],
   "source": [
    "class TimeHistory(keras.callbacks.Callback):\n",
    "    def on_train_begin(self, logs={}):\n",
    "        self.times = []\n",
    "\n",
    "    def on_epoch_begin(self, batch, logs={}):\n",
    "        self.epoch_time_start = time.time()\n",
    "\n",
    "    def on_epoch_end(self, batch, logs={}):\n",
    "        self.times.append(time.time() - self.epoch_time_start)\n",
    "\n",
    "time_callback = TimeHistory()"
   ]
  },
  {
   "cell_type": "code",
   "execution_count": 12,
   "metadata": {},
   "outputs": [],
   "source": [
    "def save_times(model, times,name_model):\n",
    "  \n",
    "    times_dict = {'Model': ['Model {}'.format(str(name_model))]}\n",
    "    for idx, time in enumerate(times):\n",
    "        times_dict[idx] = times[idx]\n",
    "    df_save_times = pd.DataFrame(times_dict)\n",
    "\n",
    "    if os.path.exists(r'.\\models\\models_times.csv'):\n",
    "        df_save_times.to_csv(r'.\\models\\models_times.csv', mode='a', header=False, index=False)\n",
    "    else:\n",
    "        df_save_times.to_csv(r'.\\models\\models_times.csv')"
   ]
  },
  {
   "cell_type": "code",
   "execution_count": 13,
   "metadata": {},
   "outputs": [],
   "source": [
    "def plot_history(his):\n",
    "    f1 = his['f1_m']\n",
    "    f1_val=his['val_f1_m']\n",
    "    loss = his['loss']\n",
    "    loss_val=his['val_loss']\n",
    "\n",
    "    epochs=range(1,len(f1)+1)\n",
    "\n",
    "    plt.plot(epochs, f1,'bo',label='Training F1')\n",
    "    plt.plot(epochs, f1_val,'b',label='Validation F1')\n",
    "    plt.title('Training and Validation F1 score')\n",
    "    plt.legend()\n",
    "    plt.figure()\n",
    "\n",
    "    plt.plot(epochs, loss,'bo',label='Training loss')\n",
    "    plt.plot(epochs, loss_val,'b',label='Validation loss')\n",
    "    plt.title('Training and Validation loss')\n",
    "    plt.legend()\n",
    "    plt.figure()"
   ]
  },
  {
   "cell_type": "code",
   "execution_count": 14,
   "metadata": {},
   "outputs": [],
   "source": [
    "def callback(filename):\n",
    "  callname_list=[keras.callbacks.EarlyStopping(monitor='val_loss', patience=4),\n",
    "            keras.callbacks.ModelCheckpoint(filepath=os.path.join(base_path+ \"\\models\")+filename, monitor='val_loss',mode='min',verbose=1, save_best_only=True)\n",
    "            ,time_callback]\n",
    "\n",
    "  return callname_list"
   ]
  },
  {
   "cell_type": "code",
   "execution_count": 26,
   "metadata": {},
   "outputs": [
    {
     "name": "stdout",
     "output_type": "stream",
     "text": [
      "123\n",
      "16\n"
     ]
    }
   ],
   "source": [
    "BATCH_SIZE=20 \n",
    "TRAINING_SIZE = 2451 \n",
    "VALIDATION_SIZE = 307 \n",
    "\n",
    "compute_steps_per_epoch = lambda x: int(math.ceil(1. * x / BATCH_SIZE)) \n",
    "steps_per_epoch = compute_steps_per_epoch(TRAINING_SIZE) \n",
    "val_steps = compute_steps_per_epoch(VALIDATION_SIZE) \n",
    "\n",
    "print(steps_per_epoch)\n",
    "print(val_steps)"
   ]
  },
  {
   "cell_type": "code",
   "execution_count": 27,
   "metadata": {},
   "outputs": [],
   "source": [
    "dependencies = {\n",
    "    'f1_m': f1_m\n",
    "}"
   ]
  },
  {
   "cell_type": "code",
   "execution_count": 28,
   "metadata": {},
   "outputs": [],
   "source": [
    "callbacks_BW = callback(\"\\modelBW.h5\")"
   ]
  },
  {
   "cell_type": "code",
   "execution_count": 29,
   "metadata": {},
   "outputs": [
    {
     "name": "stdout",
     "output_type": "stream",
     "text": [
      "Epoch 1/30\n",
      "123/123 [==============================] - ETA: 0s - loss: 0.8476 - f1_m: 0.4821\n",
      "Epoch 00001: val_loss improved from inf to 0.66116, saving model to c:\\Users\\Utilizador\\Desktop\\2_semestre_DS\\Deep_Learning\\DL_GroupProject\\DeepLearning_Group_Project\\models\\modelBW.h5\n",
      "123/123 [==============================] - 113s 918ms/step - loss: 0.8476 - f1_m: 0.4821 - val_loss: 0.6612 - val_f1_m: 0.6964\n",
      "Epoch 2/30\n",
      "123/123 [==============================] - ETA: 0s - loss: 0.6195 - f1_m: 0.7136\n",
      "Epoch 00002: val_loss improved from 0.66116 to 0.55743, saving model to c:\\Users\\Utilizador\\Desktop\\2_semestre_DS\\Deep_Learning\\DL_GroupProject\\DeepLearning_Group_Project\\models\\modelBW.h5\n",
      "123/123 [==============================] - 110s 897ms/step - loss: 0.6195 - f1_m: 0.7136 - val_loss: 0.5574 - val_f1_m: 0.7547\n",
      "Epoch 3/30\n",
      "123/123 [==============================] - ETA: 0s - loss: 0.4924 - f1_m: 0.7831\n",
      "Epoch 00003: val_loss did not improve from 0.55743\n",
      "123/123 [==============================] - 110s 892ms/step - loss: 0.4924 - f1_m: 0.7831 - val_loss: 0.5582 - val_f1_m: 0.7619\n",
      "Epoch 4/30\n",
      "123/123 [==============================] - ETA: 0s - loss: 0.4262 - f1_m: 0.8177\n",
      "Epoch 00004: val_loss improved from 0.55743 to 0.40988, saving model to c:\\Users\\Utilizador\\Desktop\\2_semestre_DS\\Deep_Learning\\DL_GroupProject\\DeepLearning_Group_Project\\models\\modelBW.h5\n",
      "123/123 [==============================] - 109s 886ms/step - loss: 0.4262 - f1_m: 0.8177 - val_loss: 0.4099 - val_f1_m: 0.8412\n",
      "Epoch 5/30\n",
      "123/123 [==============================] - ETA: 0s - loss: 0.3509 - f1_m: 0.8548\n",
      "Epoch 00005: val_loss improved from 0.40988 to 0.36651, saving model to c:\\Users\\Utilizador\\Desktop\\2_semestre_DS\\Deep_Learning\\DL_GroupProject\\DeepLearning_Group_Project\\models\\modelBW.h5\n",
      "123/123 [==============================] - 109s 887ms/step - loss: 0.3509 - f1_m: 0.8548 - val_loss: 0.3665 - val_f1_m: 0.8352\n",
      "Epoch 6/30\n",
      "123/123 [==============================] - ETA: 0s - loss: 0.2765 - f1_m: 0.8856\n",
      "Epoch 00006: val_loss improved from 0.36651 to 0.30152, saving model to c:\\Users\\Utilizador\\Desktop\\2_semestre_DS\\Deep_Learning\\DL_GroupProject\\DeepLearning_Group_Project\\models\\modelBW.h5\n",
      "123/123 [==============================] - 109s 884ms/step - loss: 0.2765 - f1_m: 0.8856 - val_loss: 0.3015 - val_f1_m: 0.8723\n",
      "Epoch 7/30\n",
      "123/123 [==============================] - ETA: 0s - loss: 0.2325 - f1_m: 0.9065\n",
      "Epoch 00007: val_loss did not improve from 0.30152\n",
      "123/123 [==============================] - 109s 883ms/step - loss: 0.2325 - f1_m: 0.9065 - val_loss: 0.3134 - val_f1_m: 0.8665\n",
      "Epoch 8/30\n",
      "123/123 [==============================] - ETA: 0s - loss: 0.1876 - f1_m: 0.9226\n",
      "Epoch 00008: val_loss did not improve from 0.30152\n",
      "123/123 [==============================] - 108s 878ms/step - loss: 0.1876 - f1_m: 0.9226 - val_loss: 0.3053 - val_f1_m: 0.8653\n",
      "Epoch 9/30\n",
      "123/123 [==============================] - ETA: 0s - loss: 0.1528 - f1_m: 0.9442\n",
      "Epoch 00009: val_loss improved from 0.30152 to 0.24720, saving model to c:\\Users\\Utilizador\\Desktop\\2_semestre_DS\\Deep_Learning\\DL_GroupProject\\DeepLearning_Group_Project\\models\\modelBW.h5\n",
      "123/123 [==============================] - 102s 827ms/step - loss: 0.1528 - f1_m: 0.9442 - val_loss: 0.2472 - val_f1_m: 0.8922\n",
      "Epoch 10/30\n",
      "123/123 [==============================] - ETA: 0s - loss: 0.1228 - f1_m: 0.9527\n",
      "Epoch 00010: val_loss did not improve from 0.24720\n",
      "123/123 [==============================] - 93s 758ms/step - loss: 0.1228 - f1_m: 0.9527 - val_loss: 0.3726 - val_f1_m: 0.8764\n",
      "Epoch 11/30\n",
      "123/123 [==============================] - ETA: 0s - loss: 0.0978 - f1_m: 0.9682\n",
      "Epoch 00011: val_loss improved from 0.24720 to 0.22065, saving model to c:\\Users\\Utilizador\\Desktop\\2_semestre_DS\\Deep_Learning\\DL_GroupProject\\DeepLearning_Group_Project\\models\\modelBW.h5\n",
      "123/123 [==============================] - 93s 759ms/step - loss: 0.0978 - f1_m: 0.9682 - val_loss: 0.2207 - val_f1_m: 0.9136\n",
      "Epoch 12/30\n",
      "123/123 [==============================] - ETA: 0s - loss: 0.0812 - f1_m: 0.9728\n",
      "Epoch 00012: val_loss did not improve from 0.22065\n",
      "123/123 [==============================] - 545s 4s/step - loss: 0.0812 - f1_m: 0.9728 - val_loss: 0.2388 - val_f1_m: 0.8889\n",
      "Epoch 13/30\n",
      "123/123 [==============================] - ETA: 0s - loss: 0.0782 - f1_m: 0.9713\n",
      "Epoch 00013: val_loss did not improve from 0.22065\n",
      "123/123 [==============================] - 110s 890ms/step - loss: 0.0782 - f1_m: 0.9713 - val_loss: 0.2646 - val_f1_m: 0.9165\n",
      "Epoch 14/30\n",
      "123/123 [==============================] - ETA: 0s - loss: 0.0657 - f1_m: 0.9738\n",
      "Epoch 00014: val_loss did not improve from 0.22065\n",
      "123/123 [==============================] - 114s 929ms/step - loss: 0.0657 - f1_m: 0.9738 - val_loss: 0.2764 - val_f1_m: 0.9156\n",
      "Epoch 15/30\n",
      "123/123 [==============================] - ETA: 0s - loss: 0.0550 - f1_m: 0.9801\n",
      "Epoch 00015: val_loss improved from 0.22065 to 0.20903, saving model to c:\\Users\\Utilizador\\Desktop\\2_semestre_DS\\Deep_Learning\\DL_GroupProject\\DeepLearning_Group_Project\\models\\modelBW.h5\n",
      "123/123 [==============================] - 116s 945ms/step - loss: 0.0550 - f1_m: 0.9801 - val_loss: 0.2090 - val_f1_m: 0.9484\n",
      "Epoch 16/30\n",
      "123/123 [==============================] - ETA: 0s - loss: 0.0473 - f1_m: 0.9862\n",
      "Epoch 00016: val_loss did not improve from 0.20903\n",
      "123/123 [==============================] - 108s 878ms/step - loss: 0.0473 - f1_m: 0.9862 - val_loss: 0.3019 - val_f1_m: 0.9125\n",
      "Epoch 17/30\n",
      "123/123 [==============================] - ETA: 0s - loss: 0.0370 - f1_m: 0.9898\n",
      "Epoch 00017: val_loss did not improve from 0.20903\n",
      "123/123 [==============================] - 107s 874ms/step - loss: 0.0370 - f1_m: 0.9898 - val_loss: 0.7772 - val_f1_m: 0.8478\n",
      "Epoch 18/30\n",
      "123/123 [==============================] - ETA: 0s - loss: 0.0422 - f1_m: 0.9869\n",
      "Epoch 00018: val_loss did not improve from 0.20903\n",
      "123/123 [==============================] - 112s 913ms/step - loss: 0.0422 - f1_m: 0.9869 - val_loss: 0.2752 - val_f1_m: 0.9250\n",
      "Epoch 19/30\n",
      "123/123 [==============================] - ETA: 0s - loss: 0.0371 - f1_m: 0.9882\n",
      "Epoch 00019: val_loss did not improve from 0.20903\n",
      "123/123 [==============================] - 117s 955ms/step - loss: 0.0371 - f1_m: 0.9882 - val_loss: 0.2733 - val_f1_m: 0.9175\n"
     ]
    }
   ],
   "source": [
    "model = models.Sequential()\n",
    "\n",
    "model.add(layers.Conv2D(64, (3, 3), activation='relu', input_shape=(150, 150, 1)))\n",
    "model.add(layers.MaxPooling2D(2, 2))\n",
    "model.add(layers.Conv2D(64, (3, 3), activation='relu'))\n",
    "model.add(layers.MaxPooling2D(2, 2))\n",
    "model.add(layers.Conv2D(32, (3, 3), activation='relu'))\n",
    "model.add(layers.MaxPooling2D(2, 2))\n",
    "model.add(layers.Conv2D(32, (3, 3), activation='relu'))\n",
    "model.add(layers.MaxPooling2D(2, 2))\n",
    "model.add(layers.Flatten())\n",
    "model.add(layers.Dense(50, activation='relu'))\n",
    "model.add(layers.Dense(3, activation='softmax'))\n",
    "\n",
    "model.compile(loss='categorical_crossentropy', optimizer='rmsprop', metrics=[f1_m])\n",
    "\n",
    "history_1st = model.fit_generator(train_generator, callbacks=callbacks_BW, epochs=30, steps_per_epoch=123, validation_steps=16,\n",
    "                                 validation_data=val_generator, workers=2)"
   ]
  },
  {
   "cell_type": "code",
   "execution_count": 30,
   "metadata": {},
   "outputs": [],
   "source": [
    "np.save('models/historyBW.npy',history_1st.history)\n",
    "modelBW = keras.models.load_model('models/modelBW.h5', custom_objects=dependencies)\n",
    "historyBW=np.load('models/historyBW.npy',allow_pickle='TRUE').item()\n",
    "timesBW = time_callback.times\n",
    "save_times(modelBW, timesBW,'modelBW')"
   ]
  },
  {
   "cell_type": "code",
   "execution_count": 31,
   "metadata": {},
   "outputs": [
    {
     "data": {
      "image/png": "[encoded data removed]",
      "text/plain": [
       "<Figure size 432x288 with 1 Axes>"
      ]
     },
     "metadata": {
      "needs_background": "light"
     },
     "output_type": "display_data"
    },
    {
     "data": {
      "image/png": "[encoded data removed]",
      "text/plain": [
       "<Figure size 432x288 with 1 Axes>"
      ]
     },
     "metadata": {
      "needs_background": "light"
     },
     "output_type": "display_data"
    },
    {
     "data": {
      "text/plain": [
       "<Figure size 432x288 with 0 Axes>"
      ]
     },
     "metadata": {},
     "output_type": "display_data"
    }
   ],
   "source": [
    "plot_history(historyBW)"
   ]
  },
  {
   "cell_type": "code",
   "execution_count": 37,
   "metadata": {},
   "outputs": [],
   "source": [
    "callbacks_BW_inc = callback(\"\\modelBW_inc.h5\")\n",
    "#increase the nr of filters through the CNN"
   ]
  },
  {
   "cell_type": "code",
   "execution_count": 38,
   "metadata": {},
   "outputs": [
    {
     "name": "stdout",
     "output_type": "stream",
     "text": [
      "Epoch 1/30\n",
      "123/123 [==============================] - ETA: 0s - loss: 0.8051 - f1_m: 0.5324\n",
      "Epoch 00001: val_loss improved from inf to 0.63319, saving model to c:\\Users\\Utilizador\\Desktop\\2_semestre_DS\\Deep_Learning\\DL_GroupProject\\DeepLearning_Group_Project\\models\\modelBW_inc.h5\n",
      "123/123 [==============================] - 71s 576ms/step - loss: 0.8051 - f1_m: 0.5324 - val_loss: 0.6332 - val_f1_m: 0.6955\n",
      "Epoch 2/30\n",
      "123/123 [==============================] - ETA: 0s - loss: 0.5951 - f1_m: 0.7319\n",
      "Epoch 00002: val_loss improved from 0.63319 to 0.57052, saving model to c:\\Users\\Utilizador\\Desktop\\2_semestre_DS\\Deep_Learning\\DL_GroupProject\\DeepLearning_Group_Project\\models\\modelBW_inc.h5\n",
      "123/123 [==============================] - 58s 470ms/step - loss: 0.5951 - f1_m: 0.7319 - val_loss: 0.5705 - val_f1_m: 0.6973\n",
      "Epoch 3/30\n",
      "123/123 [==============================] - ETA: 0s - loss: 0.4877 - f1_m: 0.7917\n",
      "Epoch 00003: val_loss improved from 0.57052 to 0.52632, saving model to c:\\Users\\Utilizador\\Desktop\\2_semestre_DS\\Deep_Learning\\DL_GroupProject\\DeepLearning_Group_Project\\models\\modelBW_inc.h5\n",
      "123/123 [==============================] - 62s 505ms/step - loss: 0.4877 - f1_m: 0.7917 - val_loss: 0.5263 - val_f1_m: 0.7543\n",
      "Epoch 4/30\n",
      "123/123 [==============================] - ETA: 0s - loss: 0.4005 - f1_m: 0.8360\n",
      "Epoch 00004: val_loss improved from 0.52632 to 0.40282, saving model to c:\\Users\\Utilizador\\Desktop\\2_semestre_DS\\Deep_Learning\\DL_GroupProject\\DeepLearning_Group_Project\\models\\modelBW_inc.h5\n",
      "123/123 [==============================] - 59s 480ms/step - loss: 0.4005 - f1_m: 0.8360 - val_loss: 0.4028 - val_f1_m: 0.8299\n",
      "Epoch 5/30\n",
      "123/123 [==============================] - ETA: 0s - loss: 0.3219 - f1_m: 0.8675\n",
      "Epoch 00005: val_loss improved from 0.40282 to 0.34943, saving model to c:\\Users\\Utilizador\\Desktop\\2_semestre_DS\\Deep_Learning\\DL_GroupProject\\DeepLearning_Group_Project\\models\\modelBW_inc.h5\n",
      "123/123 [==============================] - 59s 482ms/step - loss: 0.3219 - f1_m: 0.8675 - val_loss: 0.3494 - val_f1_m: 0.8527\n",
      "Epoch 6/30\n",
      "123/123 [==============================] - ETA: 0s - loss: 0.2574 - f1_m: 0.8966\n",
      "Epoch 00006: val_loss did not improve from 0.34943\n",
      "123/123 [==============================] - 61s 494ms/step - loss: 0.2574 - f1_m: 0.8966 - val_loss: 0.3729 - val_f1_m: 0.8361\n",
      "Epoch 7/30\n",
      "123/123 [==============================] - ETA: 0s - loss: 0.2085 - f1_m: 0.9138\n",
      "Epoch 00007: val_loss improved from 0.34943 to 0.28960, saving model to c:\\Users\\Utilizador\\Desktop\\2_semestre_DS\\Deep_Learning\\DL_GroupProject\\DeepLearning_Group_Project\\models\\modelBW_inc.h5\n",
      "123/123 [==============================] - 62s 504ms/step - loss: 0.2085 - f1_m: 0.9138 - val_loss: 0.2896 - val_f1_m: 0.8982\n",
      "Epoch 8/30\n",
      "123/123 [==============================] - ETA: 0s - loss: 0.1593 - f1_m: 0.9364\n",
      "Epoch 00008: val_loss improved from 0.28960 to 0.26882, saving model to c:\\Users\\Utilizador\\Desktop\\2_semestre_DS\\Deep_Learning\\DL_GroupProject\\DeepLearning_Group_Project\\models\\modelBW_inc.h5\n",
      "123/123 [==============================] - 69s 557ms/step - loss: 0.1593 - f1_m: 0.9364 - val_loss: 0.2688 - val_f1_m: 0.8859\n",
      "Epoch 9/30\n",
      "123/123 [==============================] - ETA: 0s - loss: 0.1135 - f1_m: 0.9573\n",
      "Epoch 00009: val_loss improved from 0.26882 to 0.21312, saving model to c:\\Users\\Utilizador\\Desktop\\2_semestre_DS\\Deep_Learning\\DL_GroupProject\\DeepLearning_Group_Project\\models\\modelBW_inc.h5\n",
      "123/123 [==============================] - 61s 498ms/step - loss: 0.1135 - f1_m: 0.9573 - val_loss: 0.2131 - val_f1_m: 0.9084\n",
      "Epoch 10/30\n",
      "123/123 [==============================] - ETA: 0s - loss: 0.0970 - f1_m: 0.9648\n",
      "Epoch 00010: val_loss did not improve from 0.21312\n",
      "123/123 [==============================] - 63s 514ms/step - loss: 0.0970 - f1_m: 0.9648 - val_loss: 0.6741 - val_f1_m: 0.8228\n",
      "Epoch 11/30\n",
      "123/123 [==============================] - ETA: 0s - loss: 0.0760 - f1_m: 0.9744\n",
      "Epoch 00011: val_loss did not improve from 0.21312\n",
      "123/123 [==============================] - 73s 591ms/step - loss: 0.0760 - f1_m: 0.9744 - val_loss: 0.2639 - val_f1_m: 0.9250\n",
      "Epoch 12/30\n",
      "123/123 [==============================] - ETA: 0s - loss: 0.0629 - f1_m: 0.9762\n",
      "Epoch 00012: val_loss improved from 0.21312 to 0.18831, saving model to c:\\Users\\Utilizador\\Desktop\\2_semestre_DS\\Deep_Learning\\DL_GroupProject\\DeepLearning_Group_Project\\models\\modelBW_inc.h5\n",
      "123/123 [==============================] - 64s 523ms/step - loss: 0.0629 - f1_m: 0.9762 - val_loss: 0.1883 - val_f1_m: 0.9281\n",
      "Epoch 13/30\n",
      "123/123 [==============================] - ETA: 0s - loss: 0.0541 - f1_m: 0.9840\n",
      "Epoch 00013: val_loss did not improve from 0.18831\n",
      "123/123 [==============================] - 70s 569ms/step - loss: 0.0541 - f1_m: 0.9840 - val_loss: 0.2488 - val_f1_m: 0.9344\n",
      "Epoch 14/30\n",
      "123/123 [==============================] - ETA: 0s - loss: 0.0392 - f1_m: 0.9870\n",
      "Epoch 00014: val_loss did not improve from 0.18831\n",
      "123/123 [==============================] - 67s 547ms/step - loss: 0.0392 - f1_m: 0.9870 - val_loss: 0.2198 - val_f1_m: 0.9192\n",
      "Epoch 15/30\n",
      "123/123 [==============================] - ETA: 0s - loss: 0.0353 - f1_m: 0.9884\n",
      "Epoch 00015: val_loss did not improve from 0.18831\n",
      "123/123 [==============================] - 60s 484ms/step - loss: 0.0353 - f1_m: 0.9884 - val_loss: 0.2012 - val_f1_m: 0.9312\n",
      "Epoch 16/30\n",
      "123/123 [==============================] - ETA: 0s - loss: 0.0239 - f1_m: 0.9919\n",
      "Epoch 00016: val_loss did not improve from 0.18831\n",
      "123/123 [==============================] - 59s 481ms/step - loss: 0.0239 - f1_m: 0.9919 - val_loss: 0.2089 - val_f1_m: 0.9469\n"
     ]
    }
   ],
   "source": [
    "model2 = models.Sequential()\n",
    "\n",
    "model2.add(layers.Conv2D(32, (3, 3), activation='relu', input_shape=(150, 150, 1)))\n",
    "model2.add(layers.MaxPooling2D(2, 2))\n",
    "model2.add(layers.Conv2D(32, (3, 3), activation='relu'))\n",
    "model2.add(layers.MaxPooling2D(2, 2))\n",
    "model2.add(layers.Conv2D(64, (3, 3), activation='relu'))\n",
    "model2.add(layers.MaxPooling2D(2, 2))\n",
    "model2.add(layers.Conv2D(64, (3, 3), activation='relu'))\n",
    "model2.add(layers.MaxPooling2D(2, 2))\n",
    "model2.add(layers.Flatten())\n",
    "model2.add(layers.Dense(100, activation='relu'))\n",
    "model2.add(layers.Dense(3, activation='softmax'))\n",
    "\n",
    "model2.compile(loss='categorical_crossentropy', optimizer='rmsprop', metrics=[f1_m])\n",
    "\n",
    "history_2 = model2.fit_generator(train_generator, callbacks=callbacks_BW_inc, epochs=30, steps_per_epoch=123, validation_steps=16,\n",
    "                                 validation_data=val_generator, workers=2)"
   ]
  },
  {
   "cell_type": "code",
   "execution_count": 39,
   "metadata": {},
   "outputs": [],
   "source": [
    "np.save('models/historyBW_inc.npy',history_2.history)\n",
    "modelBW_inc = keras.models.load_model('models/modelBW_inc.h5', custom_objects=dependencies)\n",
    "historyBW_inc=np.load('models/historyBW_inc.npy',allow_pickle='TRUE').item()\n",
    "timesBW = time_callback.times\n",
    "save_times(modelBW_inc, timesBW,'modelBW_inc')"
   ]
  },
  {
   "cell_type": "code",
   "execution_count": 40,
   "metadata": {},
   "outputs": [
    {
     "data": {
      "image/png": "[encoded data removed]",
      "text/plain": [
       "<Figure size 432x288 with 1 Axes>"
      ]
     },
     "metadata": {
      "needs_background": "light"
     },
     "output_type": "display_data"
    },
    {
     "data": {
      "image/png": "[encoded data removed]",
      "text/plain": [
       "<Figure size 432x288 with 1 Axes>"
      ]
     },
     "metadata": {
      "needs_background": "light"
     },
     "output_type": "display_data"
    },
    {
     "data": {
      "text/plain": [
       "<Figure size 432x288 with 0 Axes>"
      ]
     },
     "metadata": {},
     "output_type": "display_data"
    }
   ],
   "source": [
    "plot_history(historyBW_inc)"
   ]
  },
  {
   "cell_type": "markdown",
   "metadata": {},
   "source": [
    "# REDUCING THE NUMBER OF LAYERS"
   ]
  },
  {
   "cell_type": "code",
   "execution_count": 41,
   "metadata": {},
   "outputs": [],
   "source": [
    "callbacks_BW_simple = callback(\"\\modelBW_simple.h5\")\n",
    "#increase the nr of filters through the CNN"
   ]
  },
  {
   "cell_type": "code",
   "execution_count": 42,
   "metadata": {},
   "outputs": [
    {
     "name": "stdout",
     "output_type": "stream",
     "text": [
      "Epoch 1/30\n",
      "123/123 [==============================] - ETA: 0s - loss: 0.7673 - f1_m: 0.5921\n",
      "Epoch 00001: val_loss improved from inf to 0.65803, saving model to c:\\Users\\Utilizador\\Desktop\\2_semestre_DS\\Deep_Learning\\DL_GroupProject\\DeepLearning_Group_Project\\models\\modelBW_simple.h5\n",
      "123/123 [==============================] - 76s 619ms/step - loss: 0.7673 - f1_m: 0.5921 - val_loss: 0.6580 - val_f1_m: 0.7235\n",
      "Epoch 2/30\n",
      "123/123 [==============================] - ETA: 0s - loss: 0.5336 - f1_m: 0.7644\n",
      "Epoch 00002: val_loss improved from 0.65803 to 0.47772, saving model to c:\\Users\\Utilizador\\Desktop\\2_semestre_DS\\Deep_Learning\\DL_GroupProject\\DeepLearning_Group_Project\\models\\modelBW_simple.h5\n",
      "123/123 [==============================] - 69s 563ms/step - loss: 0.5336 - f1_m: 0.7644 - val_loss: 0.4777 - val_f1_m: 0.7817\n",
      "Epoch 3/30\n",
      "123/123 [==============================] - ETA: 0s - loss: 0.3725 - f1_m: 0.8408\n",
      "Epoch 00003: val_loss improved from 0.47772 to 0.40945, saving model to c:\\Users\\Utilizador\\Desktop\\2_semestre_DS\\Deep_Learning\\DL_GroupProject\\DeepLearning_Group_Project\\models\\modelBW_simple.h5\n",
      "123/123 [==============================] - 80s 649ms/step - loss: 0.3725 - f1_m: 0.8408 - val_loss: 0.4094 - val_f1_m: 0.8278\n",
      "Epoch 4/30\n",
      "123/123 [==============================] - ETA: 0s - loss: 0.2553 - f1_m: 0.8965\n",
      "Epoch 00004: val_loss improved from 0.40945 to 0.28477, saving model to c:\\Users\\Utilizador\\Desktop\\2_semestre_DS\\Deep_Learning\\DL_GroupProject\\DeepLearning_Group_Project\\models\\modelBW_simple.h5\n",
      "123/123 [==============================] - 80s 653ms/step - loss: 0.2553 - f1_m: 0.8965 - val_loss: 0.2848 - val_f1_m: 0.8887\n",
      "Epoch 5/30\n",
      "123/123 [==============================] - ETA: 0s - loss: 0.1635 - f1_m: 0.9368\n",
      "Epoch 00005: val_loss improved from 0.28477 to 0.21020, saving model to c:\\Users\\Utilizador\\Desktop\\2_semestre_DS\\Deep_Learning\\DL_GroupProject\\DeepLearning_Group_Project\\models\\modelBW_simple.h5\n",
      "123/123 [==============================] - 81s 656ms/step - loss: 0.1635 - f1_m: 0.9368 - val_loss: 0.2102 - val_f1_m: 0.9116\n",
      "Epoch 6/30\n",
      "123/123 [==============================] - ETA: 0s - loss: 0.1228 - f1_m: 0.9587\n",
      "Epoch 00006: val_loss did not improve from 0.21020\n",
      "123/123 [==============================] - 80s 653ms/step - loss: 0.1228 - f1_m: 0.9587 - val_loss: 0.2401 - val_f1_m: 0.9085\n",
      "Epoch 7/30\n",
      "123/123 [==============================] - ETA: 0s - loss: 0.0912 - f1_m: 0.9644\n",
      "Epoch 00007: val_loss did not improve from 0.21020\n",
      "123/123 [==============================] - 83s 679ms/step - loss: 0.0912 - f1_m: 0.9644 - val_loss: 0.2282 - val_f1_m: 0.9192\n",
      "Epoch 8/30\n",
      "123/123 [==============================] - ETA: 0s - loss: 0.0650 - f1_m: 0.9768\n",
      "Epoch 00008: val_loss improved from 0.21020 to 0.19091, saving model to c:\\Users\\Utilizador\\Desktop\\2_semestre_DS\\Deep_Learning\\DL_GroupProject\\DeepLearning_Group_Project\\models\\modelBW_simple.h5\n",
      "123/123 [==============================] - 84s 686ms/step - loss: 0.0650 - f1_m: 0.9768 - val_loss: 0.1909 - val_f1_m: 0.9482\n",
      "Epoch 9/30\n",
      "123/123 [==============================] - ETA: 0s - loss: 0.0437 - f1_m: 0.9858\n",
      "Epoch 00009: val_loss did not improve from 0.19091\n",
      "123/123 [==============================] - 83s 677ms/step - loss: 0.0437 - f1_m: 0.9858 - val_loss: 0.2983 - val_f1_m: 0.9062\n",
      "Epoch 10/30\n",
      "123/123 [==============================] - ETA: 0s - loss: 0.0299 - f1_m: 0.9895\n",
      "Epoch 00010: val_loss improved from 0.19091 to 0.16922, saving model to c:\\Users\\Utilizador\\Desktop\\2_semestre_DS\\Deep_Learning\\DL_GroupProject\\DeepLearning_Group_Project\\models\\modelBW_simple.h5\n",
      "123/123 [==============================] - 78s 633ms/step - loss: 0.0299 - f1_m: 0.9895 - val_loss: 0.1692 - val_f1_m: 0.9406\n",
      "Epoch 11/30\n",
      "123/123 [==============================] - ETA: 0s - loss: 0.0224 - f1_m: 0.9931\n",
      "Epoch 00011: val_loss did not improve from 0.16922\n",
      "123/123 [==============================] - 72s 586ms/step - loss: 0.0224 - f1_m: 0.9931 - val_loss: 0.2078 - val_f1_m: 0.9379\n",
      "Epoch 12/30\n",
      "123/123 [==============================] - ETA: 0s - loss: 0.0165 - f1_m: 0.9931\n",
      "Epoch 00012: val_loss improved from 0.16922 to 0.16301, saving model to c:\\Users\\Utilizador\\Desktop\\2_semestre_DS\\Deep_Learning\\DL_GroupProject\\DeepLearning_Group_Project\\models\\modelBW_simple.h5\n",
      "123/123 [==============================] - 82s 670ms/step - loss: 0.0165 - f1_m: 0.9931 - val_loss: 0.1630 - val_f1_m: 0.9640\n",
      "Epoch 13/30\n",
      "123/123 [==============================] - ETA: 0s - loss: 0.0169 - f1_m: 0.9931\n",
      "Epoch 00013: val_loss did not improve from 0.16301\n",
      "123/123 [==============================] - 81s 658ms/step - loss: 0.0169 - f1_m: 0.9931 - val_loss: 0.2388 - val_f1_m: 0.9531\n",
      "Epoch 14/30\n",
      "123/123 [==============================] - ETA: 0s - loss: 0.0207 - f1_m: 0.9943\n",
      "Epoch 00014: val_loss did not improve from 0.16301\n",
      "123/123 [==============================] - 83s 677ms/step - loss: 0.0207 - f1_m: 0.9943 - val_loss: 0.2467 - val_f1_m: 0.9594\n",
      "Epoch 15/30\n",
      "123/123 [==============================] - ETA: 0s - loss: 0.0065 - f1_m: 0.9972\n",
      "Epoch 00015: val_loss improved from 0.16301 to 0.16150, saving model to c:\\Users\\Utilizador\\Desktop\\2_semestre_DS\\Deep_Learning\\DL_GroupProject\\DeepLearning_Group_Project\\models\\modelBW_simple.h5\n",
      "123/123 [==============================] - 73s 594ms/step - loss: 0.0065 - f1_m: 0.9972 - val_loss: 0.1615 - val_f1_m: 0.9562\n",
      "Epoch 16/30\n",
      "123/123 [==============================] - ETA: 0s - loss: 0.0171 - f1_m: 0.9943\n",
      "Epoch 00016: val_loss did not improve from 0.16150\n",
      "123/123 [==============================] - 75s 612ms/step - loss: 0.0171 - f1_m: 0.9943 - val_loss: 0.2068 - val_f1_m: 0.9687\n",
      "Epoch 17/30\n",
      "123/123 [==============================] - ETA: 0s - loss: 0.0096 - f1_m: 0.9973\n",
      "Epoch 00017: val_loss improved from 0.16150 to 0.14671, saving model to c:\\Users\\Utilizador\\Desktop\\2_semestre_DS\\Deep_Learning\\DL_GroupProject\\DeepLearning_Group_Project\\models\\modelBW_simple.h5\n",
      "123/123 [==============================] - 80s 651ms/step - loss: 0.0096 - f1_m: 0.9973 - val_loss: 0.1467 - val_f1_m: 0.9750\n",
      "Epoch 18/30\n",
      "123/123 [==============================] - ETA: 0s - loss: 0.0278 - f1_m: 0.9951\n",
      "Epoch 00018: val_loss did not improve from 0.14671\n",
      "123/123 [==============================] - 83s 673ms/step - loss: 0.0278 - f1_m: 0.9951 - val_loss: 0.2285 - val_f1_m: 0.9281\n",
      "Epoch 19/30\n",
      "123/123 [==============================] - ETA: 0s - loss: 0.0029 - f1_m: 0.9988\n",
      "Epoch 00019: val_loss did not improve from 0.14671\n",
      "123/123 [==============================] - 78s 632ms/step - loss: 0.0029 - f1_m: 0.9988 - val_loss: 0.2323 - val_f1_m: 0.9437\n",
      "Epoch 20/30\n",
      "123/123 [==============================] - ETA: 0s - loss: 0.0126 - f1_m: 0.9980\n",
      "Epoch 00020: val_loss did not improve from 0.14671\n",
      "123/123 [==============================] - 76s 618ms/step - loss: 0.0126 - f1_m: 0.9980 - val_loss: 0.1984 - val_f1_m: 0.9625\n",
      "Epoch 21/30\n",
      "123/123 [==============================] - ETA: 0s - loss: 0.0156 - f1_m: 0.9967\n",
      "Epoch 00021: val_loss did not improve from 0.14671\n",
      "123/123 [==============================] - 78s 635ms/step - loss: 0.0156 - f1_m: 0.9967 - val_loss: 0.3117 - val_f1_m: 0.9562\n"
     ]
    }
   ],
   "source": [
    "model3 = models.Sequential()\n",
    "\n",
    "model3.add(layers.Conv2D(32, (3, 3), activation='relu', input_shape=(150, 150, 1)))\n",
    "model3.add(layers.MaxPooling2D(2, 2))\n",
    "model3.add(layers.Conv2D(64, (3, 3), activation='relu'))\n",
    "model3.add(layers.MaxPooling2D(2, 2))\n",
    "model3.add(layers.Conv2D(64, (3, 3), activation='relu'))\n",
    "model3.add(layers.MaxPooling2D(2, 2))\n",
    "model3.add(layers.Flatten())\n",
    "model3.add(layers.Dense(100, activation='relu'))\n",
    "model3.add(layers.Dense(3, activation='softmax'))\n",
    "\n",
    "model3.compile(loss='categorical_crossentropy', optimizer='rmsprop', metrics=[f1_m])\n",
    "\n",
    "history_3 = model3.fit_generator(train_generator, callbacks=callbacks_BW_simple, epochs=30, steps_per_epoch=123, validation_steps=16,\n",
    "                                 validation_data=val_generator, workers=2)"
   ]
  },
  {
   "cell_type": "code",
   "execution_count": 43,
   "metadata": {},
   "outputs": [],
   "source": [
    "np.save('models/historyBW_simple.npy',history_3.history)\n",
    "modelBW_simple = keras.models.load_model('models/modelBW_simple.h5', custom_objects=dependencies)\n",
    "historyBW_simple=np.load('models/historyBW_simple.npy',allow_pickle='TRUE').item()\n",
    "timesBW_simple = time_callback.times\n",
    "save_times(modelBW_simple, timesBW_simple,'modelBW_simple')"
   ]
  },
  {
   "cell_type": "code",
   "execution_count": 44,
   "metadata": {},
   "outputs": [
    {
     "data": {
      "image/png": "[encoded data removed]",
      "text/plain": [
       "<Figure size 432x288 with 1 Axes>"
      ]
     },
     "metadata": {
      "needs_background": "light"
     },
     "output_type": "display_data"
    },
    {
     "data": {
      "image/png": "[encoded data removed]",
      "text/plain": [
       "<Figure size 432x288 with 1 Axes>"
      ]
     },
     "metadata": {
      "needs_background": "light"
     },
     "output_type": "display_data"
    },
    {
     "data": {
      "text/plain": [
       "<Figure size 432x288 with 0 Axes>"
      ]
     },
     "metadata": {},
     "output_type": "display_data"
    }
   ],
   "source": [
    "plot_history(historyBW_simple)"
   ]
  },
  {
   "cell_type": "markdown",
   "metadata": {},
   "source": [
    "# DATA AUGMENTATION AND DROP OUT 0.5"
   ]
  },
  {
   "cell_type": "code",
   "execution_count": 46,
   "metadata": {},
   "outputs": [],
   "source": [
    "callbacks_BW_aug_5 = callback(\"\\modelBW_aug.h5\")\n",
    "# aug and dropout"
   ]
  },
  {
   "cell_type": "code",
   "execution_count": 47,
   "metadata": {},
   "outputs": [
    {
     "name": "stdout",
     "output_type": "stream",
     "text": [
      "Epoch 1/30\n",
      "123/123 [==============================] - ETA: 0s - loss: 0.8644 - f1_m: 0.5218\n",
      "Epoch 00001: val_loss improved from inf to 0.80394, saving model to c:\\Users\\Utilizador\\Desktop\\2_semestre_DS\\Deep_Learning\\DL_GroupProject\\DeepLearning_Group_Project\\models\\modelBW_aug.h5\n",
      "123/123 [==============================] - 89s 723ms/step - loss: 0.8644 - f1_m: 0.5218 - val_loss: 0.8039 - val_f1_m: 0.5058\n",
      "Epoch 2/30\n",
      "123/123 [==============================] - ETA: 0s - loss: 0.6806 - f1_m: 0.6723\n",
      "Epoch 00002: val_loss improved from 0.80394 to 0.60393, saving model to c:\\Users\\Utilizador\\Desktop\\2_semestre_DS\\Deep_Learning\\DL_GroupProject\\DeepLearning_Group_Project\\models\\modelBW_aug.h5\n",
      "123/123 [==============================] - 74s 601ms/step - loss: 0.6806 - f1_m: 0.6723 - val_loss: 0.6039 - val_f1_m: 0.7361\n",
      "Epoch 3/30\n",
      "123/123 [==============================] - ETA: 0s - loss: 0.6048 - f1_m: 0.7275\n",
      "Epoch 00003: val_loss improved from 0.60393 to 0.55937, saving model to c:\\Users\\Utilizador\\Desktop\\2_semestre_DS\\Deep_Learning\\DL_GroupProject\\DeepLearning_Group_Project\\models\\modelBW_aug.h5\n",
      "123/123 [==============================] - 74s 603ms/step - loss: 0.6048 - f1_m: 0.7275 - val_loss: 0.5594 - val_f1_m: 0.7391\n",
      "Epoch 4/30\n",
      "123/123 [==============================] - ETA: 0s - loss: 0.5406 - f1_m: 0.7653\n",
      "Epoch 00004: val_loss did not improve from 0.55937\n",
      "123/123 [==============================] - 80s 653ms/step - loss: 0.5406 - f1_m: 0.7653 - val_loss: 0.6367 - val_f1_m: 0.6785\n",
      "Epoch 5/30\n",
      "123/123 [==============================] - ETA: 0s - loss: 0.4985 - f1_m: 0.7740\n",
      "Epoch 00005: val_loss improved from 0.55937 to 0.48901, saving model to c:\\Users\\Utilizador\\Desktop\\2_semestre_DS\\Deep_Learning\\DL_GroupProject\\DeepLearning_Group_Project\\models\\modelBW_aug.h5\n",
      "123/123 [==============================] - 94s 763ms/step - loss: 0.4985 - f1_m: 0.7740 - val_loss: 0.4890 - val_f1_m: 0.7669\n",
      "Epoch 6/30\n",
      "123/123 [==============================] - ETA: 0s - loss: 0.4650 - f1_m: 0.7924\n",
      "Epoch 00006: val_loss improved from 0.48901 to 0.43739, saving model to c:\\Users\\Utilizador\\Desktop\\2_semestre_DS\\Deep_Learning\\DL_GroupProject\\DeepLearning_Group_Project\\models\\modelBW_aug.h5\n",
      "123/123 [==============================] - 74s 600ms/step - loss: 0.4650 - f1_m: 0.7924 - val_loss: 0.4374 - val_f1_m: 0.7997\n",
      "Epoch 7/30\n",
      "123/123 [==============================] - ETA: 0s - loss: 0.4404 - f1_m: 0.8088\n",
      "Epoch 00007: val_loss improved from 0.43739 to 0.42703, saving model to c:\\Users\\Utilizador\\Desktop\\2_semestre_DS\\Deep_Learning\\DL_GroupProject\\DeepLearning_Group_Project\\models\\modelBW_aug.h5\n",
      "123/123 [==============================] - 81s 655ms/step - loss: 0.4404 - f1_m: 0.8088 - val_loss: 0.4270 - val_f1_m: 0.8255\n",
      "Epoch 8/30\n",
      "123/123 [==============================] - ETA: 0s - loss: 0.3938 - f1_m: 0.8366\n",
      "Epoch 00008: val_loss did not improve from 0.42703\n",
      "123/123 [==============================] - 76s 619ms/step - loss: 0.3938 - f1_m: 0.8366 - val_loss: 0.4543 - val_f1_m: 0.8114\n",
      "Epoch 9/30\n",
      "123/123 [==============================] - ETA: 0s - loss: 0.4035 - f1_m: 0.8295\n",
      "Epoch 00009: val_loss did not improve from 0.42703\n",
      "123/123 [==============================] - 80s 653ms/step - loss: 0.4035 - f1_m: 0.8295 - val_loss: 0.4363 - val_f1_m: 0.7921\n",
      "Epoch 10/30\n",
      "123/123 [==============================] - ETA: 0s - loss: 0.3625 - f1_m: 0.8516\n",
      "Epoch 00010: val_loss did not improve from 0.42703\n",
      "123/123 [==============================] - 77s 630ms/step - loss: 0.3625 - f1_m: 0.8516 - val_loss: 0.5096 - val_f1_m: 0.7595\n",
      "Epoch 11/30\n",
      "123/123 [==============================] - ETA: 0s - loss: 0.3520 - f1_m: 0.8598\n",
      "Epoch 00011: val_loss improved from 0.42703 to 0.38073, saving model to c:\\Users\\Utilizador\\Desktop\\2_semestre_DS\\Deep_Learning\\DL_GroupProject\\DeepLearning_Group_Project\\models\\modelBW_aug.h5\n",
      "123/123 [==============================] - 78s 636ms/step - loss: 0.3520 - f1_m: 0.8598 - val_loss: 0.3807 - val_f1_m: 0.8607\n",
      "Epoch 12/30\n",
      "123/123 [==============================] - ETA: 0s - loss: 0.3408 - f1_m: 0.8604\n",
      "Epoch 00012: val_loss improved from 0.38073 to 0.35709, saving model to c:\\Users\\Utilizador\\Desktop\\2_semestre_DS\\Deep_Learning\\DL_GroupProject\\DeepLearning_Group_Project\\models\\modelBW_aug.h5\n",
      "123/123 [==============================] - 79s 639ms/step - loss: 0.3408 - f1_m: 0.8604 - val_loss: 0.3571 - val_f1_m: 0.8606\n",
      "Epoch 13/30\n",
      "123/123 [==============================] - ETA: 0s - loss: 0.3304 - f1_m: 0.8615\n",
      "Epoch 00013: val_loss did not improve from 0.35709\n",
      "123/123 [==============================] - 90s 734ms/step - loss: 0.3304 - f1_m: 0.8615 - val_loss: 0.4596 - val_f1_m: 0.7930\n",
      "Epoch 14/30\n",
      "123/123 [==============================] - ETA: 0s - loss: 0.3092 - f1_m: 0.8782\n",
      "Epoch 00014: val_loss did not improve from 0.35709\n",
      "123/123 [==============================] - 92s 745ms/step - loss: 0.3092 - f1_m: 0.8782 - val_loss: 0.3957 - val_f1_m: 0.8230\n",
      "Epoch 15/30\n",
      "123/123 [==============================] - ETA: 0s - loss: 0.3062 - f1_m: 0.8674\n",
      "Epoch 00015: val_loss improved from 0.35709 to 0.33330, saving model to c:\\Users\\Utilizador\\Desktop\\2_semestre_DS\\Deep_Learning\\DL_GroupProject\\DeepLearning_Group_Project\\models\\modelBW_aug.h5\n",
      "123/123 [==============================] - 98s 799ms/step - loss: 0.3062 - f1_m: 0.8674 - val_loss: 0.3333 - val_f1_m: 0.8857\n",
      "Epoch 16/30\n",
      "123/123 [==============================] - ETA: 0s - loss: 0.2969 - f1_m: 0.8859\n",
      "Epoch 00016: val_loss did not improve from 0.33330\n",
      "123/123 [==============================] - 97s 791ms/step - loss: 0.2969 - f1_m: 0.8859 - val_loss: 0.3548 - val_f1_m: 0.8656\n",
      "Epoch 17/30\n",
      "123/123 [==============================] - ETA: 0s - loss: 0.2686 - f1_m: 0.8864\n",
      "Epoch 00017: val_loss improved from 0.33330 to 0.33298, saving model to c:\\Users\\Utilizador\\Desktop\\2_semestre_DS\\Deep_Learning\\DL_GroupProject\\DeepLearning_Group_Project\\models\\modelBW_aug.h5\n",
      "123/123 [==============================] - 81s 660ms/step - loss: 0.2686 - f1_m: 0.8864 - val_loss: 0.3330 - val_f1_m: 0.8861\n",
      "Epoch 18/30\n",
      "123/123 [==============================] - ETA: 0s - loss: 0.2664 - f1_m: 0.8916\n",
      "Epoch 00018: val_loss did not improve from 0.33298\n",
      "123/123 [==============================] - 89s 726ms/step - loss: 0.2664 - f1_m: 0.8916 - val_loss: 0.3722 - val_f1_m: 0.8707\n",
      "Epoch 19/30\n",
      "123/123 [==============================] - ETA: 0s - loss: 0.2665 - f1_m: 0.8933\n",
      "Epoch 00019: val_loss improved from 0.33298 to 0.30374, saving model to c:\\Users\\Utilizador\\Desktop\\2_semestre_DS\\Deep_Learning\\DL_GroupProject\\DeepLearning_Group_Project\\models\\modelBW_aug.h5\n",
      "123/123 [==============================] - 86s 702ms/step - loss: 0.2665 - f1_m: 0.8933 - val_loss: 0.3037 - val_f1_m: 0.8907\n",
      "Epoch 20/30\n",
      "123/123 [==============================] - ETA: 0s - loss: 0.2629 - f1_m: 0.8952\n",
      "Epoch 00020: val_loss improved from 0.30374 to 0.29895, saving model to c:\\Users\\Utilizador\\Desktop\\2_semestre_DS\\Deep_Learning\\DL_GroupProject\\DeepLearning_Group_Project\\models\\modelBW_aug.h5\n",
      "123/123 [==============================] - 84s 684ms/step - loss: 0.2629 - f1_m: 0.8952 - val_loss: 0.2990 - val_f1_m: 0.8808\n",
      "Epoch 21/30\n",
      "123/123 [==============================] - ETA: 0s - loss: 0.2507 - f1_m: 0.9018\n",
      "Epoch 00021: val_loss did not improve from 0.29895\n",
      "123/123 [==============================] - 86s 702ms/step - loss: 0.2507 - f1_m: 0.9018 - val_loss: 0.3514 - val_f1_m: 0.8736\n",
      "Epoch 22/30\n",
      "123/123 [==============================] - ETA: 0s - loss: 0.2424 - f1_m: 0.9050\n",
      "Epoch 00022: val_loss improved from 0.29895 to 0.25484, saving model to c:\\Users\\Utilizador\\Desktop\\2_semestre_DS\\Deep_Learning\\DL_GroupProject\\DeepLearning_Group_Project\\models\\modelBW_aug.h5\n",
      "123/123 [==============================] - 85s 691ms/step - loss: 0.2424 - f1_m: 0.9050 - val_loss: 0.2548 - val_f1_m: 0.8945\n",
      "Epoch 23/30\n",
      "123/123 [==============================] - ETA: 0s - loss: 0.2292 - f1_m: 0.9117\n",
      "Epoch 00023: val_loss did not improve from 0.25484\n",
      "123/123 [==============================] - 85s 692ms/step - loss: 0.2292 - f1_m: 0.9117 - val_loss: 0.3135 - val_f1_m: 0.8785\n",
      "Epoch 24/30\n",
      "123/123 [==============================] - ETA: 0s - loss: 0.2232 - f1_m: 0.9183\n",
      "Epoch 00024: val_loss improved from 0.25484 to 0.24669, saving model to c:\\Users\\Utilizador\\Desktop\\2_semestre_DS\\Deep_Learning\\DL_GroupProject\\DeepLearning_Group_Project\\models\\modelBW_aug.h5\n",
      "123/123 [==============================] - 83s 675ms/step - loss: 0.2232 - f1_m: 0.9183 - val_loss: 0.2467 - val_f1_m: 0.9219\n",
      "Epoch 25/30\n",
      "123/123 [==============================] - ETA: 0s - loss: 0.2184 - f1_m: 0.9172\n",
      "Epoch 00025: val_loss did not improve from 0.24669\n",
      "123/123 [==============================] - 84s 680ms/step - loss: 0.2184 - f1_m: 0.9172 - val_loss: 0.3186 - val_f1_m: 0.8937\n",
      "Epoch 26/30\n",
      "123/123 [==============================] - ETA: 0s - loss: 0.2098 - f1_m: 0.9115\n",
      "Epoch 00026: val_loss did not improve from 0.24669\n",
      "123/123 [==============================] - 83s 672ms/step - loss: 0.2098 - f1_m: 0.9115 - val_loss: 0.2772 - val_f1_m: 0.9036\n",
      "Epoch 27/30\n",
      "123/123 [==============================] - ETA: 0s - loss: 0.1924 - f1_m: 0.9301\n",
      "Epoch 00027: val_loss did not improve from 0.24669\n",
      "123/123 [==============================] - 82s 667ms/step - loss: 0.1924 - f1_m: 0.9301 - val_loss: 0.2554 - val_f1_m: 0.9215\n",
      "Epoch 28/30\n",
      "123/123 [==============================] - ETA: 0s - loss: 0.1929 - f1_m: 0.9234\n",
      "Epoch 00028: val_loss did not improve from 0.24669\n",
      "123/123 [==============================] - 83s 675ms/step - loss: 0.1929 - f1_m: 0.9234 - val_loss: 0.3208 - val_f1_m: 0.8374\n"
     ]
    }
   ],
   "source": [
    "model4 = models.Sequential()\n",
    "\n",
    "model4.add(layers.Conv2D(32, (3, 3), activation='relu', input_shape=(150, 150, 1)))\n",
    "model4.add(layers.MaxPooling2D(2, 2))\n",
    "model4.add(layers.Conv2D(64, (3, 3), activation='relu'))\n",
    "model4.add(layers.MaxPooling2D(2, 2))\n",
    "model4.add(layers.Conv2D(64, (3, 3), activation='relu'))\n",
    "model4.add(layers.MaxPooling2D(2, 2))\n",
    "model4.add(layers.Flatten())\n",
    "model4.add(layers.Dropout(0.5))\n",
    "model4.add(layers.Dense(100, activation='relu'))\n",
    "model4.add(layers.Dense(3, activation='softmax'))\n",
    "\n",
    "model4.compile(loss='categorical_crossentropy', optimizer='rmsprop', metrics=[f1_m])\n",
    "\n",
    "history_4 = model4.fit_generator(train_generator_aug, callbacks=callbacks_BW_aug_5, epochs=30, steps_per_epoch=123, validation_steps=16,\n",
    "                                 validation_data=val_generator, workers=2)"
   ]
  },
  {
   "cell_type": "code",
   "execution_count": 24,
   "metadata": {},
   "outputs": [],
   "source": [
    "np.save('models/historyBW_aug_5.npy',history_4.history)\n",
    "modelBW_aug_5 = keras.models.load_model('models/modelBW_aug_5.h5', custom_objects=dependencies)\n",
    "historyBW_aug_5=np.load('models/historyBW_aug_5.npy',allow_pickle='TRUE').item()\n",
    "timesBW_aug_5 = time_callback.times\n",
    "save_times(modelBW_aug_5, timesBW_aug_5,'modelBW_aug')"
   ]
  },
  {
   "cell_type": "markdown",
   "metadata": {},
   "source": [
    "# TRANSFER LEARNING"
   ]
  },
  {
   "cell_type": "code",
   "execution_count": 15,
   "metadata": {},
   "outputs": [
    {
     "ename": "ValueError",
     "evalue": "When setting `include_top=True` and loading `imagenet` weights, `input_shape` should be (224, 224, 3).",
     "output_type": "error",
     "traceback": [
      "\u001b[1;31m---------------------------------------------------------------------------\u001b[0m",
      "\u001b[1;31mValueError\u001b[0m                                Traceback (most recent call last)",
      "\u001b[1;32mC:\\Users\\UTILIZ~1\\AppData\\Local\\Temp/ipykernel_4224/2105229695.py\u001b[0m in \u001b[0;36m<module>\u001b[1;34m\u001b[0m\n\u001b[1;32m----> 1\u001b[1;33m pre_trained=tf.keras.applications.resnet50.ResNet50(\n\u001b[0m\u001b[0;32m      2\u001b[0m                                                     \u001b[0minclude_top\u001b[0m\u001b[1;33m=\u001b[0m\u001b[1;32mTrue\u001b[0m\u001b[1;33m,\u001b[0m\u001b[1;33m\u001b[0m\u001b[1;33m\u001b[0m\u001b[0m\n\u001b[0;32m      3\u001b[0m                                                     \u001b[0minput_shape\u001b[0m\u001b[1;33m=\u001b[0m\u001b[1;33m(\u001b[0m\u001b[1;36m150\u001b[0m\u001b[1;33m,\u001b[0m\u001b[1;36m150\u001b[0m\u001b[1;33m,\u001b[0m\u001b[1;36m1\u001b[0m\u001b[1;33m)\u001b[0m\u001b[1;33m,\u001b[0m\u001b[1;33m\u001b[0m\u001b[1;33m\u001b[0m\u001b[0m\n\u001b[0;32m      4\u001b[0m                                                     \u001b[0mweights\u001b[0m\u001b[1;33m=\u001b[0m\u001b[1;34m'imagenet'\u001b[0m\u001b[1;33m,\u001b[0m\u001b[1;33m\u001b[0m\u001b[1;33m\u001b[0m\u001b[0m\n\u001b[0;32m      5\u001b[0m                                                     \u001b[0minput_tensor\u001b[0m\u001b[1;33m=\u001b[0m\u001b[1;32mNone\u001b[0m\u001b[1;33m,\u001b[0m\u001b[1;33m\u001b[0m\u001b[1;33m\u001b[0m\u001b[0m\n",
      "\u001b[1;32m~\\anaconda3\\envs\\deeplearning\\lib\\site-packages\\tensorflow\\python\\keras\\applications\\resnet.py\u001b[0m in \u001b[0;36mResNet50\u001b[1;34m(include_top, weights, input_tensor, input_shape, pooling, classes, **kwargs)\u001b[0m\n\u001b[0;32m    472\u001b[0m     \u001b[1;32mreturn\u001b[0m \u001b[0mstack1\u001b[0m\u001b[1;33m(\u001b[0m\u001b[0mx\u001b[0m\u001b[1;33m,\u001b[0m \u001b[1;36m512\u001b[0m\u001b[1;33m,\u001b[0m \u001b[1;36m3\u001b[0m\u001b[1;33m,\u001b[0m \u001b[0mname\u001b[0m\u001b[1;33m=\u001b[0m\u001b[1;34m'conv5'\u001b[0m\u001b[1;33m)\u001b[0m\u001b[1;33m\u001b[0m\u001b[1;33m\u001b[0m\u001b[0m\n\u001b[0;32m    473\u001b[0m \u001b[1;33m\u001b[0m\u001b[0m\n\u001b[1;32m--> 474\u001b[1;33m   return ResNet(stack_fn, False, True, 'resnet50', include_top, weights,\n\u001b[0m\u001b[0;32m    475\u001b[0m                 input_tensor, input_shape, pooling, classes, **kwargs)\n\u001b[0;32m    476\u001b[0m \u001b[1;33m\u001b[0m\u001b[0m\n",
      "\u001b[1;32m~\\anaconda3\\envs\\deeplearning\\lib\\site-packages\\tensorflow\\python\\keras\\applications\\resnet.py\u001b[0m in \u001b[0;36mResNet\u001b[1;34m(stack_fn, preact, use_bias, model_name, include_top, weights, input_tensor, input_shape, pooling, classes, classifier_activation, **kwargs)\u001b[0m\n\u001b[0;32m    149\u001b[0m \u001b[1;33m\u001b[0m\u001b[0m\n\u001b[0;32m    150\u001b[0m   \u001b[1;31m# Determine proper input shape\u001b[0m\u001b[1;33m\u001b[0m\u001b[1;33m\u001b[0m\u001b[1;33m\u001b[0m\u001b[0m\n\u001b[1;32m--> 151\u001b[1;33m   input_shape = imagenet_utils.obtain_input_shape(\n\u001b[0m\u001b[0;32m    152\u001b[0m       \u001b[0minput_shape\u001b[0m\u001b[1;33m,\u001b[0m\u001b[1;33m\u001b[0m\u001b[1;33m\u001b[0m\u001b[0m\n\u001b[0;32m    153\u001b[0m       \u001b[0mdefault_size\u001b[0m\u001b[1;33m=\u001b[0m\u001b[1;36m224\u001b[0m\u001b[1;33m,\u001b[0m\u001b[1;33m\u001b[0m\u001b[1;33m\u001b[0m\u001b[0m\n",
      "\u001b[1;32m~\\anaconda3\\envs\\deeplearning\\lib\\site-packages\\tensorflow\\python\\keras\\applications\\imagenet_utils.py\u001b[0m in \u001b[0;36mobtain_input_shape\u001b[1;34m(input_shape, default_size, min_size, data_format, require_flatten, weights)\u001b[0m\n\u001b[0;32m    341\u001b[0m     \u001b[1;32mif\u001b[0m \u001b[0minput_shape\u001b[0m \u001b[1;32mis\u001b[0m \u001b[1;32mnot\u001b[0m \u001b[1;32mNone\u001b[0m\u001b[1;33m:\u001b[0m\u001b[1;33m\u001b[0m\u001b[1;33m\u001b[0m\u001b[0m\n\u001b[0;32m    342\u001b[0m       \u001b[1;32mif\u001b[0m \u001b[0minput_shape\u001b[0m \u001b[1;33m!=\u001b[0m \u001b[0mdefault_shape\u001b[0m\u001b[1;33m:\u001b[0m\u001b[1;33m\u001b[0m\u001b[1;33m\u001b[0m\u001b[0m\n\u001b[1;32m--> 343\u001b[1;33m         raise ValueError('When setting `include_top=True` '\n\u001b[0m\u001b[0;32m    344\u001b[0m                          \u001b[1;34m'and loading `imagenet` weights, '\u001b[0m\u001b[1;33m\u001b[0m\u001b[1;33m\u001b[0m\u001b[0m\n\u001b[0;32m    345\u001b[0m                          '`input_shape` should be ' + str(default_shape) + '.')\n",
      "\u001b[1;31mValueError\u001b[0m: When setting `include_top=True` and loading `imagenet` weights, `input_shape` should be (224, 224, 3)."
     ]
    }
   ],
   "source": [
    "pre_trained=tf.keras.applications.resnet50.ResNet50(\n",
    "                                                    include_top=True,\n",
    "                                                    input_shape=(150,150,1),\n",
    "                                                    weights='imagenet',\n",
    "                                                    input_tensor=None,\n",
    "                                               \n",
    "                                                    pooling=None,\n",
    "                                                    classes=1000\n",
    "                                                )"
   ]
  },
  {
   "cell_type": "code",
   "execution_count": null,
   "metadata": {},
   "outputs": [],
   "source": []
  },
  {
   "cell_type": "code",
   "execution_count": 16,
   "metadata": {
    "colab": {
     "base_uri": "https://localhost:8080/"
    },
    "id": "98_H4yeejpEj",
    "outputId": "5f83067c-ff2c-4111-c887-b5a5af86f11f"
   },
   "outputs": [],
   "source": [
    "base_model = keras.applications.ResNet50(\n",
    "                                        weights='imagenet',  \n",
    "                                        input_shape=(150, 150, 3),\n",
    "                                   \n",
    "                                        include_top=False)  "
   ]
  },
  {
   "cell_type": "code",
   "execution_count": 17,
   "metadata": {},
   "outputs": [],
   "source": [
    "callbacks_trans = callback(\"\\model_trans.h5\")"
   ]
  },
  {
   "cell_type": "code",
   "execution_count": 18,
   "metadata": {
    "id": "oEhZuO0OOQya"
   },
   "outputs": [],
   "source": [
    "# from keras.models import Model\n",
    "# from keras.layers import Input \n",
    "\n",
    "# resnet = keras.applications.ResNet50(weights='imagenet',include_top='FALSE') \n",
    "\n",
    "# input_tensor = Input(shape=(150,150,1) )\n",
    "# x = layers.Conv2D(3,(3,3),padding='same')(input_tensor)    # x has a dimension of (IMG_SIZE,IMG_SIZE,3)\n",
    "# out = resnet (x) \n",
    "\n",
    "# model_trans = keras.Model(inputs=input_tensor,outputs=out)\n",
    "\n",
    "\n",
    "base_model.trainable = False\n",
    "inputs = keras.Input(shape=(150, 150, 3))\n",
    "x = base_model(inputs, training=False)\n",
    "x = keras.layers.GlobalMaxPooling2D()(x)\n",
    "outputs = keras.layers.Dense(3)(x)\n",
    "model_trans = keras.Model(inputs, outputs)\n",
    "model_trans.compile(loss='categorical_crossentropy', optimizer=\"adam\", metrics = [f1_m])"
   ]
  },
  {
   "cell_type": "code",
   "execution_count": 77,
   "metadata": {
    "id": "qOY98X1oOYx1"
   },
   "outputs": [],
   "source": [
    "# # callbacks\n",
    "\n",
    "# # lr_reduce = ReduceLROnPlateau(monitor='val_binary_accuracy', factor=0.6, patience=8, verbose=1, mode='max', min_lr=5e-5)\n",
    "# es = EarlyStopping(monitor='val_loss', mode='min', verbose=1, patience=23)\n",
    "# mc = ModelCheckpoint('MODEL_trans.h5', monitor='val_accuracy', mode='max', verbose=1, save_best_only=True)\n",
    "# lr_reduce = ReduceLROnPlateau(monitor='val_accuracy', factor=0.6, patience=8, verbose=1, mode='max', min_lr=5e-5)"
   ]
  },
  {
   "cell_type": "code",
   "execution_count": 20,
   "metadata": {
    "colab": {
     "base_uri": "https://localhost:8080/"
    },
    "id": "FrvCSlonO5o1",
    "outputId": "7654dae5-013d-4589-8589-e9491339213c",
    "scrolled": true
   },
   "outputs": [
    {
     "name": "stdout",
     "output_type": "stream",
     "text": [
      "Epoch 1/20\n",
      "123/123 [==============================] - ETA: 0s - loss: 8.2735 - f1_m: 0.4659\n",
      "Epoch 00001: val_loss improved from inf to 8.61032, saving model to c:\\Users\\Utilizador\\Desktop\\2_semestre_DS\\Deep_Learning\\DL_GroupProject\\DeepLearning_Group_Project\\models\\model_trans.h5\n",
      "123/123 [==============================] - 254s 2s/step - loss: 8.2735 - f1_m: 0.4659 - val_loss: 8.6103 - val_f1_m: 0.4527\n",
      "Epoch 2/20\n",
      "123/123 [==============================] - ETA: 0s - loss: 8.6147 - f1_m: 0.4655\n",
      "Epoch 00002: val_loss improved from 8.61032 to 8.61032, saving model to c:\\Users\\Utilizador\\Desktop\\2_semestre_DS\\Deep_Learning\\DL_GroupProject\\DeepLearning_Group_Project\\models\\model_trans.h5\n",
      "123/123 [==============================] - 211s 2s/step - loss: 8.6147 - f1_m: 0.4655 - val_loss: 8.6103 - val_f1_m: 0.4585\n",
      "Epoch 3/20\n",
      "123/123 [==============================] - ETA: 0s - loss: 8.6147 - f1_m: 0.4652\n",
      "Epoch 00003: val_loss did not improve from 8.61032\n",
      "123/123 [==============================] - 229s 2s/step - loss: 8.6147 - f1_m: 0.4652 - val_loss: 8.6103 - val_f1_m: 0.4585\n",
      "Epoch 4/20\n",
      "106/123 [========================>.....] - ETA: 29s - loss: 8.6890 - f1_m: 0.4613"
     ]
    },
    {
     "ename": "KeyboardInterrupt",
     "evalue": "",
     "output_type": "error",
     "traceback": [
      "\u001b[1;31m---------------------------------------------------------------------------\u001b[0m",
      "\u001b[1;31mKeyboardInterrupt\u001b[0m                         Traceback (most recent call last)",
      "\u001b[1;32mC:\\Users\\UTILIZ~1\\AppData\\Local\\Temp/ipykernel_4224/3777705998.py\u001b[0m in \u001b[0;36m<module>\u001b[1;34m\u001b[0m\n\u001b[0;32m      2\u001b[0m \u001b[0mepochs\u001b[0m \u001b[1;33m=\u001b[0m \u001b[1;36m20\u001b[0m\u001b[1;33m\u001b[0m\u001b[1;33m\u001b[0m\u001b[0m\n\u001b[0;32m      3\u001b[0m \u001b[1;31m# Batch size\u001b[0m\u001b[1;33m\u001b[0m\u001b[1;33m\u001b[0m\u001b[1;33m\u001b[0m\u001b[0m\n\u001b[1;32m----> 4\u001b[1;33m hist_trans = model_trans.fit(train_generator_rgb,\n\u001b[0m\u001b[0;32m      5\u001b[0m                          \u001b[0mepochs\u001b[0m \u001b[1;33m=\u001b[0m \u001b[0mepochs\u001b[0m\u001b[1;33m,\u001b[0m\u001b[1;33m\u001b[0m\u001b[1;33m\u001b[0m\u001b[0m\n\u001b[0;32m      6\u001b[0m                          \u001b[0mvalidation_data\u001b[0m \u001b[1;33m=\u001b[0m \u001b[0mval_generator_rgb\u001b[0m\u001b[1;33m,\u001b[0m\u001b[1;33m\u001b[0m\u001b[1;33m\u001b[0m\u001b[0m\n",
      "\u001b[1;32m~\\anaconda3\\envs\\deeplearning\\lib\\site-packages\\tensorflow\\python\\keras\\engine\\training.py\u001b[0m in \u001b[0;36m_method_wrapper\u001b[1;34m(self, *args, **kwargs)\u001b[0m\n\u001b[0;32m    106\u001b[0m   \u001b[1;32mdef\u001b[0m \u001b[0m_method_wrapper\u001b[0m\u001b[1;33m(\u001b[0m\u001b[0mself\u001b[0m\u001b[1;33m,\u001b[0m \u001b[1;33m*\u001b[0m\u001b[0margs\u001b[0m\u001b[1;33m,\u001b[0m \u001b[1;33m**\u001b[0m\u001b[0mkwargs\u001b[0m\u001b[1;33m)\u001b[0m\u001b[1;33m:\u001b[0m\u001b[1;33m\u001b[0m\u001b[1;33m\u001b[0m\u001b[0m\n\u001b[0;32m    107\u001b[0m     \u001b[1;32mif\u001b[0m \u001b[1;32mnot\u001b[0m \u001b[0mself\u001b[0m\u001b[1;33m.\u001b[0m\u001b[0m_in_multi_worker_mode\u001b[0m\u001b[1;33m(\u001b[0m\u001b[1;33m)\u001b[0m\u001b[1;33m:\u001b[0m  \u001b[1;31m# pylint: disable=protected-access\u001b[0m\u001b[1;33m\u001b[0m\u001b[1;33m\u001b[0m\u001b[0m\n\u001b[1;32m--> 108\u001b[1;33m       \u001b[1;32mreturn\u001b[0m \u001b[0mmethod\u001b[0m\u001b[1;33m(\u001b[0m\u001b[0mself\u001b[0m\u001b[1;33m,\u001b[0m \u001b[1;33m*\u001b[0m\u001b[0margs\u001b[0m\u001b[1;33m,\u001b[0m \u001b[1;33m**\u001b[0m\u001b[0mkwargs\u001b[0m\u001b[1;33m)\u001b[0m\u001b[1;33m\u001b[0m\u001b[1;33m\u001b[0m\u001b[0m\n\u001b[0m\u001b[0;32m    109\u001b[0m \u001b[1;33m\u001b[0m\u001b[0m\n\u001b[0;32m    110\u001b[0m     \u001b[1;31m# Running inside `run_distribute_coordinator` already.\u001b[0m\u001b[1;33m\u001b[0m\u001b[1;33m\u001b[0m\u001b[1;33m\u001b[0m\u001b[0m\n",
      "\u001b[1;32m~\\anaconda3\\envs\\deeplearning\\lib\\site-packages\\tensorflow\\python\\keras\\engine\\training.py\u001b[0m in \u001b[0;36mfit\u001b[1;34m(self, x, y, batch_size, epochs, verbose, callbacks, validation_split, validation_data, shuffle, class_weight, sample_weight, initial_epoch, steps_per_epoch, validation_steps, validation_batch_size, validation_freq, max_queue_size, workers, use_multiprocessing)\u001b[0m\n\u001b[0;32m   1096\u001b[0m                 batch_size=batch_size):\n\u001b[0;32m   1097\u001b[0m               \u001b[0mcallbacks\u001b[0m\u001b[1;33m.\u001b[0m\u001b[0mon_train_batch_begin\u001b[0m\u001b[1;33m(\u001b[0m\u001b[0mstep\u001b[0m\u001b[1;33m)\u001b[0m\u001b[1;33m\u001b[0m\u001b[1;33m\u001b[0m\u001b[0m\n\u001b[1;32m-> 1098\u001b[1;33m               \u001b[0mtmp_logs\u001b[0m \u001b[1;33m=\u001b[0m \u001b[0mtrain_function\u001b[0m\u001b[1;33m(\u001b[0m\u001b[0miterator\u001b[0m\u001b[1;33m)\u001b[0m\u001b[1;33m\u001b[0m\u001b[1;33m\u001b[0m\u001b[0m\n\u001b[0m\u001b[0;32m   1099\u001b[0m               \u001b[1;32mif\u001b[0m \u001b[0mdata_handler\u001b[0m\u001b[1;33m.\u001b[0m\u001b[0mshould_sync\u001b[0m\u001b[1;33m:\u001b[0m\u001b[1;33m\u001b[0m\u001b[1;33m\u001b[0m\u001b[0m\n\u001b[0;32m   1100\u001b[0m                 \u001b[0mcontext\u001b[0m\u001b[1;33m.\u001b[0m\u001b[0masync_wait\u001b[0m\u001b[1;33m(\u001b[0m\u001b[1;33m)\u001b[0m\u001b[1;33m\u001b[0m\u001b[1;33m\u001b[0m\u001b[0m\n",
      "\u001b[1;32m~\\anaconda3\\envs\\deeplearning\\lib\\site-packages\\tensorflow\\python\\eager\\def_function.py\u001b[0m in \u001b[0;36m__call__\u001b[1;34m(self, *args, **kwds)\u001b[0m\n\u001b[0;32m    778\u001b[0m       \u001b[1;32melse\u001b[0m\u001b[1;33m:\u001b[0m\u001b[1;33m\u001b[0m\u001b[1;33m\u001b[0m\u001b[0m\n\u001b[0;32m    779\u001b[0m         \u001b[0mcompiler\u001b[0m \u001b[1;33m=\u001b[0m \u001b[1;34m\"nonXla\"\u001b[0m\u001b[1;33m\u001b[0m\u001b[1;33m\u001b[0m\u001b[0m\n\u001b[1;32m--> 780\u001b[1;33m         \u001b[0mresult\u001b[0m \u001b[1;33m=\u001b[0m \u001b[0mself\u001b[0m\u001b[1;33m.\u001b[0m\u001b[0m_call\u001b[0m\u001b[1;33m(\u001b[0m\u001b[1;33m*\u001b[0m\u001b[0margs\u001b[0m\u001b[1;33m,\u001b[0m \u001b[1;33m**\u001b[0m\u001b[0mkwds\u001b[0m\u001b[1;33m)\u001b[0m\u001b[1;33m\u001b[0m\u001b[1;33m\u001b[0m\u001b[0m\n\u001b[0m\u001b[0;32m    781\u001b[0m \u001b[1;33m\u001b[0m\u001b[0m\n\u001b[0;32m    782\u001b[0m       \u001b[0mnew_tracing_count\u001b[0m \u001b[1;33m=\u001b[0m \u001b[0mself\u001b[0m\u001b[1;33m.\u001b[0m\u001b[0m_get_tracing_count\u001b[0m\u001b[1;33m(\u001b[0m\u001b[1;33m)\u001b[0m\u001b[1;33m\u001b[0m\u001b[1;33m\u001b[0m\u001b[0m\n",
      "\u001b[1;32m~\\anaconda3\\envs\\deeplearning\\lib\\site-packages\\tensorflow\\python\\eager\\def_function.py\u001b[0m in \u001b[0;36m_call\u001b[1;34m(self, *args, **kwds)\u001b[0m\n\u001b[0;32m    805\u001b[0m       \u001b[1;31m# In this case we have created variables on the first call, so we run the\u001b[0m\u001b[1;33m\u001b[0m\u001b[1;33m\u001b[0m\u001b[1;33m\u001b[0m\u001b[0m\n\u001b[0;32m    806\u001b[0m       \u001b[1;31m# defunned version which is guaranteed to never create variables.\u001b[0m\u001b[1;33m\u001b[0m\u001b[1;33m\u001b[0m\u001b[1;33m\u001b[0m\u001b[0m\n\u001b[1;32m--> 807\u001b[1;33m       \u001b[1;32mreturn\u001b[0m \u001b[0mself\u001b[0m\u001b[1;33m.\u001b[0m\u001b[0m_stateless_fn\u001b[0m\u001b[1;33m(\u001b[0m\u001b[1;33m*\u001b[0m\u001b[0margs\u001b[0m\u001b[1;33m,\u001b[0m \u001b[1;33m**\u001b[0m\u001b[0mkwds\u001b[0m\u001b[1;33m)\u001b[0m  \u001b[1;31m# pylint: disable=not-callable\u001b[0m\u001b[1;33m\u001b[0m\u001b[1;33m\u001b[0m\u001b[0m\n\u001b[0m\u001b[0;32m    808\u001b[0m     \u001b[1;32melif\u001b[0m \u001b[0mself\u001b[0m\u001b[1;33m.\u001b[0m\u001b[0m_stateful_fn\u001b[0m \u001b[1;32mis\u001b[0m \u001b[1;32mnot\u001b[0m \u001b[1;32mNone\u001b[0m\u001b[1;33m:\u001b[0m\u001b[1;33m\u001b[0m\u001b[1;33m\u001b[0m\u001b[0m\n\u001b[0;32m    809\u001b[0m       \u001b[1;31m# Release the lock early so that multiple threads can perform the call\u001b[0m\u001b[1;33m\u001b[0m\u001b[1;33m\u001b[0m\u001b[1;33m\u001b[0m\u001b[0m\n",
      "\u001b[1;32m~\\anaconda3\\envs\\deeplearning\\lib\\site-packages\\tensorflow\\python\\eager\\function.py\u001b[0m in \u001b[0;36m__call__\u001b[1;34m(self, *args, **kwargs)\u001b[0m\n\u001b[0;32m   2827\u001b[0m     \u001b[1;32mwith\u001b[0m \u001b[0mself\u001b[0m\u001b[1;33m.\u001b[0m\u001b[0m_lock\u001b[0m\u001b[1;33m:\u001b[0m\u001b[1;33m\u001b[0m\u001b[1;33m\u001b[0m\u001b[0m\n\u001b[0;32m   2828\u001b[0m       \u001b[0mgraph_function\u001b[0m\u001b[1;33m,\u001b[0m \u001b[0margs\u001b[0m\u001b[1;33m,\u001b[0m \u001b[0mkwargs\u001b[0m \u001b[1;33m=\u001b[0m \u001b[0mself\u001b[0m\u001b[1;33m.\u001b[0m\u001b[0m_maybe_define_function\u001b[0m\u001b[1;33m(\u001b[0m\u001b[0margs\u001b[0m\u001b[1;33m,\u001b[0m \u001b[0mkwargs\u001b[0m\u001b[1;33m)\u001b[0m\u001b[1;33m\u001b[0m\u001b[1;33m\u001b[0m\u001b[0m\n\u001b[1;32m-> 2829\u001b[1;33m     \u001b[1;32mreturn\u001b[0m \u001b[0mgraph_function\u001b[0m\u001b[1;33m.\u001b[0m\u001b[0m_filtered_call\u001b[0m\u001b[1;33m(\u001b[0m\u001b[0margs\u001b[0m\u001b[1;33m,\u001b[0m \u001b[0mkwargs\u001b[0m\u001b[1;33m)\u001b[0m  \u001b[1;31m# pylint: disable=protected-access\u001b[0m\u001b[1;33m\u001b[0m\u001b[1;33m\u001b[0m\u001b[0m\n\u001b[0m\u001b[0;32m   2830\u001b[0m \u001b[1;33m\u001b[0m\u001b[0m\n\u001b[0;32m   2831\u001b[0m   \u001b[1;33m@\u001b[0m\u001b[0mproperty\u001b[0m\u001b[1;33m\u001b[0m\u001b[1;33m\u001b[0m\u001b[0m\n",
      "\u001b[1;32m~\\anaconda3\\envs\\deeplearning\\lib\\site-packages\\tensorflow\\python\\eager\\function.py\u001b[0m in \u001b[0;36m_filtered_call\u001b[1;34m(self, args, kwargs, cancellation_manager)\u001b[0m\n\u001b[0;32m   1841\u001b[0m       \u001b[0;31m`\u001b[0m\u001b[0margs\u001b[0m\u001b[0;31m`\u001b[0m \u001b[1;32mand\u001b[0m\u001b[0;31m \u001b[0m\u001b[0;31m`\u001b[0m\u001b[0mkwargs\u001b[0m\u001b[0;31m`\u001b[0m\u001b[1;33m.\u001b[0m\u001b[1;33m\u001b[0m\u001b[1;33m\u001b[0m\u001b[0m\n\u001b[0;32m   1842\u001b[0m     \"\"\"\n\u001b[1;32m-> 1843\u001b[1;33m     return self._call_flat(\n\u001b[0m\u001b[0;32m   1844\u001b[0m         [t for t in nest.flatten((args, kwargs), expand_composites=True)\n\u001b[0;32m   1845\u001b[0m          if isinstance(t, (ops.Tensor,\n",
      "\u001b[1;32m~\\anaconda3\\envs\\deeplearning\\lib\\site-packages\\tensorflow\\python\\eager\\function.py\u001b[0m in \u001b[0;36m_call_flat\u001b[1;34m(self, args, captured_inputs, cancellation_manager)\u001b[0m\n\u001b[0;32m   1921\u001b[0m         and executing_eagerly):\n\u001b[0;32m   1922\u001b[0m       \u001b[1;31m# No tape is watching; skip to running the function.\u001b[0m\u001b[1;33m\u001b[0m\u001b[1;33m\u001b[0m\u001b[1;33m\u001b[0m\u001b[0m\n\u001b[1;32m-> 1923\u001b[1;33m       return self._build_call_outputs(self._inference_function.call(\n\u001b[0m\u001b[0;32m   1924\u001b[0m           ctx, args, cancellation_manager=cancellation_manager))\n\u001b[0;32m   1925\u001b[0m     forward_backward = self._select_forward_and_backward_functions(\n",
      "\u001b[1;32m~\\anaconda3\\envs\\deeplearning\\lib\\site-packages\\tensorflow\\python\\eager\\function.py\u001b[0m in \u001b[0;36mcall\u001b[1;34m(self, ctx, args, cancellation_manager)\u001b[0m\n\u001b[0;32m    543\u001b[0m       \u001b[1;32mwith\u001b[0m \u001b[0m_InterpolateFunctionError\u001b[0m\u001b[1;33m(\u001b[0m\u001b[0mself\u001b[0m\u001b[1;33m)\u001b[0m\u001b[1;33m:\u001b[0m\u001b[1;33m\u001b[0m\u001b[1;33m\u001b[0m\u001b[0m\n\u001b[0;32m    544\u001b[0m         \u001b[1;32mif\u001b[0m \u001b[0mcancellation_manager\u001b[0m \u001b[1;32mis\u001b[0m \u001b[1;32mNone\u001b[0m\u001b[1;33m:\u001b[0m\u001b[1;33m\u001b[0m\u001b[1;33m\u001b[0m\u001b[0m\n\u001b[1;32m--> 545\u001b[1;33m           outputs = execute.execute(\n\u001b[0m\u001b[0;32m    546\u001b[0m               \u001b[0mstr\u001b[0m\u001b[1;33m(\u001b[0m\u001b[0mself\u001b[0m\u001b[1;33m.\u001b[0m\u001b[0msignature\u001b[0m\u001b[1;33m.\u001b[0m\u001b[0mname\u001b[0m\u001b[1;33m)\u001b[0m\u001b[1;33m,\u001b[0m\u001b[1;33m\u001b[0m\u001b[1;33m\u001b[0m\u001b[0m\n\u001b[0;32m    547\u001b[0m               \u001b[0mnum_outputs\u001b[0m\u001b[1;33m=\u001b[0m\u001b[0mself\u001b[0m\u001b[1;33m.\u001b[0m\u001b[0m_num_outputs\u001b[0m\u001b[1;33m,\u001b[0m\u001b[1;33m\u001b[0m\u001b[1;33m\u001b[0m\u001b[0m\n",
      "\u001b[1;32m~\\anaconda3\\envs\\deeplearning\\lib\\site-packages\\tensorflow\\python\\eager\\execute.py\u001b[0m in \u001b[0;36mquick_execute\u001b[1;34m(op_name, num_outputs, inputs, attrs, ctx, name)\u001b[0m\n\u001b[0;32m     57\u001b[0m   \u001b[1;32mtry\u001b[0m\u001b[1;33m:\u001b[0m\u001b[1;33m\u001b[0m\u001b[1;33m\u001b[0m\u001b[0m\n\u001b[0;32m     58\u001b[0m     \u001b[0mctx\u001b[0m\u001b[1;33m.\u001b[0m\u001b[0mensure_initialized\u001b[0m\u001b[1;33m(\u001b[0m\u001b[1;33m)\u001b[0m\u001b[1;33m\u001b[0m\u001b[1;33m\u001b[0m\u001b[0m\n\u001b[1;32m---> 59\u001b[1;33m     tensors = pywrap_tfe.TFE_Py_Execute(ctx._handle, device_name, op_name,\n\u001b[0m\u001b[0;32m     60\u001b[0m                                         inputs, attrs, num_outputs)\n\u001b[0;32m     61\u001b[0m   \u001b[1;32mexcept\u001b[0m \u001b[0mcore\u001b[0m\u001b[1;33m.\u001b[0m\u001b[0m_NotOkStatusException\u001b[0m \u001b[1;32mas\u001b[0m \u001b[0me\u001b[0m\u001b[1;33m:\u001b[0m\u001b[1;33m\u001b[0m\u001b[1;33m\u001b[0m\u001b[0m\n",
      "\u001b[1;31mKeyboardInterrupt\u001b[0m: "
     ]
    }
   ],
   "source": [
    "# Epochs\n",
    "epochs = 20\n",
    "# Batch size\n",
    "hist_trans = model_trans.fit(train_generator_rgb,\n",
    "                            epochs = epochs,\n",
    "                            validation_data = val_generator_rgb,\n",
    "                            callbacks=callbacks_trans, workers=2)"
   ]
  },
  {
   "cell_type": "code",
   "execution_count": null,
   "metadata": {},
   "outputs": [],
   "source": []
  },
  {
   "cell_type": "code",
   "execution_count": null,
   "metadata": {},
   "outputs": [],
   "source": []
  },
  {
   "cell_type": "code",
   "execution_count": null,
   "metadata": {},
   "outputs": [],
   "source": []
  },
  {
   "cell_type": "code",
   "execution_count": 73,
   "metadata": {},
   "outputs": [
    {
     "name": "stderr",
     "output_type": "stream",
     "text": [
      "C:\\Users\\filip\\AppData\\Local\\Temp/ipykernel_7176/1856620179.py:6: UserWarning: `Model.evaluate_generator` is deprecated and will be removed in a future version. Please use `Model.evaluate`, which supports generators.\n",
      "  test_score = modelBW.evaluate_generator(test_generator)\n"
     ]
    }
   ],
   "source": [
    "preds = modelBW.predict(test_generator)\n",
    "predicted_class_indices = np.argmax(preds, axis=1)\n",
    "test_labels = test_generator.labels\n",
    "\n",
    "cm = confusion_matrix(test_labels, predicted_class_indices)\n",
    "test_score = modelBW.evaluate_generator(test_generator)"
   ]
  },
  {
   "cell_type": "code",
   "execution_count": 74,
   "metadata": {},
   "outputs": [
    {
     "name": "stdout",
     "output_type": "stream",
     "text": [
      "              precision    recall  f1-score   support\n",
      "\n",
      "           0       0.94      0.83      0.88        71\n",
      "           1       0.92      0.97      0.95       142\n",
      "           2       0.97      0.97      0.97        93\n",
      "\n",
      "    accuracy                           0.94       306\n",
      "   macro avg       0.94      0.92      0.93       306\n",
      "weighted avg       0.94      0.94      0.94       306\n",
      "\n"
     ]
    }
   ],
   "source": [
    "print(classification_report(test_generator.labels, predicted_class_indices))"
   ]
  },
  {
   "cell_type": "code",
   "execution_count": null,
   "metadata": {},
   "outputs": [],
   "source": [
    "#modelBW.summary()"
   ]
  },
  {
   "cell_type": "code",
   "execution_count": null,
   "metadata": {},
   "outputs": [],
   "source": [
    "# test_score_modelBW = modelBW.evaluate_generator(test_generator)\n",
    "# test_score_modelBW"
   ]
  },
  {
   "cell_type": "code",
   "execution_count": null,
   "metadata": {},
   "outputs": [],
   "source": [
    "# Modelo sem aug BW\n",
    "#  ---- dropout augmentation\n",
    "\n",
    "# Modelo sem aug RGB\n",
    "#  ---- dropout augmentation\n",
    "\n",
    "# funçoes dos plots\n",
    "\n",
    "# time function comparison"
   ]
  }
 ],
 "metadata": {
  "interpreter": {
   "hash": "18e16194cf3a231c7e85fd3da1ceecb74b106a13d038ee6c4a53eff2850ad794"
  },
  "kernelspec": {
   "display_name": "Python 3.8.12 ('deeplearning')",
   "language": "python",
   "name": "python3"
  },
  "language_info": {
   "codemirror_mode": {
    "name": "ipython",
    "version": 3
   },
   "file_extension": ".py",
   "mimetype": "text/x-python",
   "name": "python",
   "nbconvert_exporter": "python",
   "pygments_lexer": "ipython3",
   "version": "3.8.12"
  },
  "orig_nbformat": 4
 },
 "nbformat": 4,
 "nbformat_minor": 2
}
