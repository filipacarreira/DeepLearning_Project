{
 "cells": [
  {
   "cell_type": "code",
   "execution_count": 1,
   "metadata": {},
   "outputs": [],
   "source": [
    "import os, random\n",
    "from os import path\n",
    "from numpy.random import seed\n",
    "import keras\n",
    "from keras.preprocessing.image import ImageDataGenerator\n",
    "from matplotlib import pyplot as plt\n",
    "import numpy as np\n",
    "import pandas as pd\n",
    "from distutils.dir_util import copy_tree\n",
    "import shutil\n",
    "from PIL import Image\n",
    "from keras import layers,models\n",
    "import seaborn as sns\n",
    "from tqdm import tqdm\n",
    "from sklearn.metrics import confusion_matrix\n",
    "from sklearn.metrics import classification_report\n",
    "from sklearn.model_selection import ParameterGrid\n",
    "from tensorflow import random as tfrandom\n",
    "import tensorflow as tf\n",
    "from keras.callbacks import Callback, CSVLogger\n",
    "import time\n",
    "from keras.models import load_model\n",
    "from keras.utils.vis_utils import plot_model\n",
    "import matplotlib.pyplot as plt\n",
    "from keras import backend as K\n",
    "import math\n",
    "#from tensorflow import set_random_seed\n",
    "import cv2\n",
    "\n",
    "# to assure reproducibility\n",
    "random.seed(42)\n",
    "tf.random.set_seed(42)"
   ]
  },
  {
   "cell_type": "code",
   "execution_count": 2,
   "metadata": {},
   "outputs": [],
   "source": [
    "base_path=os.getcwd()"
   ]
  },
  {
   "cell_type": "code",
   "execution_count": 3,
   "metadata": {},
   "outputs": [
    {
     "data": {
      "text/plain": [
       "'c:\\\\Users\\\\Utilizador\\\\Desktop\\\\2_semestre_DS\\\\Deep_Learning\\\\DL_GroupProject\\\\DeepLearning_Group_Project'"
      ]
     },
     "execution_count": 3,
     "metadata": {},
     "output_type": "execute_result"
    }
   ],
   "source": [
    "base_path"
   ]
  },
  {
   "cell_type": "code",
   "execution_count": 4,
   "metadata": {},
   "outputs": [],
   "source": [
    "dir_path=(base_path+r\"\\tumor_data\")"
   ]
  },
  {
   "cell_type": "code",
   "execution_count": 28,
   "metadata": {},
   "outputs": [],
   "source": [
    "# rename the images to 1_xx, 2_xx, 3_xx, by the labels \n",
    "\n",
    "for _, letter in enumerate(os.listdir(dir_path)):\n",
    "    folder_letter = os.path.join(dir_path, letter)\n",
    " \n",
    "    counts=0\n",
    "    for _, image in enumerate(os.listdir(folder_letter)):\n",
    "        \n",
    "        dst=image\n",
    "    \n",
    "        if '_' in dst:\n",
    "            continue\n",
    "        else:\n",
    "            dst = str(letter) + \"_\" + str(counts) + \".png\"\n",
    "            #print(dst)\n",
    "            src = os.path.join(folder_letter, image)\n",
    "            dst = os.path.join(folder_letter, dst)\n",
    "            print(counts)\n",
    "            os.rename(src, dst)\n",
    "            \n",
    "        counts=counts+1\n",
    "        "
   ]
  },
  {
   "cell_type": "code",
   "execution_count": 5,
   "metadata": {},
   "outputs": [],
   "source": [
    "# define directories for the train, val and test splits\n",
    "train_path = os.path.join(dir_path, 'train')\n",
    "val_path = os.path.join(dir_path, 'validation')\n",
    "test_path = os.path.join(dir_path, 'test')"
   ]
  },
  {
   "cell_type": "code",
   "execution_count": 30,
   "metadata": {},
   "outputs": [],
   "source": [
    "def createdir(mydir):\n",
    "    try:\n",
    "        os.mkdir(mydir)\n",
    "    except OSError:\n",
    "        pass\n",
    "\n",
    "# create the directories\n",
    "\n",
    "createdir(train_path)\n",
    "createdir(val_path)\n",
    "createdir(test_path)"
   ]
  },
  {
   "cell_type": "code",
   "execution_count": 31,
   "metadata": {},
   "outputs": [],
   "source": [
    "# create the directories for each label for each train, validation and test folders\n",
    "count=0\n",
    "for dir in [train_path, val_path, test_path]:\n",
    "    count+=1\n",
    "    for letter in ['1','2','3']:\n",
    "        if count == 1:\n",
    "            createdir(os.path.join(dir,str(\"train_{0}\".format(str(letter)))))\n",
    "        elif count == 2:\n",
    "            createdir(os.path.join(dir,str(\"val_{0}\".format(str(letter)))))   \n",
    "        elif count == 3:\n",
    "            createdir(os.path.join(dir,str(\"test_{0}\".format(str(letter)))))\n",
    "        "
   ]
  },
  {
   "cell_type": "code",
   "execution_count": 32,
   "metadata": {},
   "outputs": [
    {
     "name": "stdout",
     "output_type": "stream",
     "text": [
      "break\n",
      "break\n",
      "break\n"
     ]
    }
   ],
   "source": [
    "# copy all the images for the train folder to then split them for validation and test folders \n",
    "\n",
    "count=0\n",
    "\n",
    "for dir_ in [train_path+r'\\train_1', train_path+r'\\train_2', train_path+r'\\train_3']:\n",
    "        if len(os.listdir(dir_)) != 0:\n",
    "            print('break')\n",
    "            for f in os.listdir(dir_):\n",
    "                os.remove(os.path.join(dir_, f))\n",
    "                \n",
    "for dir in [dir_path+r\"\\1\", dir_path+r\"\\2\", dir_path+r\"\\3\"]:\n",
    "    count+=1\n",
    "    \n",
    "    if count == 1:\n",
    "        copy_tree(dir, train_path+r'\\train_1')\n",
    "    elif count==2:\n",
    "        copy_tree(dir, train_path+r'\\train_2')\n",
    "    elif count==3:\n",
    "        copy_tree(dir, train_path+r'\\train_3')"
   ]
  },
  {
   "cell_type": "code",
   "execution_count": 6,
   "metadata": {},
   "outputs": [],
   "source": [
    "# proportion we want for train, val_test and the test datasets\n",
    "prop_train=0.80\n",
    "prop_val_test=0.20\n",
    "prop_test=0.50 "
   ]
  },
  {
   "cell_type": "code",
   "execution_count": 34,
   "metadata": {},
   "outputs": [],
   "source": [
    "labels={'label1':708,'label2':1426,'label3':930}"
   ]
  },
  {
   "cell_type": "code",
   "execution_count": 35,
   "metadata": {},
   "outputs": [
    {
     "name": "stdout",
     "output_type": "stream",
     "text": [
      "break\n",
      "break\n",
      "break\n"
     ]
    }
   ],
   "source": [
    "# input images in VALIDATION\n",
    "\n",
    "count=0\n",
    "for index, letter in enumerate(os.listdir(train_path)):\n",
    "    count+=1\n",
    "    folder_letter_source = os.path.join(train_path, letter)\n",
    "    folder_letter_destiny_val = os.path.join(val_path, str(\"val_{0}\".format(str(count))))\n",
    "\n",
    "    images_val = random.sample(os.listdir(folder_letter_source), k=round(prop_val_test*labels['label{0}'.format(str(count))]))\n",
    "    count1=0\n",
    "    \n",
    "    for image in images_val:\n",
    "        count1+=1\n",
    "        if count1==1 and len(os.listdir(folder_letter_destiny_val)) != 0:\n",
    "            print('break')\n",
    "            for f in os.listdir(folder_letter_destiny_val):\n",
    "                os.remove(os.path.join(folder_letter_destiny_val, f))\n",
    "            \n",
    "        src = os.path.join(folder_letter_source, image)\n",
    "        dst = os.path.join(folder_letter_destiny_val, image)\n",
    "        shutil.move(src, dst)\n"
   ]
  },
  {
   "cell_type": "code",
   "execution_count": 36,
   "metadata": {},
   "outputs": [
    {
     "data": {
      "text/plain": [
       "{'label1': 142, 'label2': 285, 'label3': 186}"
      ]
     },
     "execution_count": 36,
     "metadata": {},
     "output_type": "execute_result"
    }
   ],
   "source": [
    "labels['label1']=round(labels['label1']*prop_val_test)\n",
    "labels['label2']=round(labels['label2']*prop_val_test)\n",
    "labels['label3']=round(labels['label3']*prop_val_test)\n",
    "labels"
   ]
  },
  {
   "cell_type": "code",
   "execution_count": 37,
   "metadata": {},
   "outputs": [
    {
     "name": "stdout",
     "output_type": "stream",
     "text": [
      "break\n",
      "break\n",
      "break\n"
     ]
    }
   ],
   "source": [
    "# input images in TEST\n",
    "\n",
    "count=0\n",
    "for index, letter in enumerate(os.listdir(val_path)):\n",
    "    count+=1\n",
    "    folder_letter_source = os.path.join(val_path, letter)\n",
    "    folder_letter_destiny_test = os.path.join(test_path, str(\"test_{0}\".format(str(count))))\n",
    "\n",
    "    images_val = random.sample(os.listdir(folder_letter_source), k=round(prop_test*labels['label{0}'.format(str(count))]))\n",
    "    count1=0\n",
    "    \n",
    "    for image in images_val:\n",
    "        count1+=1\n",
    "        if count1==1 and len(os.listdir(folder_letter_destiny_test)) != 0:\n",
    "            print('break')\n",
    "            for f in os.listdir(folder_letter_destiny_test):\n",
    "                os.remove(os.path.join(folder_letter_destiny_test, f))\n",
    "            \n",
    "        src = os.path.join(folder_letter_source, image)\n",
    "        dst = os.path.join(folder_letter_destiny_test, image)\n",
    "        shutil.move(src, dst)\n",
    "        "
   ]
  },
  {
   "cell_type": "code",
   "execution_count": 10,
   "metadata": {},
   "outputs": [
    {
     "name": "stdout",
     "output_type": "stream",
     "text": [
      "Found 2451 images belonging to 3 classes.\n"
     ]
    }
   ],
   "source": [
    "train_datagen_aug=ImageDataGenerator(\n",
    "                    rescale=1./255,\n",
    "                    #rotation_range=50,\n",
    "                    rotation_range=10,\n",
    "                    shear_range=0.05)\n",
    "                    #horizontal_flip=True )\n",
    "\n",
    "train_generator_aug = train_datagen_aug.flow_from_directory(\n",
    "    train_path,\n",
    "    target_size=(150, 150),\n",
    "    batch_size=20,\n",
    "    class_mode='categorical',\n",
    "    color_mode='grayscale',\n",
    "    seed=42\n",
    ")"
   ]
  },
  {
   "cell_type": "code",
   "execution_count": 11,
   "metadata": {},
   "outputs": [
    {
     "name": "stdout",
     "output_type": "stream",
     "text": [
      "Found 2451 images belonging to 3 classes.\n",
      "Found 307 images belonging to 3 classes.\n",
      "Found 306 images belonging to 3 classes.\n"
     ]
    }
   ],
   "source": [
    "train_datagen = ImageDataGenerator(rescale=1.0/255.0)\n",
    "val_datagen = ImageDataGenerator(rescale=1.0/255.0)\n",
    "test_datagen = ImageDataGenerator(rescale=1.0/255.0)\n",
    "\n",
    "train_generator = train_datagen.flow_from_directory(\n",
    "    train_path,\n",
    "    target_size=(150, 150),\n",
    "    batch_size=20,\n",
    "    class_mode='categorical',\n",
    "    color_mode='grayscale',\n",
    "    seed=42\n",
    ")\n",
    "\n",
    "val_generator = val_datagen.flow_from_directory(\n",
    "    val_path,\n",
    "    target_size=(150, 150),  \n",
    "    batch_size=20,\n",
    "    class_mode='categorical',\n",
    "    color_mode='grayscale',\n",
    "    seed=42\n",
    ")\n",
    "\n",
    "test_generator = test_datagen.flow_from_directory(\n",
    "    test_path,\n",
    "    target_size=(150, 150), \n",
    "    batch_size=20,\n",
    "    class_mode='categorical',\n",
    "    color_mode='grayscale',\n",
    "    seed=42,\n",
    "    shuffle=False\n",
    ")"
   ]
  },
  {
   "cell_type": "code",
   "execution_count": 12,
   "metadata": {},
   "outputs": [
    {
     "name": "stdout",
     "output_type": "stream",
     "text": [
      "Found 2451 images belonging to 3 classes.\n",
      "Found 2451 images belonging to 3 classes.\n",
      "Found 307 images belonging to 3 classes.\n",
      "Found 306 images belonging to 3 classes.\n"
     ]
    }
   ],
   "source": [
    "train_generator_rgb = train_datagen.flow_from_directory(\n",
    "    train_path,\n",
    "    target_size=(150, 150),\n",
    "    batch_size=20,\n",
    "    class_mode='categorical',\n",
    "    color_mode='rgb',\n",
    "    seed=42\n",
    ")\n",
    "# AUGMENTED\n",
    "train_generator_aug_rgb = train_datagen_aug.flow_from_directory(\n",
    "    train_path,\n",
    "    target_size=(150, 150),\n",
    "    batch_size=20,\n",
    "    class_mode='categorical',\n",
    "    color_mode='rgb',\n",
    "    seed=42\n",
    ")\n",
    "\n",
    "\n",
    "val_generator_rgb = val_datagen.flow_from_directory(\n",
    "    val_path,\n",
    "    target_size=(150, 150),  \n",
    "    batch_size=20,\n",
    "    class_mode='categorical',\n",
    "    color_mode='rgb',\n",
    "    seed=42\n",
    ")\n",
    "\n",
    "test_generator_rgb = test_datagen.flow_from_directory(\n",
    "    test_path,\n",
    "    target_size=(150, 150), \n",
    "    batch_size=20,\n",
    "    class_mode='categorical',\n",
    "    color_mode='rgb',\n",
    "    seed=42,\n",
    "    shuffle=False\n",
    ")"
   ]
  },
  {
   "cell_type": "code",
   "execution_count": 13,
   "metadata": {},
   "outputs": [],
   "source": [
    "# ADAPTED FROM https://datascience.stackexchange.com/questions/45165/how-to-get-accuracy-f1-precision-and-recall-for-a-keras-model\n",
    "def recall_m(y_true, y_pred):\n",
    "    true_positives = K.sum(K.round(K.clip(y_true * y_pred, 0, 1)))\n",
    "    possible_positives = K.sum(K.round(K.clip(y_true, 0, 1)))\n",
    "    recall = true_positives / (possible_positives + K.epsilon())\n",
    "    return recall\n",
    "\n",
    "def precision_m(y_true, y_pred):\n",
    "    true_positives = K.sum(K.round(K.clip(y_true * y_pred, 0, 1)))\n",
    "    predicted_positives = K.sum(K.round(K.clip(y_pred, 0, 1)))\n",
    "    precision = true_positives / (predicted_positives + K.epsilon())\n",
    "    return precision\n",
    "\n",
    "def f1_m(y_true, y_pred):\n",
    "    precision = precision_m(y_true, y_pred)\n",
    "    recall = recall_m(y_true, y_pred)\n",
    "    return 2*((precision*recall)/(precision+recall+K.epsilon()))"
   ]
  },
  {
   "cell_type": "code",
   "execution_count": 14,
   "metadata": {},
   "outputs": [],
   "source": [
    "class TimeHistory(keras.callbacks.Callback):\n",
    "    def on_train_begin(self, logs={}):\n",
    "        self.times = []\n",
    "\n",
    "    def on_epoch_begin(self, batch, logs={}):\n",
    "        self.epoch_time_start = time.time()\n",
    "\n",
    "    def on_epoch_end(self, batch, logs={}):\n",
    "        self.times.append(time.time() - self.epoch_time_start)\n",
    "\n",
    "time_callback = TimeHistory()"
   ]
  },
  {
   "cell_type": "code",
   "execution_count": 15,
   "metadata": {},
   "outputs": [],
   "source": [
    "def save_times(model, times,name_model):\n",
    "  \n",
    "    times_dict = {'Model': ['Model {}'.format(str(name_model))]}\n",
    "    for idx, time in enumerate(times):\n",
    "        times_dict[idx] = times[idx]\n",
    "    df_save_times = pd.DataFrame(times_dict)\n",
    "\n",
    "    if os.path.exists(r'.\\models\\models_times.csv'):\n",
    "        df_save_times.to_csv(r'.\\models\\models_times.csv', mode='a', header=False, index=False)\n",
    "    else:\n",
    "        df_save_times.to_csv(r'.\\models\\models_times.csv')"
   ]
  },
  {
   "cell_type": "code",
   "execution_count": 16,
   "metadata": {},
   "outputs": [],
   "source": [
    "def plot_history(his):\n",
    "    f1 = his['f1_m']\n",
    "    f1_val=his['val_f1_m']\n",
    "    loss = his['loss']\n",
    "    loss_val=his['val_loss']\n",
    "\n",
    "    epochs=range(1,len(f1)+1)\n",
    "\n",
    "    plt.plot(epochs, f1,'bo',label='Training F1')\n",
    "    plt.plot(epochs, f1_val,'b',label='Validation F1')\n",
    "    plt.title('Training and Validation F1 score')\n",
    "    plt.legend()\n",
    "    plt.figure()\n",
    "\n",
    "    plt.plot(epochs, loss,'bo',label='Training loss')\n",
    "    plt.plot(epochs, loss_val,'b',label='Validation loss')\n",
    "    plt.title('Training and Validation loss')\n",
    "    plt.legend()\n",
    "    plt.figure()"
   ]
  },
  {
   "cell_type": "code",
   "execution_count": 17,
   "metadata": {},
   "outputs": [],
   "source": [
    "def callback(filename):\n",
    "  callname_list=[keras.callbacks.EarlyStopping(monitor='val_loss', patience=4),\n",
    "            keras.callbacks.ModelCheckpoint(filepath=os.path.join(base_path+ \"\\models\")+filename, monitor='val_loss',mode='min',verbose=1, save_best_only=True)\n",
    "            ,time_callback]\n",
    "\n",
    "  return callname_list\n"
   ]
  },
  {
   "cell_type": "code",
   "execution_count": 18,
   "metadata": {},
   "outputs": [],
   "source": [
    "dependencies = {\n",
    "    'f1_m': f1_m\n",
    "}"
   ]
  },
  {
   "cell_type": "code",
   "execution_count": 26,
   "metadata": {},
   "outputs": [
    {
     "name": "stdout",
     "output_type": "stream",
     "text": [
      "123\n",
      "16\n"
     ]
    }
   ],
   "source": [
    "BATCH_SIZE=20 \n",
    "TRAINING_SIZE = 2451 \n",
    "VALIDATION_SIZE = 307 \n",
    "\n",
    "compute_steps_per_epoch = lambda x: int(math.ceil(1. * x / BATCH_SIZE)) \n",
    "steps_per_epoch = compute_steps_per_epoch(TRAINING_SIZE) \n",
    "val_steps = compute_steps_per_epoch(VALIDATION_SIZE) \n",
    "\n",
    "print(steps_per_epoch)\n",
    "print(val_steps)"
   ]
  },
  {
   "cell_type": "code",
   "execution_count": 29,
   "metadata": {},
   "outputs": [],
   "source": [
    "callbacks_BW = callback(\"\\modelBW.h5\")"
   ]
  },
  {
   "cell_type": "code",
   "execution_count": 30,
   "metadata": {},
   "outputs": [
    {
     "name": "stdout",
     "output_type": "stream",
     "text": [
      "WARNING:tensorflow:From C:\\Users\\UTILIZ~1\\AppData\\Local\\Temp/ipykernel_21084/946214897.py:17: Model.fit_generator (from tensorflow.python.keras.engine.training) is deprecated and will be removed in a future version.\n",
      "Instructions for updating:\n",
      "Please use Model.fit, which supports generators.\n",
      "Epoch 1/30\n",
      "123/123 [==============================] - ETA: 0s - loss: 0.8207 - f1_m: 0.4929\n",
      "Epoch 00001: val_loss improved from inf to 0.66708, saving model to c:\\Users\\Utilizador\\Desktop\\2_semestre_DS\\Deep_Learning\\DL_GroupProject\\DeepLearning_Group_Project\\models\\modelBW.h5\n",
      "123/123 [==============================] - 109s 888ms/step - loss: 0.8207 - f1_m: 0.4929 - val_loss: 0.6671 - val_f1_m: 0.6100\n",
      "Epoch 2/30\n",
      "123/123 [==============================] - ETA: 0s - loss: 0.6018 - f1_m: 0.7187\n",
      "Epoch 00002: val_loss improved from 0.66708 to 0.54838, saving model to c:\\Users\\Utilizador\\Desktop\\2_semestre_DS\\Deep_Learning\\DL_GroupProject\\DeepLearning_Group_Project\\models\\modelBW.h5\n",
      "123/123 [==============================] - 112s 913ms/step - loss: 0.6018 - f1_m: 0.7187 - val_loss: 0.5484 - val_f1_m: 0.7464\n",
      "Epoch 3/30\n",
      "123/123 [==============================] - ETA: 0s - loss: 0.5038 - f1_m: 0.7746\n",
      "Epoch 00003: val_loss improved from 0.54838 to 0.49370, saving model to c:\\Users\\Utilizador\\Desktop\\2_semestre_DS\\Deep_Learning\\DL_GroupProject\\DeepLearning_Group_Project\\models\\modelBW.h5\n",
      "123/123 [==============================] - 92s 745ms/step - loss: 0.5038 - f1_m: 0.7746 - val_loss: 0.4937 - val_f1_m: 0.8045\n",
      "Epoch 4/30\n",
      "123/123 [==============================] - ETA: 0s - loss: 0.3833 - f1_m: 0.8381\n",
      "Epoch 00004: val_loss did not improve from 0.49370\n",
      "123/123 [==============================] - 99s 803ms/step - loss: 0.3833 - f1_m: 0.8381 - val_loss: 0.5746 - val_f1_m: 0.7611\n",
      "Epoch 5/30\n",
      "123/123 [==============================] - ETA: 0s - loss: 0.3312 - f1_m: 0.8615\n",
      "Epoch 00005: val_loss improved from 0.49370 to 0.43951, saving model to c:\\Users\\Utilizador\\Desktop\\2_semestre_DS\\Deep_Learning\\DL_GroupProject\\DeepLearning_Group_Project\\models\\modelBW.h5\n",
      "123/123 [==============================] - 93s 757ms/step - loss: 0.3312 - f1_m: 0.8615 - val_loss: 0.4395 - val_f1_m: 0.8048\n",
      "Epoch 6/30\n",
      "123/123 [==============================] - ETA: 0s - loss: 0.3008 - f1_m: 0.8762\n",
      "Epoch 00006: val_loss improved from 0.43951 to 0.39341, saving model to c:\\Users\\Utilizador\\Desktop\\2_semestre_DS\\Deep_Learning\\DL_GroupProject\\DeepLearning_Group_Project\\models\\modelBW.h5\n",
      "123/123 [==============================] - 100s 815ms/step - loss: 0.3008 - f1_m: 0.8762 - val_loss: 0.3934 - val_f1_m: 0.8070\n",
      "Epoch 7/30\n",
      "123/123 [==============================] - ETA: 0s - loss: 0.2677 - f1_m: 0.8914\n",
      "Epoch 00007: val_loss improved from 0.39341 to 0.34098, saving model to c:\\Users\\Utilizador\\Desktop\\2_semestre_DS\\Deep_Learning\\DL_GroupProject\\DeepLearning_Group_Project\\models\\modelBW.h5\n",
      "123/123 [==============================] - 106s 864ms/step - loss: 0.2677 - f1_m: 0.8914 - val_loss: 0.3410 - val_f1_m: 0.8626\n",
      "Epoch 8/30\n",
      "123/123 [==============================] - ETA: 0s - loss: 0.1884 - f1_m: 0.9278\n",
      "Epoch 00008: val_loss improved from 0.34098 to 0.33506, saving model to c:\\Users\\Utilizador\\Desktop\\2_semestre_DS\\Deep_Learning\\DL_GroupProject\\DeepLearning_Group_Project\\models\\modelBW.h5\n",
      "123/123 [==============================] - 105s 852ms/step - loss: 0.1884 - f1_m: 0.9278 - val_loss: 0.3351 - val_f1_m: 0.8702\n",
      "Epoch 9/30\n",
      "123/123 [==============================] - ETA: 0s - loss: 0.1655 - f1_m: 0.9312\n",
      "Epoch 00009: val_loss did not improve from 0.33506\n",
      "123/123 [==============================] - 90s 730ms/step - loss: 0.1655 - f1_m: 0.9312 - val_loss: 0.3644 - val_f1_m: 0.8431\n",
      "Epoch 10/30\n",
      "123/123 [==============================] - ETA: 0s - loss: 0.1443 - f1_m: 0.9408\n",
      "Epoch 00010: val_loss did not improve from 0.33506\n",
      "123/123 [==============================] - 102s 825ms/step - loss: 0.1443 - f1_m: 0.9408 - val_loss: 0.3549 - val_f1_m: 0.8696\n",
      "Epoch 11/30\n",
      "123/123 [==============================] - ETA: 0s - loss: 0.0978 - f1_m: 0.9669\n",
      "Epoch 00011: val_loss improved from 0.33506 to 0.26372, saving model to c:\\Users\\Utilizador\\Desktop\\2_semestre_DS\\Deep_Learning\\DL_GroupProject\\DeepLearning_Group_Project\\models\\modelBW.h5\n",
      "123/123 [==============================] - 109s 883ms/step - loss: 0.0978 - f1_m: 0.9669 - val_loss: 0.2637 - val_f1_m: 0.8924\n",
      "Epoch 12/30\n",
      "123/123 [==============================] - ETA: 0s - loss: 0.0801 - f1_m: 0.9717\n",
      "Epoch 00012: val_loss did not improve from 0.26372\n",
      "123/123 [==============================] - 106s 860ms/step - loss: 0.0801 - f1_m: 0.9717 - val_loss: 0.2891 - val_f1_m: 0.9031\n",
      "Epoch 13/30\n",
      "123/123 [==============================] - ETA: 0s - loss: 0.0829 - f1_m: 0.9683\n",
      "Epoch 00013: val_loss did not improve from 0.26372\n",
      "123/123 [==============================] - 106s 864ms/step - loss: 0.0829 - f1_m: 0.9683 - val_loss: 0.3032 - val_f1_m: 0.8894\n",
      "Epoch 14/30\n",
      "123/123 [==============================] - ETA: 0s - loss: 0.0587 - f1_m: 0.9795\n",
      "Epoch 00014: val_loss did not improve from 0.26372\n",
      "123/123 [==============================] - 107s 871ms/step - loss: 0.0587 - f1_m: 0.9795 - val_loss: 0.2648 - val_f1_m: 0.8974\n",
      "Epoch 15/30\n",
      "123/123 [==============================] - ETA: 0s - loss: 0.0536 - f1_m: 0.9805\n",
      "Epoch 00015: val_loss did not improve from 0.26372\n",
      "123/123 [==============================] - 106s 860ms/step - loss: 0.0536 - f1_m: 0.9805 - val_loss: 0.3423 - val_f1_m: 0.9094\n"
     ]
    }
   ],
   "source": [
    "model = models.Sequential()\n",
    "\n",
    "model.add(layers.Conv2D(64, (3, 3), activation='relu', input_shape=(150, 150, 1)))\n",
    "model.add(layers.MaxPooling2D(2, 2))\n",
    "model.add(layers.Conv2D(64, (3, 3), activation='relu'))\n",
    "model.add(layers.MaxPooling2D(2, 2))\n",
    "model.add(layers.Conv2D(32, (3, 3), activation='relu'))\n",
    "model.add(layers.MaxPooling2D(2, 2))\n",
    "model.add(layers.Conv2D(32, (3, 3), activation='relu'))\n",
    "model.add(layers.MaxPooling2D(2, 2))\n",
    "model.add(layers.Flatten())\n",
    "model.add(layers.Dense(50, activation='relu'))\n",
    "model.add(layers.Dense(3, activation='softmax'))\n",
    "\n",
    "model.compile(loss='categorical_crossentropy', optimizer='adam', metrics=[f1_m])\n",
    "\n",
    "history_1st = model.fit_generator(train_generator, callbacks=callbacks_BW, epochs=30, steps_per_epoch=123, validation_steps=16,\n",
    "                                 validation_data=val_generator, workers=2)"
   ]
  },
  {
   "cell_type": "code",
   "execution_count": 15,
   "metadata": {},
   "outputs": [],
   "source": [
    "#np.save('models/historyBW.npy',history_1st.history)\n",
    "modelBW = keras.models.load_model('models/modelBW.h5', custom_objects=dependencies)\n",
    "historyBW=np.load('models/historyBW.npy',allow_pickle='TRUE').item()\n",
    "#timesBW = time_callback.times\n",
    "#save_times(modelBW, timesBW,'modelBW')"
   ]
  },
  {
   "cell_type": "code",
   "execution_count": 53,
   "metadata": {},
   "outputs": [
    {
     "data": {
      "image/png": "[encoded data removed]",
      "text/plain": [
       "<Figure size 432x288 with 1 Axes>"
      ]
     },
     "metadata": {
      "needs_background": "light"
     },
     "output_type": "display_data"
    },
    {
     "data": {
      "image/png": "[encoded data removed]",
      "text/plain": [
       "<Figure size 432x288 with 1 Axes>"
      ]
     },
     "metadata": {
      "needs_background": "light"
     },
     "output_type": "display_data"
    },
    {
     "data": {
      "text/plain": [
       "<Figure size 432x288 with 0 Axes>"
      ]
     },
     "metadata": {},
     "output_type": "display_data"
    }
   ],
   "source": [
    "plot_history(historyBW)\n"
   ]
  },
  {
   "cell_type": "code",
   "execution_count": 54,
   "metadata": {},
   "outputs": [],
   "source": [
    "callbacks_BW_inc = callback(\"\\modelBW_inc.h5\")\n",
    "#increase the nr of filters through the CNN"
   ]
  },
  {
   "cell_type": "code",
   "execution_count": 55,
   "metadata": {},
   "outputs": [
    {
     "name": "stdout",
     "output_type": "stream",
     "text": [
      "Epoch 1/30\n",
      "123/123 [==============================] - ETA: 0s - loss: 0.7821 - f1_m: 0.5629\n",
      "Epoch 00001: val_loss improved from inf to 0.64189, saving model to c:\\Users\\Utilizador\\Desktop\\2_semestre_DS\\Deep_Learning\\DL_GroupProject\\DeepLearning_Group_Project\\models\\modelBW_inc.h5\n",
      "123/123 [==============================] - 66s 536ms/step - loss: 0.7821 - f1_m: 0.5629 - val_loss: 0.6419 - val_f1_m: 0.7159\n",
      "Epoch 2/30\n",
      "123/123 [==============================] - ETA: 0s - loss: 0.5613 - f1_m: 0.7450\n",
      "Epoch 00002: val_loss improved from 0.64189 to 0.49001, saving model to c:\\Users\\Utilizador\\Desktop\\2_semestre_DS\\Deep_Learning\\DL_GroupProject\\DeepLearning_Group_Project\\models\\modelBW_inc.h5\n",
      "123/123 [==============================] - 72s 581ms/step - loss: 0.5613 - f1_m: 0.7450 - val_loss: 0.4900 - val_f1_m: 0.7882\n",
      "Epoch 3/30\n",
      "123/123 [==============================] - ETA: 0s - loss: 0.4478 - f1_m: 0.8084\n",
      "Epoch 00003: val_loss did not improve from 0.49001\n",
      "123/123 [==============================] - 71s 579ms/step - loss: 0.4478 - f1_m: 0.8084 - val_loss: 0.5086 - val_f1_m: 0.7724\n",
      "Epoch 4/30\n",
      "123/123 [==============================] - ETA: 0s - loss: 0.3749 - f1_m: 0.8437\n",
      "Epoch 00004: val_loss improved from 0.49001 to 0.42431, saving model to c:\\Users\\Utilizador\\Desktop\\2_semestre_DS\\Deep_Learning\\DL_GroupProject\\DeepLearning_Group_Project\\models\\modelBW_inc.h5\n",
      "123/123 [==============================] - 68s 556ms/step - loss: 0.3749 - f1_m: 0.8437 - val_loss: 0.4243 - val_f1_m: 0.8250\n",
      "Epoch 5/30\n",
      "123/123 [==============================] - ETA: 0s - loss: 0.3148 - f1_m: 0.8668\n",
      "Epoch 00005: val_loss improved from 0.42431 to 0.38761, saving model to c:\\Users\\Utilizador\\Desktop\\2_semestre_DS\\Deep_Learning\\DL_GroupProject\\DeepLearning_Group_Project\\models\\modelBW_inc.h5\n",
      "123/123 [==============================] - 56s 456ms/step - loss: 0.3148 - f1_m: 0.8668 - val_loss: 0.3876 - val_f1_m: 0.8199\n",
      "Epoch 6/30\n",
      "123/123 [==============================] - ETA: 0s - loss: 0.2770 - f1_m: 0.8896\n",
      "Epoch 00006: val_loss improved from 0.38761 to 0.34491, saving model to c:\\Users\\Utilizador\\Desktop\\2_semestre_DS\\Deep_Learning\\DL_GroupProject\\DeepLearning_Group_Project\\models\\modelBW_inc.h5\n",
      "123/123 [==============================] - 52s 421ms/step - loss: 0.2770 - f1_m: 0.8896 - val_loss: 0.3449 - val_f1_m: 0.8434\n",
      "Epoch 7/30\n",
      "123/123 [==============================] - ETA: 0s - loss: 0.2063 - f1_m: 0.9192\n",
      "Epoch 00007: val_loss did not improve from 0.34491\n",
      "123/123 [==============================] - 51s 417ms/step - loss: 0.2063 - f1_m: 0.9192 - val_loss: 0.3650 - val_f1_m: 0.8571\n",
      "Epoch 8/30\n",
      "123/123 [==============================] - ETA: 0s - loss: 0.1688 - f1_m: 0.9354\n",
      "Epoch 00008: val_loss did not improve from 0.34491\n",
      "123/123 [==============================] - 51s 416ms/step - loss: 0.1688 - f1_m: 0.9354 - val_loss: 0.3608 - val_f1_m: 0.8699\n",
      "Epoch 9/30\n",
      "123/123 [==============================] - ETA: 0s - loss: 0.1347 - f1_m: 0.9513\n",
      "Epoch 00009: val_loss improved from 0.34491 to 0.29661, saving model to c:\\Users\\Utilizador\\Desktop\\2_semestre_DS\\Deep_Learning\\DL_GroupProject\\DeepLearning_Group_Project\\models\\modelBW_inc.h5\n",
      "123/123 [==============================] - 51s 418ms/step - loss: 0.1347 - f1_m: 0.9513 - val_loss: 0.2966 - val_f1_m: 0.8855\n",
      "Epoch 10/30\n",
      "123/123 [==============================] - ETA: 0s - loss: 0.0945 - f1_m: 0.9642\n",
      "Epoch 00010: val_loss improved from 0.29661 to 0.28545, saving model to c:\\Users\\Utilizador\\Desktop\\2_semestre_DS\\Deep_Learning\\DL_GroupProject\\DeepLearning_Group_Project\\models\\modelBW_inc.h5\n",
      "123/123 [==============================] - 51s 416ms/step - loss: 0.0945 - f1_m: 0.9642 - val_loss: 0.2855 - val_f1_m: 0.8934\n",
      "Epoch 11/30\n",
      "123/123 [==============================] - ETA: 0s - loss: 0.0902 - f1_m: 0.9669\n",
      "Epoch 00011: val_loss improved from 0.28545 to 0.22267, saving model to c:\\Users\\Utilizador\\Desktop\\2_semestre_DS\\Deep_Learning\\DL_GroupProject\\DeepLearning_Group_Project\\models\\modelBW_inc.h5\n",
      "123/123 [==============================] - 51s 417ms/step - loss: 0.0902 - f1_m: 0.9669 - val_loss: 0.2227 - val_f1_m: 0.9051\n",
      "Epoch 12/30\n",
      "123/123 [==============================] - ETA: 0s - loss: 0.0674 - f1_m: 0.9709\n",
      "Epoch 00012: val_loss did not improve from 0.22267\n",
      "123/123 [==============================] - 51s 418ms/step - loss: 0.0674 - f1_m: 0.9709 - val_loss: 0.2482 - val_f1_m: 0.8958\n",
      "Epoch 13/30\n",
      "123/123 [==============================] - ETA: 0s - loss: 0.0361 - f1_m: 0.9888\n",
      "Epoch 00013: val_loss did not improve from 0.22267\n",
      "123/123 [==============================] - 52s 426ms/step - loss: 0.0361 - f1_m: 0.9888 - val_loss: 0.2965 - val_f1_m: 0.9113\n",
      "Epoch 14/30\n",
      "123/123 [==============================] - ETA: 0s - loss: 0.0589 - f1_m: 0.9780\n",
      "Epoch 00014: val_loss did not improve from 0.22267\n",
      "123/123 [==============================] - 61s 497ms/step - loss: 0.0589 - f1_m: 0.9780 - val_loss: 0.2965 - val_f1_m: 0.9036\n",
      "Epoch 15/30\n",
      "123/123 [==============================] - ETA: 0s - loss: 0.0307 - f1_m: 0.9890\n",
      "Epoch 00015: val_loss did not improve from 0.22267\n",
      "123/123 [==============================] - 52s 420ms/step - loss: 0.0307 - f1_m: 0.9890 - val_loss: 0.2373 - val_f1_m: 0.9279\n"
     ]
    }
   ],
   "source": [
    "model2 = models.Sequential()\n",
    "\n",
    "model2.add(layers.Conv2D(32, (3, 3), activation='relu', input_shape=(150, 150, 1)))\n",
    "model2.add(layers.MaxPooling2D(2, 2))\n",
    "model2.add(layers.Conv2D(32, (3, 3), activation='relu'))\n",
    "model2.add(layers.MaxPooling2D(2, 2))\n",
    "model2.add(layers.Conv2D(64, (3, 3), activation='relu'))\n",
    "model2.add(layers.MaxPooling2D(2, 2))\n",
    "model2.add(layers.Conv2D(64, (3, 3), activation='relu'))\n",
    "model2.add(layers.MaxPooling2D(2, 2))\n",
    "model2.add(layers.Flatten())\n",
    "model2.add(layers.Dense(100, activation='relu'))\n",
    "model2.add(layers.Dense(3, activation='softmax'))\n",
    "\n",
    "model2.compile(loss='categorical_crossentropy', optimizer='adam', metrics=[f1_m])\n",
    "\n",
    "history_2 = model2.fit_generator(train_generator, callbacks=callbacks_BW_inc, epochs=30, steps_per_epoch=123, validation_steps=16,\n",
    "                                 validation_data=val_generator, workers=2)"
   ]
  },
  {
   "cell_type": "code",
   "execution_count": 56,
   "metadata": {},
   "outputs": [],
   "source": [
    "np.save('models/historyBW_inc.npy',history_2.history)\n",
    "modelBW_inc = keras.models.load_model('models/modelBW_inc.h5', custom_objects=dependencies)\n",
    "historyBW_inc=np.load('models/historyBW_inc.npy',allow_pickle='TRUE').item()\n",
    "timesBW = time_callback.times\n",
    "save_times(modelBW_inc, timesBW,'modelBW_inc')"
   ]
  },
  {
   "cell_type": "code",
   "execution_count": 57,
   "metadata": {},
   "outputs": [
    {
     "data": {
      "image/png": "[encoded data removed]",
      "text/plain": [
       "<Figure size 432x288 with 1 Axes>"
      ]
     },
     "metadata": {
      "needs_background": "light"
     },
     "output_type": "display_data"
    },
    {
     "data": {
      "image/png": "[encoded data removed]",
      "text/plain": [
       "<Figure size 432x288 with 1 Axes>"
      ]
     },
     "metadata": {
      "needs_background": "light"
     },
     "output_type": "display_data"
    },
    {
     "data": {
      "text/plain": [
       "<Figure size 432x288 with 0 Axes>"
      ]
     },
     "metadata": {},
     "output_type": "display_data"
    }
   ],
   "source": [
    "plot_history(historyBW_inc)"
   ]
  },
  {
   "cell_type": "markdown",
   "metadata": {},
   "source": [
    "# REDUCING THE NUMBER OF LAYERS"
   ]
  },
  {
   "cell_type": "code",
   "execution_count": 58,
   "metadata": {},
   "outputs": [],
   "source": [
    "callbacks_BW_simple = callback(\"\\modelBW_simple.h5\")\n",
    "#increase the nr of filters through the CNN"
   ]
  },
  {
   "cell_type": "code",
   "execution_count": 59,
   "metadata": {},
   "outputs": [
    {
     "name": "stdout",
     "output_type": "stream",
     "text": [
      "Epoch 1/30\n",
      "123/123 [==============================] - ETA: 0s - loss: 0.7221 - f1_m: 0.6164\n",
      "Epoch 00001: val_loss improved from inf to 0.68303, saving model to c:\\Users\\Utilizador\\Desktop\\2_semestre_DS\\Deep_Learning\\DL_GroupProject\\DeepLearning_Group_Project\\models\\modelBW_simple.h5\n",
      "123/123 [==============================] - 81s 657ms/step - loss: 0.7221 - f1_m: 0.6164 - val_loss: 0.6830 - val_f1_m: 0.6612\n",
      "Epoch 2/30\n",
      "123/123 [==============================] - ETA: 0s - loss: 0.5392 - f1_m: 0.7424\n",
      "Epoch 00002: val_loss improved from 0.68303 to 0.53808, saving model to c:\\Users\\Utilizador\\Desktop\\2_semestre_DS\\Deep_Learning\\DL_GroupProject\\DeepLearning_Group_Project\\models\\modelBW_simple.h5\n",
      "123/123 [==============================] - 77s 623ms/step - loss: 0.5392 - f1_m: 0.7424 - val_loss: 0.5381 - val_f1_m: 0.7250\n",
      "Epoch 3/30\n",
      "123/123 [==============================] - ETA: 0s - loss: 0.4233 - f1_m: 0.8077\n",
      "Epoch 00003: val_loss improved from 0.53808 to 0.52782, saving model to c:\\Users\\Utilizador\\Desktop\\2_semestre_DS\\Deep_Learning\\DL_GroupProject\\DeepLearning_Group_Project\\models\\modelBW_simple.h5\n",
      "123/123 [==============================] - 73s 596ms/step - loss: 0.4233 - f1_m: 0.8077 - val_loss: 0.5278 - val_f1_m: 0.7516\n",
      "Epoch 4/30\n",
      "123/123 [==============================] - ETA: 0s - loss: 0.3014 - f1_m: 0.8795\n",
      "Epoch 00004: val_loss improved from 0.52782 to 0.33472, saving model to c:\\Users\\Utilizador\\Desktop\\2_semestre_DS\\Deep_Learning\\DL_GroupProject\\DeepLearning_Group_Project\\models\\modelBW_simple.h5\n",
      "123/123 [==============================] - 74s 603ms/step - loss: 0.3014 - f1_m: 0.8795 - val_loss: 0.3347 - val_f1_m: 0.8626\n",
      "Epoch 5/30\n",
      "123/123 [==============================] - ETA: 0s - loss: 0.2208 - f1_m: 0.9066\n",
      "Epoch 00005: val_loss improved from 0.33472 to 0.29864, saving model to c:\\Users\\Utilizador\\Desktop\\2_semestre_DS\\Deep_Learning\\DL_GroupProject\\DeepLearning_Group_Project\\models\\modelBW_simple.h5\n",
      "123/123 [==============================] - 74s 604ms/step - loss: 0.2208 - f1_m: 0.9066 - val_loss: 0.2986 - val_f1_m: 0.8795\n",
      "Epoch 6/30\n",
      "123/123 [==============================] - ETA: 0s - loss: 0.1628 - f1_m: 0.9323\n",
      "Epoch 00006: val_loss improved from 0.29864 to 0.25906, saving model to c:\\Users\\Utilizador\\Desktop\\2_semestre_DS\\Deep_Learning\\DL_GroupProject\\DeepLearning_Group_Project\\models\\modelBW_simple.h5\n",
      "123/123 [==============================] - 75s 613ms/step - loss: 0.1628 - f1_m: 0.9323 - val_loss: 0.2591 - val_f1_m: 0.8963\n",
      "Epoch 7/30\n",
      "123/123 [==============================] - ETA: 0s - loss: 0.1014 - f1_m: 0.9638\n",
      "Epoch 00007: val_loss improved from 0.25906 to 0.24672, saving model to c:\\Users\\Utilizador\\Desktop\\2_semestre_DS\\Deep_Learning\\DL_GroupProject\\DeepLearning_Group_Project\\models\\modelBW_simple.h5\n",
      "123/123 [==============================] - 75s 607ms/step - loss: 0.1014 - f1_m: 0.9638 - val_loss: 0.2467 - val_f1_m: 0.9156\n",
      "Epoch 8/30\n",
      "123/123 [==============================] - ETA: 0s - loss: 0.0792 - f1_m: 0.9724\n",
      "Epoch 00008: val_loss did not improve from 0.24672\n",
      "123/123 [==============================] - 76s 614ms/step - loss: 0.0792 - f1_m: 0.9724 - val_loss: 0.3314 - val_f1_m: 0.8800\n",
      "Epoch 9/30\n",
      "123/123 [==============================] - ETA: 0s - loss: 0.0461 - f1_m: 0.9821\n",
      "Epoch 00009: val_loss did not improve from 0.24672\n",
      "123/123 [==============================] - 76s 617ms/step - loss: 0.0461 - f1_m: 0.9821 - val_loss: 0.2677 - val_f1_m: 0.9103\n",
      "Epoch 10/30\n",
      "123/123 [==============================] - ETA: 0s - loss: 0.0406 - f1_m: 0.9850\n",
      "Epoch 00010: val_loss did not improve from 0.24672\n",
      "123/123 [==============================] - 75s 608ms/step - loss: 0.0406 - f1_m: 0.9850 - val_loss: 0.2674 - val_f1_m: 0.9098\n",
      "Epoch 11/30\n",
      "123/123 [==============================] - ETA: 0s - loss: 0.0118 - f1_m: 0.9976\n",
      "Epoch 00011: val_loss did not improve from 0.24672\n",
      "123/123 [==============================] - 75s 609ms/step - loss: 0.0118 - f1_m: 0.9976 - val_loss: 0.4377 - val_f1_m: 0.8973\n"
     ]
    }
   ],
   "source": [
    "model3 = models.Sequential()\n",
    "\n",
    "model3.add(layers.Conv2D(32, (3, 3), activation='relu', input_shape=(150, 150, 1)))\n",
    "model3.add(layers.MaxPooling2D(2, 2))\n",
    "model3.add(layers.Conv2D(64, (3, 3), activation='relu'))\n",
    "model3.add(layers.MaxPooling2D(2, 2))\n",
    "model3.add(layers.Conv2D(64, (3, 3), activation='relu'))\n",
    "model3.add(layers.MaxPooling2D(2, 2))\n",
    "model3.add(layers.Flatten())\n",
    "model3.add(layers.Dense(100, activation='relu'))\n",
    "model3.add(layers.Dense(3, activation='softmax'))\n",
    "\n",
    "model3.compile(loss='categorical_crossentropy', optimizer='adam', metrics=[f1_m])\n",
    "\n",
    "history_3 = model3.fit_generator(train_generator, callbacks=callbacks_BW_simple, epochs=30, steps_per_epoch=123, validation_steps=16,\n",
    "                                 validation_data=val_generator, workers=2)"
   ]
  },
  {
   "cell_type": "code",
   "execution_count": 60,
   "metadata": {},
   "outputs": [],
   "source": [
    "np.save('models/historyBW_simple.npy',history_3.history)\n",
    "modelBW_simple = keras.models.load_model('models/modelBW_simple.h5', custom_objects=dependencies)\n",
    "historyBW_simple=np.load('models/historyBW_simple.npy',allow_pickle='TRUE').item()\n",
    "timesBW_simple = time_callback.times\n",
    "\n",
    "save_times(modelBW_simple, timesBW_simple,'modelBW_simple')"
   ]
  },
  {
   "cell_type": "markdown",
   "metadata": {},
   "source": [
    "# DATA AUGMENTATION AND DROP OUT 0.5"
   ]
  },
  {
   "cell_type": "code",
   "execution_count": 16,
   "metadata": {},
   "outputs": [],
   "source": [
    "def callback(filename):\n",
    "      callname_list=[keras.callbacks.EarlyStopping(monitor='val_loss', patience=3),\n",
    "            keras.callbacks.ModelCheckpoint(filepath=os.path.join(base_path+ \"\\models\")+filename, monitor='val_loss',mode='min',verbose=1, save_best_only=True),\n",
    "            time_callback, \n",
    "            keras.callbacks.ReduceLROnPlateau(monitor='val_loss', factor=0.1, patience=10, mode='min', min_lr=1e-4)]\n",
    "\n",
    "      return callname_list\n"
   ]
  },
  {
   "cell_type": "code",
   "execution_count": 17,
   "metadata": {},
   "outputs": [],
   "source": [
    "callbacks_BW_aug_5 = callback(\"\\modelBW_aug_5.h5\")\n",
    "# aug and dropout\n",
    "# modelBW_aug_rot= rotation10\n",
    "# modelBW_aug=rot50"
   ]
  },
  {
   "cell_type": "code",
   "execution_count": 18,
   "metadata": {},
   "outputs": [
    {
     "name": "stdout",
     "output_type": "stream",
     "text": [
      "WARNING:tensorflow:From C:\\Users\\UTILIZ~1\\AppData\\Local\\Temp/ipykernel_23996/1627853678.py:16: Model.fit_generator (from tensorflow.python.keras.engine.training) is deprecated and will be removed in a future version.\n",
      "Instructions for updating:\n",
      "Please use Model.fit, which supports generators.\n",
      "Epoch 1/30\n",
      "123/123 [==============================] - ETA: 0s - loss: 0.7707 - f1_m: 0.5844\n",
      "Epoch 00001: val_loss improved from inf to 0.60630, saving model to c:\\Users\\Utilizador\\Desktop\\2_semestre_DS\\Deep_Learning\\DL_GroupProject\\DeepLearning_Group_Project\\models\\modelBW_aug_5.h5\n",
      "123/123 [==============================] - 85s 688ms/step - loss: 0.7707 - f1_m: 0.5844 - val_loss: 0.6063 - val_f1_m: 0.7426\n",
      "Epoch 2/30\n",
      "123/123 [==============================] - ETA: 0s - loss: 0.5832 - f1_m: 0.7324\n",
      "Epoch 00002: val_loss improved from 0.60630 to 0.49565, saving model to c:\\Users\\Utilizador\\Desktop\\2_semestre_DS\\Deep_Learning\\DL_GroupProject\\DeepLearning_Group_Project\\models\\modelBW_aug_5.h5\n",
      "123/123 [==============================] - 85s 688ms/step - loss: 0.5832 - f1_m: 0.7324 - val_loss: 0.4957 - val_f1_m: 0.7823\n",
      "Epoch 3/30\n",
      "123/123 [==============================] - ETA: 0s - loss: 0.4590 - f1_m: 0.7996\n",
      "Epoch 00003: val_loss improved from 0.49565 to 0.48035, saving model to c:\\Users\\Utilizador\\Desktop\\2_semestre_DS\\Deep_Learning\\DL_GroupProject\\DeepLearning_Group_Project\\models\\modelBW_aug_5.h5\n",
      "123/123 [==============================] - 83s 676ms/step - loss: 0.4590 - f1_m: 0.7996 - val_loss: 0.4804 - val_f1_m: 0.8015\n",
      "Epoch 4/30\n",
      "123/123 [==============================] - ETA: 0s - loss: 0.4259 - f1_m: 0.8096\n",
      "Epoch 00004: val_loss improved from 0.48035 to 0.47503, saving model to c:\\Users\\Utilizador\\Desktop\\2_semestre_DS\\Deep_Learning\\DL_GroupProject\\DeepLearning_Group_Project\\models\\modelBW_aug_5.h5\n",
      "123/123 [==============================] - 82s 669ms/step - loss: 0.4259 - f1_m: 0.8096 - val_loss: 0.4750 - val_f1_m: 0.7915\n",
      "Epoch 5/30\n",
      "123/123 [==============================] - ETA: 0s - loss: 0.3642 - f1_m: 0.8462\n",
      "Epoch 00005: val_loss improved from 0.47503 to 0.37036, saving model to c:\\Users\\Utilizador\\Desktop\\2_semestre_DS\\Deep_Learning\\DL_GroupProject\\DeepLearning_Group_Project\\models\\modelBW_aug_5.h5\n",
      "123/123 [==============================] - 82s 668ms/step - loss: 0.3642 - f1_m: 0.8462 - val_loss: 0.3704 - val_f1_m: 0.8257\n",
      "Epoch 6/30\n",
      "123/123 [==============================] - ETA: 0s - loss: 0.3174 - f1_m: 0.8657\n",
      "Epoch 00006: val_loss did not improve from 0.37036\n",
      "123/123 [==============================] - 83s 677ms/step - loss: 0.3174 - f1_m: 0.8657 - val_loss: 0.3802 - val_f1_m: 0.8208\n",
      "Epoch 7/30\n",
      "123/123 [==============================] - ETA: 0s - loss: 0.2885 - f1_m: 0.8797\n",
      "Epoch 00007: val_loss improved from 0.37036 to 0.32327, saving model to c:\\Users\\Utilizador\\Desktop\\2_semestre_DS\\Deep_Learning\\DL_GroupProject\\DeepLearning_Group_Project\\models\\modelBW_aug_5.h5\n",
      "123/123 [==============================] - 82s 664ms/step - loss: 0.2885 - f1_m: 0.8797 - val_loss: 0.3233 - val_f1_m: 0.8782\n",
      "Epoch 8/30\n",
      "123/123 [==============================] - ETA: 0s - loss: 0.2397 - f1_m: 0.9020\n",
      "Epoch 00008: val_loss improved from 0.32327 to 0.26256, saving model to c:\\Users\\Utilizador\\Desktop\\2_semestre_DS\\Deep_Learning\\DL_GroupProject\\DeepLearning_Group_Project\\models\\modelBW_aug_5.h5\n",
      "123/123 [==============================] - 84s 686ms/step - loss: 0.2397 - f1_m: 0.9020 - val_loss: 0.2626 - val_f1_m: 0.8857\n",
      "Epoch 9/30\n",
      "123/123 [==============================] - ETA: 0s - loss: 0.2326 - f1_m: 0.9056\n",
      "Epoch 00009: val_loss improved from 0.26256 to 0.25083, saving model to c:\\Users\\Utilizador\\Desktop\\2_semestre_DS\\Deep_Learning\\DL_GroupProject\\DeepLearning_Group_Project\\models\\modelBW_aug_5.h5\n",
      "123/123 [==============================] - 91s 738ms/step - loss: 0.2326 - f1_m: 0.9056 - val_loss: 0.2508 - val_f1_m: 0.8862\n",
      "Epoch 10/30\n",
      "123/123 [==============================] - ETA: 0s - loss: 0.1741 - f1_m: 0.9318\n",
      "Epoch 00010: val_loss improved from 0.25083 to 0.22790, saving model to c:\\Users\\Utilizador\\Desktop\\2_semestre_DS\\Deep_Learning\\DL_GroupProject\\DeepLearning_Group_Project\\models\\modelBW_aug_5.h5\n",
      "123/123 [==============================] - 84s 680ms/step - loss: 0.1741 - f1_m: 0.9318 - val_loss: 0.2279 - val_f1_m: 0.9104\n",
      "Epoch 11/30\n",
      "123/123 [==============================] - ETA: 0s - loss: 0.1670 - f1_m: 0.9337\n",
      "Epoch 00011: val_loss improved from 0.22790 to 0.20373, saving model to c:\\Users\\Utilizador\\Desktop\\2_semestre_DS\\Deep_Learning\\DL_GroupProject\\DeepLearning_Group_Project\\models\\modelBW_aug_5.h5\n",
      "123/123 [==============================] - 82s 663ms/step - loss: 0.1670 - f1_m: 0.9337 - val_loss: 0.2037 - val_f1_m: 0.9187\n",
      "Epoch 12/30\n",
      "123/123 [==============================] - ETA: 0s - loss: 0.1388 - f1_m: 0.9435\n",
      "Epoch 00012: val_loss did not improve from 0.20373\n",
      "123/123 [==============================] - 82s 668ms/step - loss: 0.1388 - f1_m: 0.9435 - val_loss: 0.2046 - val_f1_m: 0.9223\n",
      "Epoch 13/30\n",
      "123/123 [==============================] - ETA: 0s - loss: 0.1357 - f1_m: 0.9528\n",
      "Epoch 00013: val_loss improved from 0.20373 to 0.16640, saving model to c:\\Users\\Utilizador\\Desktop\\2_semestre_DS\\Deep_Learning\\DL_GroupProject\\DeepLearning_Group_Project\\models\\modelBW_aug_5.h5\n",
      "123/123 [==============================] - 85s 691ms/step - loss: 0.1357 - f1_m: 0.9528 - val_loss: 0.1664 - val_f1_m: 0.9594\n",
      "Epoch 14/30\n",
      "123/123 [==============================] - ETA: 0s - loss: 0.1083 - f1_m: 0.9557\n",
      "Epoch 00014: val_loss did not improve from 0.16640\n",
      "123/123 [==============================] - 85s 690ms/step - loss: 0.1083 - f1_m: 0.9557 - val_loss: 0.2157 - val_f1_m: 0.9086\n",
      "Epoch 15/30\n",
      "123/123 [==============================] - ETA: 0s - loss: 0.1107 - f1_m: 0.9563\n",
      "Epoch 00015: val_loss did not improve from 0.16640\n",
      "123/123 [==============================] - 82s 665ms/step - loss: 0.1107 - f1_m: 0.9563 - val_loss: 0.1776 - val_f1_m: 0.9406\n",
      "Epoch 16/30\n",
      "123/123 [==============================] - ETA: 0s - loss: 0.0920 - f1_m: 0.9671\n",
      "Epoch 00016: val_loss improved from 0.16640 to 0.14972, saving model to c:\\Users\\Utilizador\\Desktop\\2_semestre_DS\\Deep_Learning\\DL_GroupProject\\DeepLearning_Group_Project\\models\\modelBW_aug_5.h5\n",
      "123/123 [==============================] - 87s 709ms/step - loss: 0.0920 - f1_m: 0.9671 - val_loss: 0.1497 - val_f1_m: 0.9546\n",
      "Epoch 17/30\n",
      "123/123 [==============================] - ETA: 0s - loss: 0.0831 - f1_m: 0.9724\n",
      "Epoch 00017: val_loss did not improve from 0.14972\n",
      "123/123 [==============================] - 83s 675ms/step - loss: 0.0831 - f1_m: 0.9724 - val_loss: 0.1542 - val_f1_m: 0.9442\n",
      "Epoch 18/30\n",
      "123/123 [==============================] - ETA: 0s - loss: 0.0787 - f1_m: 0.9685\n",
      "Epoch 00018: val_loss improved from 0.14972 to 0.12810, saving model to c:\\Users\\Utilizador\\Desktop\\2_semestre_DS\\Deep_Learning\\DL_GroupProject\\DeepLearning_Group_Project\\models\\modelBW_aug_5.h5\n",
      "123/123 [==============================] - 81s 660ms/step - loss: 0.0787 - f1_m: 0.9685 - val_loss: 0.1281 - val_f1_m: 0.9500\n",
      "Epoch 19/30\n",
      "123/123 [==============================] - ETA: 0s - loss: 0.0638 - f1_m: 0.9789\n",
      "Epoch 00019: val_loss improved from 0.12810 to 0.12206, saving model to c:\\Users\\Utilizador\\Desktop\\2_semestre_DS\\Deep_Learning\\DL_GroupProject\\DeepLearning_Group_Project\\models\\modelBW_aug_5.h5\n",
      "123/123 [==============================] - 81s 661ms/step - loss: 0.0638 - f1_m: 0.9789 - val_loss: 0.1221 - val_f1_m: 0.9656\n",
      "Epoch 20/30\n",
      "123/123 [==============================] - ETA: 0s - loss: 0.0547 - f1_m: 0.9822\n",
      "Epoch 00020: val_loss did not improve from 0.12206\n",
      "123/123 [==============================] - 76s 621ms/step - loss: 0.0547 - f1_m: 0.9822 - val_loss: 0.1475 - val_f1_m: 0.9348\n",
      "Epoch 21/30\n",
      "123/123 [==============================] - ETA: 0s - loss: 0.0554 - f1_m: 0.9819\n",
      "Epoch 00021: val_loss did not improve from 0.12206\n",
      "123/123 [==============================] - 65s 530ms/step - loss: 0.0554 - f1_m: 0.9819 - val_loss: 0.1423 - val_f1_m: 0.9411\n",
      "Epoch 22/30\n",
      "123/123 [==============================] - ETA: 0s - loss: 0.0508 - f1_m: 0.9827\n",
      "Epoch 00022: val_loss did not improve from 0.12206\n",
      "123/123 [==============================] - 69s 561ms/step - loss: 0.0508 - f1_m: 0.9827 - val_loss: 0.1512 - val_f1_m: 0.9513\n"
     ]
    }
   ],
   "source": [
    "model4 = models.Sequential()\n",
    "\n",
    "model4.add(layers.Conv2D(32, (3, 3), activation='relu', input_shape=(150, 150, 1)))\n",
    "model4.add(layers.MaxPooling2D(2, 2))\n",
    "model4.add(layers.Conv2D(64, (3, 3), activation='relu'))\n",
    "model4.add(layers.MaxPooling2D(2, 2))\n",
    "model4.add(layers.Conv2D(64, (3, 3), activation='relu'))\n",
    "model4.add(layers.MaxPooling2D(2, 2))\n",
    "model4.add(layers.Flatten())\n",
    "model4.add(layers.Dropout(0.5))\n",
    "model4.add(layers.Dense(100, activation='relu'))\n",
    "model4.add(layers.Dense(3, activation='softmax'))\n",
    "\n",
    "model4.compile(loss='categorical_crossentropy', optimizer='adam', metrics=[f1_m])\n",
    "\n",
    "history_4 = model4.fit_generator(train_generator_aug, callbacks=callbacks_BW_aug_5, epochs=30, steps_per_epoch=123, validation_steps=16,\n",
    "                                 validation_data=val_generator, workers=2)"
   ]
  },
  {
   "cell_type": "code",
   "execution_count": 19,
   "metadata": {},
   "outputs": [],
   "source": [
    "#np.save('models/historyBW_aug_5.npy',history_4.history)\n",
    "modelBW_aug_5 = keras.models.load_model('models/modelBW_aug_5.h5', custom_objects=dependencies)\n",
    "historyBW_aug_5=np.load('models/historyBW_aug_5.npy',allow_pickle='TRUE').item()\n",
    "#timesBW_aug_5 = time_callback.times\n",
    "#save_times(modelBW_aug_5, timesBW_aug_5,'modelBW_aug_5')"
   ]
  },
  {
   "cell_type": "code",
   "execution_count": 20,
   "metadata": {},
   "outputs": [
    {
     "name": "stdout",
     "output_type": "stream",
     "text": [
      "WARNING:tensorflow:From C:\\Users\\UTILIZ~1\\AppData\\Local\\Temp/ipykernel_23996/3959032470.py:6: Model.evaluate_generator (from tensorflow.python.keras.engine.training) is deprecated and will be removed in a future version.\n",
      "Instructions for updating:\n",
      "Please use Model.evaluate, which supports generators.\n"
     ]
    },
    {
     "data": {
      "text/plain": [
       "array([[ 68,   2,   1],\n",
       "       [  7, 134,   1],\n",
       "       [  0,   0,  93]], dtype=int64)"
      ]
     },
     "execution_count": 20,
     "metadata": {},
     "output_type": "execute_result"
    }
   ],
   "source": [
    "preds = modelBW_aug_5.predict(test_generator)\n",
    "predicted_class_indices = np.argmax(preds, axis=1)\n",
    "test_labels = test_generator.labels\n",
    "\n",
    "cm = confusion_matrix(test_labels, predicted_class_indices)\n",
    "test_score = modelBW_aug_5.evaluate_generator(test_generator)\n",
    "cm"
   ]
  },
  {
   "cell_type": "code",
   "execution_count": 21,
   "metadata": {},
   "outputs": [
    {
     "name": "stdout",
     "output_type": "stream",
     "text": [
      "Test loss: 0.10719911754131317 / Test accuracy: 0.965624988079071\n"
     ]
    }
   ],
   "source": [
    "print(f'Test loss: {test_score[0]} / Test accuracy: {test_score[1]}')"
   ]
  },
  {
   "cell_type": "markdown",
   "metadata": {},
   "source": [
    "# DATA AUGMENTATION AND DROP OUT 0.3"
   ]
  },
  {
   "cell_type": "code",
   "execution_count": 96,
   "metadata": {},
   "outputs": [],
   "source": [
    "callbacks_BW_aug_3 = callback(\"\\modelBW_aug_3.h5\")\n",
    "# aug and dropout of 0.3\n",
    "# modelBW_aug=rot50"
   ]
  },
  {
   "cell_type": "code",
   "execution_count": 97,
   "metadata": {},
   "outputs": [
    {
     "name": "stdout",
     "output_type": "stream",
     "text": [
      "Epoch 1/30\n",
      "123/123 [==============================] - ETA: 0s - loss: 0.7330 - f1_m: 0.6117\n",
      "Epoch 00001: val_loss improved from inf to 0.66092, saving model to c:\\Users\\Utilizador\\Desktop\\2_semestre_DS\\Deep_Learning\\DL_GroupProject\\DeepLearning_Group_Project\\models\\modelBW_aug_3.h5\n",
      "123/123 [==============================] - 73s 592ms/step - loss: 0.7330 - f1_m: 0.6117 - val_loss: 0.6609 - val_f1_m: 0.6600\n",
      "Epoch 2/30\n",
      "123/123 [==============================] - ETA: 0s - loss: 0.5207 - f1_m: 0.7690\n",
      "Epoch 00002: val_loss improved from 0.66092 to 0.46974, saving model to c:\\Users\\Utilizador\\Desktop\\2_semestre_DS\\Deep_Learning\\DL_GroupProject\\DeepLearning_Group_Project\\models\\modelBW_aug_3.h5\n",
      "123/123 [==============================] - 80s 649ms/step - loss: 0.5207 - f1_m: 0.7690 - val_loss: 0.4697 - val_f1_m: 0.8069\n",
      "Epoch 3/30\n",
      "123/123 [==============================] - ETA: 0s - loss: 0.4352 - f1_m: 0.8097\n",
      "Epoch 00003: val_loss improved from 0.46974 to 0.44493, saving model to c:\\Users\\Utilizador\\Desktop\\2_semestre_DS\\Deep_Learning\\DL_GroupProject\\DeepLearning_Group_Project\\models\\modelBW_aug_3.h5\n",
      "123/123 [==============================] - 81s 655ms/step - loss: 0.4352 - f1_m: 0.8097 - val_loss: 0.4449 - val_f1_m: 0.8038\n",
      "Epoch 4/30\n",
      "123/123 [==============================] - ETA: 0s - loss: 0.3726 - f1_m: 0.8365\n",
      "Epoch 00004: val_loss improved from 0.44493 to 0.40532, saving model to c:\\Users\\Utilizador\\Desktop\\2_semestre_DS\\Deep_Learning\\DL_GroupProject\\DeepLearning_Group_Project\\models\\modelBW_aug_3.h5\n",
      "123/123 [==============================] - 80s 649ms/step - loss: 0.3726 - f1_m: 0.8365 - val_loss: 0.4053 - val_f1_m: 0.8228\n",
      "Epoch 5/30\n",
      "123/123 [==============================] - ETA: 0s - loss: 0.3012 - f1_m: 0.8717\n",
      "Epoch 00005: val_loss improved from 0.40532 to 0.33404, saving model to c:\\Users\\Utilizador\\Desktop\\2_semestre_DS\\Deep_Learning\\DL_GroupProject\\DeepLearning_Group_Project\\models\\modelBW_aug_3.h5\n",
      "123/123 [==============================] - 80s 647ms/step - loss: 0.3012 - f1_m: 0.8717 - val_loss: 0.3340 - val_f1_m: 0.8584\n",
      "Epoch 6/30\n",
      "123/123 [==============================] - ETA: 0s - loss: 0.2560 - f1_m: 0.8891\n",
      "Epoch 00006: val_loss did not improve from 0.33404\n",
      "123/123 [==============================] - 80s 647ms/step - loss: 0.2560 - f1_m: 0.8891 - val_loss: 0.3567 - val_f1_m: 0.8430\n",
      "Epoch 7/30\n",
      "123/123 [==============================] - ETA: 0s - loss: 0.2171 - f1_m: 0.9133\n",
      "Epoch 00007: val_loss improved from 0.33404 to 0.24269, saving model to c:\\Users\\Utilizador\\Desktop\\2_semestre_DS\\Deep_Learning\\DL_GroupProject\\DeepLearning_Group_Project\\models\\modelBW_aug_3.h5\n",
      "123/123 [==============================] - 80s 653ms/step - loss: 0.2171 - f1_m: 0.9133 - val_loss: 0.2427 - val_f1_m: 0.9140\n",
      "Epoch 8/30\n",
      "123/123 [==============================] - ETA: 0s - loss: 0.1785 - f1_m: 0.9319\n",
      "Epoch 00008: val_loss improved from 0.24269 to 0.18819, saving model to c:\\Users\\Utilizador\\Desktop\\2_semestre_DS\\Deep_Learning\\DL_GroupProject\\DeepLearning_Group_Project\\models\\modelBW_aug_3.h5\n",
      "123/123 [==============================] - 81s 659ms/step - loss: 0.1785 - f1_m: 0.9319 - val_loss: 0.1882 - val_f1_m: 0.9279\n",
      "Epoch 9/30\n",
      "123/123 [==============================] - ETA: 0s - loss: 0.1562 - f1_m: 0.9413\n",
      "Epoch 00009: val_loss improved from 0.18819 to 0.17479, saving model to c:\\Users\\Utilizador\\Desktop\\2_semestre_DS\\Deep_Learning\\DL_GroupProject\\DeepLearning_Group_Project\\models\\modelBW_aug_3.h5\n",
      "123/123 [==============================] - 83s 675ms/step - loss: 0.1562 - f1_m: 0.9413 - val_loss: 0.1748 - val_f1_m: 0.9332\n",
      "Epoch 10/30\n",
      "123/123 [==============================] - ETA: 0s - loss: 0.1718 - f1_m: 0.9326\n",
      "Epoch 00010: val_loss did not improve from 0.17479\n",
      "123/123 [==============================] - 81s 659ms/step - loss: 0.1718 - f1_m: 0.9326 - val_loss: 0.2260 - val_f1_m: 0.9122\n",
      "Epoch 11/30\n",
      "123/123 [==============================] - ETA: 0s - loss: 0.1182 - f1_m: 0.9533\n",
      "Epoch 00011: val_loss did not improve from 0.17479\n",
      "123/123 [==============================] - 80s 650ms/step - loss: 0.1182 - f1_m: 0.9533 - val_loss: 0.2125 - val_f1_m: 0.9187\n",
      "Epoch 12/30\n",
      "123/123 [==============================] - ETA: 0s - loss: 0.0957 - f1_m: 0.9624\n",
      "Epoch 00012: val_loss did not improve from 0.17479\n",
      "123/123 [==============================] - 82s 670ms/step - loss: 0.0957 - f1_m: 0.9624 - val_loss: 0.2441 - val_f1_m: 0.9031\n"
     ]
    }
   ],
   "source": [
    "model5 = models.Sequential()\n",
    "\n",
    "model5.add(layers.Conv2D(32, (3, 3), activation='relu', input_shape=(150, 150, 1)))\n",
    "model5.add(layers.MaxPooling2D(2, 2))\n",
    "model5.add(layers.Conv2D(64, (3, 3), activation='relu'))\n",
    "model5.add(layers.MaxPooling2D(2, 2))\n",
    "model5.add(layers.Conv2D(64, (3, 3), activation='relu'))\n",
    "model5.add(layers.MaxPooling2D(2, 2))\n",
    "model5.add(layers.Flatten())\n",
    "model5.add(layers.Dropout(0.3))\n",
    "model5.add(layers.Dense(100, activation='relu'))\n",
    "model5.add(layers.Dense(3, activation='softmax'))\n",
    "\n",
    "model5.compile(loss='categorical_crossentropy', optimizer='adam', metrics=[f1_m])\n",
    "\n",
    "history_5 = model5.fit_generator(train_generator_aug, callbacks=callbacks_BW_aug_3, epochs=30, steps_per_epoch=123, validation_steps=16,\n",
    "                                 validation_data=val_generator, workers=2)"
   ]
  },
  {
   "cell_type": "code",
   "execution_count": 98,
   "metadata": {},
   "outputs": [],
   "source": [
    "#np.save('models/historyBW_aug_3.npy',history_5.history)\n",
    "modelBW_aug_3 = keras.models.load_model('models/modelBW_aug_3.h5', custom_objects=dependencies)\n",
    "historyBW_aug_3=np.load('models/historyBW_aug_3.npy',allow_pickle='TRUE').item()\n",
    "#timesBW_aug_3 = time_callback.times\n",
    "#save_times(modelBW_aug_3, timesBW_aug_3,'modelBW_aug_3')"
   ]
  },
  {
   "cell_type": "markdown",
   "metadata": {},
   "source": [
    "# DATA AUGMENTATION AND DROP OUT 0.4 "
   ]
  },
  {
   "cell_type": "code",
   "execution_count": 103,
   "metadata": {},
   "outputs": [],
   "source": [
    "callbacks_BW_aug_4 = callback(\"\\modelBW_aug_4.h5\")"
   ]
  },
  {
   "cell_type": "code",
   "execution_count": 104,
   "metadata": {},
   "outputs": [],
   "source": [
    "def create_model_drop(input_drop):\n",
    "    model = models.Sequential()\n",
    "\n",
    "    model.add(layers.Conv2D(32, (3, 3), activation='relu', input_shape=(150, 150, 1)))\n",
    "    model.add(layers.MaxPooling2D(2, 2))\n",
    "    model.add(layers.Conv2D(64, (3, 3), activation='relu'))\n",
    "    model.add(layers.MaxPooling2D(2, 2))\n",
    "    model.add(layers.Conv2D(64, (3, 3), activation='relu'))\n",
    "    model.add(layers.MaxPooling2D(2, 2))\n",
    "    model.add(layers.Flatten())\n",
    "    model.add(layers.Dropout(input_drop))\n",
    "    model.add(layers.Dense(100, activation='relu'))\n",
    "    model.add(layers.Dense(3, activation='softmax'))\n",
    "\n",
    "    model.compile(loss='categorical_crossentropy', optimizer='adam', metrics=[f1_m])\n",
    "\n",
    "    history = model.fit_generator(train_generator_aug, callbacks=callbacks_BW_aug_4, epochs=30, steps_per_epoch=123, validation_steps=16,\n",
    "                                    validation_data=val_generator, workers=2)\n",
    "    return history"
   ]
  },
  {
   "cell_type": "code",
   "execution_count": 105,
   "metadata": {},
   "outputs": [
    {
     "name": "stdout",
     "output_type": "stream",
     "text": [
      "Epoch 1/30\n",
      "123/123 [==============================] - ETA: 0s - loss: 0.7503 - f1_m: 0.6051\n",
      "Epoch 00001: val_loss improved from inf to 0.69886, saving model to c:\\Users\\Utilizador\\Desktop\\2_semestre_DS\\Deep_Learning\\DL_GroupProject\\DeepLearning_Group_Project\\models\\modelBW_aug_4.h5\n",
      "123/123 [==============================] - 86s 702ms/step - loss: 0.7503 - f1_m: 0.6051 - val_loss: 0.6989 - val_f1_m: 0.7055\n",
      "Epoch 2/30\n",
      "123/123 [==============================] - ETA: 0s - loss: 0.5600 - f1_m: 0.7487\n",
      "Epoch 00002: val_loss improved from 0.69886 to 0.54631, saving model to c:\\Users\\Utilizador\\Desktop\\2_semestre_DS\\Deep_Learning\\DL_GroupProject\\DeepLearning_Group_Project\\models\\modelBW_aug_4.h5\n",
      "123/123 [==============================] - 84s 684ms/step - loss: 0.5600 - f1_m: 0.7487 - val_loss: 0.5463 - val_f1_m: 0.7568\n",
      "Epoch 3/30\n",
      "123/123 [==============================] - ETA: 0s - loss: 0.4462 - f1_m: 0.8076\n",
      "Epoch 00003: val_loss improved from 0.54631 to 0.50075, saving model to c:\\Users\\Utilizador\\Desktop\\2_semestre_DS\\Deep_Learning\\DL_GroupProject\\DeepLearning_Group_Project\\models\\modelBW_aug_4.h5\n",
      "123/123 [==============================] - 83s 674ms/step - loss: 0.4462 - f1_m: 0.8076 - val_loss: 0.5008 - val_f1_m: 0.7746\n",
      "Epoch 4/30\n",
      "123/123 [==============================] - ETA: 0s - loss: 0.4073 - f1_m: 0.8189\n",
      "Epoch 00004: val_loss improved from 0.50075 to 0.42241, saving model to c:\\Users\\Utilizador\\Desktop\\2_semestre_DS\\Deep_Learning\\DL_GroupProject\\DeepLearning_Group_Project\\models\\modelBW_aug_4.h5\n",
      "123/123 [==============================] - 79s 643ms/step - loss: 0.4073 - f1_m: 0.8189 - val_loss: 0.4224 - val_f1_m: 0.8188\n",
      "Epoch 5/30\n",
      "123/123 [==============================] - ETA: 0s - loss: 0.3464 - f1_m: 0.8527\n",
      "Epoch 00005: val_loss improved from 0.42241 to 0.36109, saving model to c:\\Users\\Utilizador\\Desktop\\2_semestre_DS\\Deep_Learning\\DL_GroupProject\\DeepLearning_Group_Project\\models\\modelBW_aug_4.h5\n",
      "123/123 [==============================] - 80s 648ms/step - loss: 0.3464 - f1_m: 0.8527 - val_loss: 0.3611 - val_f1_m: 0.8242\n",
      "Epoch 6/30\n",
      "123/123 [==============================] - ETA: 0s - loss: 0.2919 - f1_m: 0.8760\n",
      "Epoch 00006: val_loss improved from 0.36109 to 0.32845, saving model to c:\\Users\\Utilizador\\Desktop\\2_semestre_DS\\Deep_Learning\\DL_GroupProject\\DeepLearning_Group_Project\\models\\modelBW_aug_4.h5\n",
      "123/123 [==============================] - 86s 696ms/step - loss: 0.2919 - f1_m: 0.8760 - val_loss: 0.3285 - val_f1_m: 0.8284\n",
      "Epoch 7/30\n",
      "123/123 [==============================] - ETA: 0s - loss: 0.2490 - f1_m: 0.9034\n",
      "Epoch 00007: val_loss improved from 0.32845 to 0.27012, saving model to c:\\Users\\Utilizador\\Desktop\\2_semestre_DS\\Deep_Learning\\DL_GroupProject\\DeepLearning_Group_Project\\models\\modelBW_aug_4.h5\n",
      "123/123 [==============================] - 79s 645ms/step - loss: 0.2490 - f1_m: 0.9034 - val_loss: 0.2701 - val_f1_m: 0.9062\n",
      "Epoch 8/30\n",
      "123/123 [==============================] - ETA: 0s - loss: 0.2254 - f1_m: 0.9118\n",
      "Epoch 00008: val_loss improved from 0.27012 to 0.20791, saving model to c:\\Users\\Utilizador\\Desktop\\2_semestre_DS\\Deep_Learning\\DL_GroupProject\\DeepLearning_Group_Project\\models\\modelBW_aug_4.h5\n",
      "123/123 [==============================] - 80s 652ms/step - loss: 0.2254 - f1_m: 0.9118 - val_loss: 0.2079 - val_f1_m: 0.9359\n",
      "Epoch 9/30\n",
      "123/123 [==============================] - ETA: 0s - loss: 0.1911 - f1_m: 0.9208\n",
      "Epoch 00009: val_loss did not improve from 0.20791\n",
      "123/123 [==============================] - 79s 644ms/step - loss: 0.1911 - f1_m: 0.9208 - val_loss: 0.2379 - val_f1_m: 0.9045\n",
      "Epoch 10/30\n",
      "123/123 [==============================] - ETA: 0s - loss: 0.1621 - f1_m: 0.9312\n",
      "Epoch 00010: val_loss did not improve from 0.20791\n",
      "123/123 [==============================] - 80s 647ms/step - loss: 0.1621 - f1_m: 0.9312 - val_loss: 0.2607 - val_f1_m: 0.8875\n",
      "Epoch 11/30\n",
      "123/123 [==============================] - ETA: 0s - loss: 0.1426 - f1_m: 0.9473\n",
      "Epoch 00011: val_loss improved from 0.20791 to 0.20206, saving model to c:\\Users\\Utilizador\\Desktop\\2_semestre_DS\\Deep_Learning\\DL_GroupProject\\DeepLearning_Group_Project\\models\\modelBW_aug_4.h5\n",
      "123/123 [==============================] - 83s 673ms/step - loss: 0.1426 - f1_m: 0.9473 - val_loss: 0.2021 - val_f1_m: 0.9161\n",
      "Epoch 12/30\n",
      "123/123 [==============================] - ETA: 0s - loss: 0.1296 - f1_m: 0.9501\n",
      "Epoch 00012: val_loss improved from 0.20206 to 0.15538, saving model to c:\\Users\\Utilizador\\Desktop\\2_semestre_DS\\Deep_Learning\\DL_GroupProject\\DeepLearning_Group_Project\\models\\modelBW_aug_4.h5\n",
      "123/123 [==============================] - 80s 653ms/step - loss: 0.1296 - f1_m: 0.9501 - val_loss: 0.1554 - val_f1_m: 0.9442\n",
      "Epoch 13/30\n",
      "123/123 [==============================] - ETA: 0s - loss: 0.1007 - f1_m: 0.9596\n",
      "Epoch 00013: val_loss did not improve from 0.15538\n",
      "123/123 [==============================] - 78s 634ms/step - loss: 0.1007 - f1_m: 0.9596 - val_loss: 0.2314 - val_f1_m: 0.9149\n",
      "Epoch 14/30\n",
      "123/123 [==============================] - ETA: 0s - loss: 0.0940 - f1_m: 0.9644\n",
      "Epoch 00014: val_loss improved from 0.15538 to 0.14607, saving model to c:\\Users\\Utilizador\\Desktop\\2_semestre_DS\\Deep_Learning\\DL_GroupProject\\DeepLearning_Group_Project\\models\\modelBW_aug_4.h5\n",
      "123/123 [==============================] - 78s 632ms/step - loss: 0.0940 - f1_m: 0.9644 - val_loss: 0.1461 - val_f1_m: 0.9594\n",
      "Epoch 15/30\n",
      "123/123 [==============================] - ETA: 0s - loss: 0.1058 - f1_m: 0.9589\n",
      "Epoch 00015: val_loss did not improve from 0.14607\n",
      "123/123 [==============================] - 78s 631ms/step - loss: 0.1058 - f1_m: 0.9589 - val_loss: 0.1877 - val_f1_m: 0.9281\n",
      "Epoch 16/30\n",
      "123/123 [==============================] - ETA: 0s - loss: 0.0928 - f1_m: 0.9626\n",
      "Epoch 00016: val_loss did not improve from 0.14607\n",
      "123/123 [==============================] - 77s 626ms/step - loss: 0.0928 - f1_m: 0.9626 - val_loss: 0.2446 - val_f1_m: 0.8884\n",
      "Epoch 17/30\n",
      "123/123 [==============================] - ETA: 0s - loss: 0.0692 - f1_m: 0.9762\n",
      "Epoch 00017: val_loss did not improve from 0.14607\n",
      "123/123 [==============================] - 78s 632ms/step - loss: 0.0692 - f1_m: 0.9762 - val_loss: 0.1509 - val_f1_m: 0.9379\n"
     ]
    }
   ],
   "source": [
    "history_6=create_model_drop(0.4)"
   ]
  },
  {
   "cell_type": "code",
   "execution_count": 106,
   "metadata": {},
   "outputs": [],
   "source": [
    "np.save('models/historyBW_aug_4.npy',history_6.history)\n",
    "modelBW_aug_4 = keras.models.load_model('models/modelBW_aug_4.h5', custom_objects=dependencies)\n",
    "historyBW_aug_4=np.load('models/historyBW_aug_4.npy',allow_pickle='TRUE').item()\n",
    "timesBW_aug_4 = time_callback.times\n",
    "save_times(modelBW_aug_4, timesBW_aug_4,'modelBW_aug_4')"
   ]
  },
  {
   "cell_type": "markdown",
   "metadata": {},
   "source": [
    "# DATA AUGMENTATION AND regularization L1"
   ]
  },
  {
   "cell_type": "code",
   "execution_count": 93,
   "metadata": {},
   "outputs": [],
   "source": [
    "callbacks_BW_aug_l1 = callback(\"\\modelBW_aug_l1.h5\")\n",
    "# modelBW_aug=rot50"
   ]
  },
  {
   "cell_type": "code",
   "execution_count": 94,
   "metadata": {},
   "outputs": [
    {
     "name": "stdout",
     "output_type": "stream",
     "text": [
      "Epoch 1/30\n",
      "123/123 [==============================] - ETA: 0s - loss: 1.1510 - f1_m: 0.5694\n",
      "Epoch 00001: val_loss improved from inf to 1.13698, saving model to c:\\Users\\Utilizador\\Desktop\\2_semestre_DS\\Deep_Learning\\DL_GroupProject\\DeepLearning_Group_Project\\models\\modelBW_aug_l1.h5\n",
      "123/123 [==============================] - 82s 665ms/step - loss: 1.1510 - f1_m: 0.5694 - val_loss: 1.1370 - val_f1_m: 0.7161\n",
      "Epoch 2/30\n",
      "123/123 [==============================] - ETA: 0s - loss: 0.8730 - f1_m: 0.6908\n",
      "Epoch 00002: val_loss improved from 1.13698 to 0.77076, saving model to c:\\Users\\Utilizador\\Desktop\\2_semestre_DS\\Deep_Learning\\DL_GroupProject\\DeepLearning_Group_Project\\models\\modelBW_aug_l1.h5\n",
      "123/123 [==============================] - 79s 641ms/step - loss: 0.8730 - f1_m: 0.6908 - val_loss: 0.7708 - val_f1_m: 0.7325\n",
      "Epoch 3/30\n",
      "123/123 [==============================] - ETA: 0s - loss: 0.7720 - f1_m: 0.7526\n",
      "Epoch 00003: val_loss did not improve from 0.77076\n",
      "123/123 [==============================] - 77s 625ms/step - loss: 0.7720 - f1_m: 0.7526 - val_loss: 0.7942 - val_f1_m: 0.7207\n",
      "Epoch 4/30\n",
      "123/123 [==============================] - ETA: 0s - loss: 0.7109 - f1_m: 0.7747\n",
      "Epoch 00004: val_loss improved from 0.77076 to 0.72919, saving model to c:\\Users\\Utilizador\\Desktop\\2_semestre_DS\\Deep_Learning\\DL_GroupProject\\DeepLearning_Group_Project\\models\\modelBW_aug_l1.h5\n",
      "123/123 [==============================] - 83s 679ms/step - loss: 0.7109 - f1_m: 0.7747 - val_loss: 0.7292 - val_f1_m: 0.7690\n",
      "Epoch 5/30\n",
      "123/123 [==============================] - ETA: 0s - loss: 0.6654 - f1_m: 0.8023\n",
      "Epoch 00005: val_loss improved from 0.72919 to 0.65054, saving model to c:\\Users\\Utilizador\\Desktop\\2_semestre_DS\\Deep_Learning\\DL_GroupProject\\DeepLearning_Group_Project\\models\\modelBW_aug_l1.h5\n",
      "123/123 [==============================] - 77s 629ms/step - loss: 0.6654 - f1_m: 0.8023 - val_loss: 0.6505 - val_f1_m: 0.7979\n",
      "Epoch 6/30\n",
      "123/123 [==============================] - ETA: 0s - loss: 0.6348 - f1_m: 0.8190\n",
      "Epoch 00006: val_loss did not improve from 0.65054\n",
      "123/123 [==============================] - 78s 632ms/step - loss: 0.6348 - f1_m: 0.8190 - val_loss: 0.7823 - val_f1_m: 0.7772\n",
      "Epoch 7/30\n",
      "123/123 [==============================] - ETA: 0s - loss: 0.6222 - f1_m: 0.8229\n",
      "Epoch 00007: val_loss did not improve from 0.65054\n",
      "123/123 [==============================] - 79s 643ms/step - loss: 0.6222 - f1_m: 0.8229 - val_loss: 0.7267 - val_f1_m: 0.7796\n",
      "Epoch 8/30\n",
      "123/123 [==============================] - ETA: 0s - loss: 0.6152 - f1_m: 0.8247\n",
      "Epoch 00008: val_loss improved from 0.65054 to 0.62099, saving model to c:\\Users\\Utilizador\\Desktop\\2_semestre_DS\\Deep_Learning\\DL_GroupProject\\DeepLearning_Group_Project\\models\\modelBW_aug_l1.h5\n",
      "123/123 [==============================] - 77s 629ms/step - loss: 0.6152 - f1_m: 0.8247 - val_loss: 0.6210 - val_f1_m: 0.8199\n",
      "Epoch 9/30\n",
      "123/123 [==============================] - ETA: 0s - loss: 0.5698 - f1_m: 0.8530\n",
      "Epoch 00009: val_loss did not improve from 0.62099\n",
      "123/123 [==============================] - 88s 713ms/step - loss: 0.5698 - f1_m: 0.8530 - val_loss: 0.6228 - val_f1_m: 0.8327\n",
      "Epoch 10/30\n",
      "123/123 [==============================] - ETA: 0s - loss: 0.5464 - f1_m: 0.8683\n",
      "Epoch 00010: val_loss improved from 0.62099 to 0.57653, saving model to c:\\Users\\Utilizador\\Desktop\\2_semestre_DS\\Deep_Learning\\DL_GroupProject\\DeepLearning_Group_Project\\models\\modelBW_aug_l1.h5\n",
      "123/123 [==============================] - 81s 656ms/step - loss: 0.5464 - f1_m: 0.8683 - val_loss: 0.5765 - val_f1_m: 0.8576\n",
      "Epoch 11/30\n",
      "123/123 [==============================] - ETA: 0s - loss: 0.5580 - f1_m: 0.8652\n",
      "Epoch 00011: val_loss improved from 0.57653 to 0.57367, saving model to c:\\Users\\Utilizador\\Desktop\\2_semestre_DS\\Deep_Learning\\DL_GroupProject\\DeepLearning_Group_Project\\models\\modelBW_aug_l1.h5\n",
      "123/123 [==============================] - 84s 683ms/step - loss: 0.5580 - f1_m: 0.8652 - val_loss: 0.5737 - val_f1_m: 0.8555\n",
      "Epoch 12/30\n",
      "123/123 [==============================] - ETA: 0s - loss: 0.5119 - f1_m: 0.8925\n",
      "Epoch 00012: val_loss improved from 0.57367 to 0.53662, saving model to c:\\Users\\Utilizador\\Desktop\\2_semestre_DS\\Deep_Learning\\DL_GroupProject\\DeepLearning_Group_Project\\models\\modelBW_aug_l1.h5\n",
      "123/123 [==============================] - 83s 671ms/step - loss: 0.5119 - f1_m: 0.8925 - val_loss: 0.5366 - val_f1_m: 0.8836\n",
      "Epoch 13/30\n",
      "123/123 [==============================] - ETA: 0s - loss: 0.5354 - f1_m: 0.8842\n",
      "Epoch 00013: val_loss did not improve from 0.53662\n",
      "123/123 [==============================] - 79s 645ms/step - loss: 0.5354 - f1_m: 0.8842 - val_loss: 0.6269 - val_f1_m: 0.8341\n",
      "Epoch 14/30\n",
      "123/123 [==============================] - ETA: 0s - loss: 0.4981 - f1_m: 0.8991\n",
      "Epoch 00014: val_loss improved from 0.53662 to 0.50996, saving model to c:\\Users\\Utilizador\\Desktop\\2_semestre_DS\\Deep_Learning\\DL_GroupProject\\DeepLearning_Group_Project\\models\\modelBW_aug_l1.h5\n",
      "123/123 [==============================] - 79s 644ms/step - loss: 0.4981 - f1_m: 0.8991 - val_loss: 0.5100 - val_f1_m: 0.9062\n",
      "Epoch 15/30\n",
      "123/123 [==============================] - ETA: 0s - loss: 0.5116 - f1_m: 0.8938\n",
      "Epoch 00015: val_loss did not improve from 0.50996\n",
      "123/123 [==============================] - 80s 649ms/step - loss: 0.5116 - f1_m: 0.8938 - val_loss: 0.5247 - val_f1_m: 0.9066\n",
      "Epoch 16/30\n",
      "123/123 [==============================] - ETA: 0s - loss: 0.4801 - f1_m: 0.9074\n",
      "Epoch 00016: val_loss did not improve from 0.50996\n",
      "123/123 [==============================] - 79s 642ms/step - loss: 0.4801 - f1_m: 0.9074 - val_loss: 0.5254 - val_f1_m: 0.8993\n",
      "Epoch 17/30\n",
      "123/123 [==============================] - ETA: 0s - loss: 0.4666 - f1_m: 0.9227\n",
      "Epoch 00017: val_loss improved from 0.50996 to 0.46828, saving model to c:\\Users\\Utilizador\\Desktop\\2_semestre_DS\\Deep_Learning\\DL_GroupProject\\DeepLearning_Group_Project\\models\\modelBW_aug_l1.h5\n",
      "123/123 [==============================] - 79s 638ms/step - loss: 0.4666 - f1_m: 0.9227 - val_loss: 0.4683 - val_f1_m: 0.9077\n",
      "Epoch 18/30\n",
      "123/123 [==============================] - ETA: 0s - loss: 0.4718 - f1_m: 0.9209\n",
      "Epoch 00018: val_loss did not improve from 0.46828\n",
      "123/123 [==============================] - 78s 637ms/step - loss: 0.4718 - f1_m: 0.9209 - val_loss: 0.4759 - val_f1_m: 0.9170\n",
      "Epoch 19/30\n",
      "123/123 [==============================] - ETA: 0s - loss: 0.4412 - f1_m: 0.9378\n",
      "Epoch 00019: val_loss did not improve from 0.46828\n",
      "123/123 [==============================] - 79s 645ms/step - loss: 0.4412 - f1_m: 0.9378 - val_loss: 0.5174 - val_f1_m: 0.9014\n",
      "Epoch 20/30\n",
      "123/123 [==============================] - ETA: 0s - loss: 0.4388 - f1_m: 0.9320\n",
      "Epoch 00020: val_loss improved from 0.46828 to 0.44485, saving model to c:\\Users\\Utilizador\\Desktop\\2_semestre_DS\\Deep_Learning\\DL_GroupProject\\DeepLearning_Group_Project\\models\\modelBW_aug_l1.h5\n",
      "123/123 [==============================] - 78s 637ms/step - loss: 0.4388 - f1_m: 0.9320 - val_loss: 0.4449 - val_f1_m: 0.9295\n",
      "Epoch 21/30\n",
      "123/123 [==============================] - ETA: 0s - loss: 0.4262 - f1_m: 0.9377\n",
      "Epoch 00021: val_loss did not improve from 0.44485\n",
      "123/123 [==============================] - 79s 643ms/step - loss: 0.4262 - f1_m: 0.9377 - val_loss: 0.4711 - val_f1_m: 0.9062\n",
      "Epoch 22/30\n",
      "123/123 [==============================] - ETA: 0s - loss: 0.4573 - f1_m: 0.9285\n",
      "Epoch 00022: val_loss did not improve from 0.44485\n",
      "123/123 [==============================] - 79s 643ms/step - loss: 0.4573 - f1_m: 0.9285 - val_loss: 0.4768 - val_f1_m: 0.9165\n",
      "Epoch 23/30\n",
      "123/123 [==============================] - ETA: 0s - loss: 0.4303 - f1_m: 0.9452\n",
      "Epoch 00023: val_loss did not improve from 0.44485\n",
      "123/123 [==============================] - 76s 619ms/step - loss: 0.4303 - f1_m: 0.9452 - val_loss: 0.4924 - val_f1_m: 0.9073\n"
     ]
    }
   ],
   "source": [
    "model7 = models.Sequential()\n",
    "\n",
    "model7.add(layers.Conv2D(32, (3, 3), activation='relu', input_shape=(150, 150, 1)))\n",
    "model7.add(layers.MaxPooling2D(2, 2))\n",
    "model7.add(layers.Conv2D(64, (3, 3), activation='relu'))\n",
    "model7.add(layers.MaxPooling2D(2, 2))\n",
    "model7.add(layers.Conv2D(64, (3, 3), activation='relu'))\n",
    "model7.add(layers.MaxPooling2D(2, 2))\n",
    "model7.add(layers.Flatten())\n",
    "model7.add(layers.Dropout(0.5))\n",
    "model7.add(layers.Dense(100, activation='relu', kernel_regularizer=keras.regularizers.l1(1e-4)))\n",
    "model7.add(layers.Dense(3, activation='softmax'))\n",
    "\n",
    "model7.compile(loss='categorical_crossentropy', optimizer='adam', metrics=[f1_m])\n",
    "\n",
    "history_7 = model7.fit_generator(train_generator_aug, callbacks=callbacks_BW_aug_l1, epochs=30, steps_per_epoch=123, validation_steps=16,\n",
    "                                 validation_data=val_generator, workers=2)"
   ]
  },
  {
   "cell_type": "code",
   "execution_count": 95,
   "metadata": {},
   "outputs": [],
   "source": [
    "#np.save('models/historyBW_aug_l1.npy',history_7.history)\n",
    "modelBW_aug_l1 = keras.models.load_model('models/modelBW_aug_l1.h5', custom_objects=dependencies)\n",
    "historyBW_aug_l1=np.load('models/historyBW_aug_l1.npy',allow_pickle='TRUE').item()\n",
    "#timesBW_aug_l1 = time_callback.times\n",
    "#save_times(modelBW_aug_l1, timesBW_aug_l1,'modelBW_aug_l1')"
   ]
  },
  {
   "cell_type": "markdown",
   "metadata": {},
   "source": [
    "# TRANSFER LEARNING"
   ]
  },
  {
   "cell_type": "code",
   "execution_count": 53,
   "metadata": {},
   "outputs": [],
   "source": [
    "# pre_trained=tf.keras.applications.ResNet50(\n",
    "#                                                     include_top=True,\n",
    "#                                                     input_shape=(224,224,1),\n",
    "#                                                     weights='imagenet',\n",
    "#                                                     input_tensor=None,\n",
    "                                               \n",
    "#                                                     pooling=None,\n",
    "#                                                     classes=1000\n",
    "#                                                 )"
   ]
  },
  {
   "cell_type": "code",
   "execution_count": 19,
   "metadata": {},
   "outputs": [],
   "source": [
    "callbacks_trans = callback(\"\\model_trans.h5\")"
   ]
  },
  {
   "cell_type": "code",
   "execution_count": 26,
   "metadata": {},
   "outputs": [],
   "source": [
    "from keras.models import Model\n",
    "base_model=tf.keras.applications.ResNet50(include_top=False, weights=\"imagenet\",input_shape=(150,150,3), pooling='max') \n",
    "x=base_model.output\n",
    "x=layers.Dropout(0.4)(x) \n",
    "#x = layers.Dense(100,activation='relu')(x)     \n",
    "output=layers.Dense(3, activation='softmax')(x)\n",
    "model_trans=Model(inputs=base_model.input, outputs=output)\n",
    "model_trans.compile(loss='categorical_crossentropy', optimizer='adam', metrics=[f1_m]) "
   ]
  },
  {
   "cell_type": "code",
   "execution_count": 27,
   "metadata": {},
   "outputs": [
    {
     "name": "stdout",
     "output_type": "stream",
     "text": [
      "Epoch 1/30\n",
      "123/123 [==============================] - ETA: 0s - loss: 2.3859 - f1_m: 0.6882\n",
      "Epoch 00001: val_loss improved from inf to 187213.20312, saving model to c:\\Users\\Utilizador\\Desktop\\2_semestre_DS\\Deep_Learning\\DL_GroupProject\\DeepLearning_Group_Project\\models\\model_trans.h5\n",
      "123/123 [==============================] - 1118s 9s/step - loss: 2.3859 - f1_m: 0.6882 - val_loss: 187213.2031 - val_f1_m: 0.4701\n",
      "Epoch 2/30\n",
      "123/123 [==============================] - ETA: 0s - loss: 1.2509 - f1_m: 0.6791\n",
      "Epoch 00002: val_loss improved from 187213.20312 to 58592.59766, saving model to c:\\Users\\Utilizador\\Desktop\\2_semestre_DS\\Deep_Learning\\DL_GroupProject\\DeepLearning_Group_Project\\models\\model_trans.h5\n",
      "123/123 [==============================] - 1112s 9s/step - loss: 1.2509 - f1_m: 0.6791 - val_loss: 58592.5977 - val_f1_m: 0.4701\n",
      "Epoch 3/30\n",
      " 18/123 [===>..........................] - ETA: 14:07 - loss: 0.5297 - f1_m: 0.7475"
     ]
    },
    {
     "ename": "KeyboardInterrupt",
     "evalue": "",
     "output_type": "error",
     "traceback": [
      "\u001b[1;31m---------------------------------------------------------------------------\u001b[0m",
      "\u001b[1;31mKeyboardInterrupt\u001b[0m                         Traceback (most recent call last)",
      "\u001b[1;32mC:\\Users\\UTILIZ~1\\AppData\\Local\\Temp/ipykernel_19872/886115476.py\u001b[0m in \u001b[0;36m<module>\u001b[1;34m\u001b[0m\n\u001b[1;32m----> 1\u001b[1;33m history_trans = model_trans.fit_generator(train_generator_aug_rgb, callbacks=callbacks_trans, epochs=30, steps_per_epoch=123, validation_steps=16,\n\u001b[0m\u001b[0;32m      2\u001b[0m                                  validation_data=val_generator_rgb, workers=2)\n",
      "\u001b[1;32m~\\anaconda3\\envs\\deeplearning\\lib\\site-packages\\tensorflow\\python\\util\\deprecation.py\u001b[0m in \u001b[0;36mnew_func\u001b[1;34m(*args, **kwargs)\u001b[0m\n\u001b[0;32m    322\u001b[0m               \u001b[1;34m'in a future version'\u001b[0m \u001b[1;32mif\u001b[0m \u001b[0mdate\u001b[0m \u001b[1;32mis\u001b[0m \u001b[1;32mNone\u001b[0m \u001b[1;32melse\u001b[0m \u001b[1;33m(\u001b[0m\u001b[1;34m'after %s'\u001b[0m \u001b[1;33m%\u001b[0m \u001b[0mdate\u001b[0m\u001b[1;33m)\u001b[0m\u001b[1;33m,\u001b[0m\u001b[1;33m\u001b[0m\u001b[1;33m\u001b[0m\u001b[0m\n\u001b[0;32m    323\u001b[0m               instructions)\n\u001b[1;32m--> 324\u001b[1;33m       \u001b[1;32mreturn\u001b[0m \u001b[0mfunc\u001b[0m\u001b[1;33m(\u001b[0m\u001b[1;33m*\u001b[0m\u001b[0margs\u001b[0m\u001b[1;33m,\u001b[0m \u001b[1;33m**\u001b[0m\u001b[0mkwargs\u001b[0m\u001b[1;33m)\u001b[0m\u001b[1;33m\u001b[0m\u001b[1;33m\u001b[0m\u001b[0m\n\u001b[0m\u001b[0;32m    325\u001b[0m     return tf_decorator.make_decorator(\n\u001b[0;32m    326\u001b[0m         \u001b[0mfunc\u001b[0m\u001b[1;33m,\u001b[0m \u001b[0mnew_func\u001b[0m\u001b[1;33m,\u001b[0m \u001b[1;34m'deprecated'\u001b[0m\u001b[1;33m,\u001b[0m\u001b[1;33m\u001b[0m\u001b[1;33m\u001b[0m\u001b[0m\n",
      "\u001b[1;32m~\\anaconda3\\envs\\deeplearning\\lib\\site-packages\\tensorflow\\python\\keras\\engine\\training.py\u001b[0m in \u001b[0;36mfit_generator\u001b[1;34m(self, generator, steps_per_epoch, epochs, verbose, callbacks, validation_data, validation_steps, validation_freq, class_weight, max_queue_size, workers, use_multiprocessing, shuffle, initial_epoch)\u001b[0m\n\u001b[0;32m   1813\u001b[0m     \"\"\"\n\u001b[0;32m   1814\u001b[0m     \u001b[0m_keras_api_gauge\u001b[0m\u001b[1;33m.\u001b[0m\u001b[0mget_cell\u001b[0m\u001b[1;33m(\u001b[0m\u001b[1;34m'fit_generator'\u001b[0m\u001b[1;33m)\u001b[0m\u001b[1;33m.\u001b[0m\u001b[0mset\u001b[0m\u001b[1;33m(\u001b[0m\u001b[1;32mTrue\u001b[0m\u001b[1;33m)\u001b[0m\u001b[1;33m\u001b[0m\u001b[1;33m\u001b[0m\u001b[0m\n\u001b[1;32m-> 1815\u001b[1;33m     return self.fit(\n\u001b[0m\u001b[0;32m   1816\u001b[0m         \u001b[0mgenerator\u001b[0m\u001b[1;33m,\u001b[0m\u001b[1;33m\u001b[0m\u001b[1;33m\u001b[0m\u001b[0m\n\u001b[0;32m   1817\u001b[0m         \u001b[0msteps_per_epoch\u001b[0m\u001b[1;33m=\u001b[0m\u001b[0msteps_per_epoch\u001b[0m\u001b[1;33m,\u001b[0m\u001b[1;33m\u001b[0m\u001b[1;33m\u001b[0m\u001b[0m\n",
      "\u001b[1;32m~\\anaconda3\\envs\\deeplearning\\lib\\site-packages\\tensorflow\\python\\keras\\engine\\training.py\u001b[0m in \u001b[0;36m_method_wrapper\u001b[1;34m(self, *args, **kwargs)\u001b[0m\n\u001b[0;32m    106\u001b[0m   \u001b[1;32mdef\u001b[0m \u001b[0m_method_wrapper\u001b[0m\u001b[1;33m(\u001b[0m\u001b[0mself\u001b[0m\u001b[1;33m,\u001b[0m \u001b[1;33m*\u001b[0m\u001b[0margs\u001b[0m\u001b[1;33m,\u001b[0m \u001b[1;33m**\u001b[0m\u001b[0mkwargs\u001b[0m\u001b[1;33m)\u001b[0m\u001b[1;33m:\u001b[0m\u001b[1;33m\u001b[0m\u001b[1;33m\u001b[0m\u001b[0m\n\u001b[0;32m    107\u001b[0m     \u001b[1;32mif\u001b[0m \u001b[1;32mnot\u001b[0m \u001b[0mself\u001b[0m\u001b[1;33m.\u001b[0m\u001b[0m_in_multi_worker_mode\u001b[0m\u001b[1;33m(\u001b[0m\u001b[1;33m)\u001b[0m\u001b[1;33m:\u001b[0m  \u001b[1;31m# pylint: disable=protected-access\u001b[0m\u001b[1;33m\u001b[0m\u001b[1;33m\u001b[0m\u001b[0m\n\u001b[1;32m--> 108\u001b[1;33m       \u001b[1;32mreturn\u001b[0m \u001b[0mmethod\u001b[0m\u001b[1;33m(\u001b[0m\u001b[0mself\u001b[0m\u001b[1;33m,\u001b[0m \u001b[1;33m*\u001b[0m\u001b[0margs\u001b[0m\u001b[1;33m,\u001b[0m \u001b[1;33m**\u001b[0m\u001b[0mkwargs\u001b[0m\u001b[1;33m)\u001b[0m\u001b[1;33m\u001b[0m\u001b[1;33m\u001b[0m\u001b[0m\n\u001b[0m\u001b[0;32m    109\u001b[0m \u001b[1;33m\u001b[0m\u001b[0m\n\u001b[0;32m    110\u001b[0m     \u001b[1;31m# Running inside `run_distribute_coordinator` already.\u001b[0m\u001b[1;33m\u001b[0m\u001b[1;33m\u001b[0m\u001b[1;33m\u001b[0m\u001b[0m\n",
      "\u001b[1;32m~\\anaconda3\\envs\\deeplearning\\lib\\site-packages\\tensorflow\\python\\keras\\engine\\training.py\u001b[0m in \u001b[0;36mfit\u001b[1;34m(self, x, y, batch_size, epochs, verbose, callbacks, validation_split, validation_data, shuffle, class_weight, sample_weight, initial_epoch, steps_per_epoch, validation_steps, validation_batch_size, validation_freq, max_queue_size, workers, use_multiprocessing)\u001b[0m\n\u001b[0;32m   1096\u001b[0m                 batch_size=batch_size):\n\u001b[0;32m   1097\u001b[0m               \u001b[0mcallbacks\u001b[0m\u001b[1;33m.\u001b[0m\u001b[0mon_train_batch_begin\u001b[0m\u001b[1;33m(\u001b[0m\u001b[0mstep\u001b[0m\u001b[1;33m)\u001b[0m\u001b[1;33m\u001b[0m\u001b[1;33m\u001b[0m\u001b[0m\n\u001b[1;32m-> 1098\u001b[1;33m               \u001b[0mtmp_logs\u001b[0m \u001b[1;33m=\u001b[0m \u001b[0mtrain_function\u001b[0m\u001b[1;33m(\u001b[0m\u001b[0miterator\u001b[0m\u001b[1;33m)\u001b[0m\u001b[1;33m\u001b[0m\u001b[1;33m\u001b[0m\u001b[0m\n\u001b[0m\u001b[0;32m   1099\u001b[0m               \u001b[1;32mif\u001b[0m \u001b[0mdata_handler\u001b[0m\u001b[1;33m.\u001b[0m\u001b[0mshould_sync\u001b[0m\u001b[1;33m:\u001b[0m\u001b[1;33m\u001b[0m\u001b[1;33m\u001b[0m\u001b[0m\n\u001b[0;32m   1100\u001b[0m                 \u001b[0mcontext\u001b[0m\u001b[1;33m.\u001b[0m\u001b[0masync_wait\u001b[0m\u001b[1;33m(\u001b[0m\u001b[1;33m)\u001b[0m\u001b[1;33m\u001b[0m\u001b[1;33m\u001b[0m\u001b[0m\n",
      "\u001b[1;32m~\\anaconda3\\envs\\deeplearning\\lib\\site-packages\\tensorflow\\python\\eager\\def_function.py\u001b[0m in \u001b[0;36m__call__\u001b[1;34m(self, *args, **kwds)\u001b[0m\n\u001b[0;32m    778\u001b[0m       \u001b[1;32melse\u001b[0m\u001b[1;33m:\u001b[0m\u001b[1;33m\u001b[0m\u001b[1;33m\u001b[0m\u001b[0m\n\u001b[0;32m    779\u001b[0m         \u001b[0mcompiler\u001b[0m \u001b[1;33m=\u001b[0m \u001b[1;34m\"nonXla\"\u001b[0m\u001b[1;33m\u001b[0m\u001b[1;33m\u001b[0m\u001b[0m\n\u001b[1;32m--> 780\u001b[1;33m         \u001b[0mresult\u001b[0m \u001b[1;33m=\u001b[0m \u001b[0mself\u001b[0m\u001b[1;33m.\u001b[0m\u001b[0m_call\u001b[0m\u001b[1;33m(\u001b[0m\u001b[1;33m*\u001b[0m\u001b[0margs\u001b[0m\u001b[1;33m,\u001b[0m \u001b[1;33m**\u001b[0m\u001b[0mkwds\u001b[0m\u001b[1;33m)\u001b[0m\u001b[1;33m\u001b[0m\u001b[1;33m\u001b[0m\u001b[0m\n\u001b[0m\u001b[0;32m    781\u001b[0m \u001b[1;33m\u001b[0m\u001b[0m\n\u001b[0;32m    782\u001b[0m       \u001b[0mnew_tracing_count\u001b[0m \u001b[1;33m=\u001b[0m \u001b[0mself\u001b[0m\u001b[1;33m.\u001b[0m\u001b[0m_get_tracing_count\u001b[0m\u001b[1;33m(\u001b[0m\u001b[1;33m)\u001b[0m\u001b[1;33m\u001b[0m\u001b[1;33m\u001b[0m\u001b[0m\n",
      "\u001b[1;32m~\\anaconda3\\envs\\deeplearning\\lib\\site-packages\\tensorflow\\python\\eager\\def_function.py\u001b[0m in \u001b[0;36m_call\u001b[1;34m(self, *args, **kwds)\u001b[0m\n\u001b[0;32m    805\u001b[0m       \u001b[1;31m# In this case we have created variables on the first call, so we run the\u001b[0m\u001b[1;33m\u001b[0m\u001b[1;33m\u001b[0m\u001b[1;33m\u001b[0m\u001b[0m\n\u001b[0;32m    806\u001b[0m       \u001b[1;31m# defunned version which is guaranteed to never create variables.\u001b[0m\u001b[1;33m\u001b[0m\u001b[1;33m\u001b[0m\u001b[1;33m\u001b[0m\u001b[0m\n\u001b[1;32m--> 807\u001b[1;33m       \u001b[1;32mreturn\u001b[0m \u001b[0mself\u001b[0m\u001b[1;33m.\u001b[0m\u001b[0m_stateless_fn\u001b[0m\u001b[1;33m(\u001b[0m\u001b[1;33m*\u001b[0m\u001b[0margs\u001b[0m\u001b[1;33m,\u001b[0m \u001b[1;33m**\u001b[0m\u001b[0mkwds\u001b[0m\u001b[1;33m)\u001b[0m  \u001b[1;31m# pylint: disable=not-callable\u001b[0m\u001b[1;33m\u001b[0m\u001b[1;33m\u001b[0m\u001b[0m\n\u001b[0m\u001b[0;32m    808\u001b[0m     \u001b[1;32melif\u001b[0m \u001b[0mself\u001b[0m\u001b[1;33m.\u001b[0m\u001b[0m_stateful_fn\u001b[0m \u001b[1;32mis\u001b[0m \u001b[1;32mnot\u001b[0m \u001b[1;32mNone\u001b[0m\u001b[1;33m:\u001b[0m\u001b[1;33m\u001b[0m\u001b[1;33m\u001b[0m\u001b[0m\n\u001b[0;32m    809\u001b[0m       \u001b[1;31m# Release the lock early so that multiple threads can perform the call\u001b[0m\u001b[1;33m\u001b[0m\u001b[1;33m\u001b[0m\u001b[1;33m\u001b[0m\u001b[0m\n",
      "\u001b[1;32m~\\anaconda3\\envs\\deeplearning\\lib\\site-packages\\tensorflow\\python\\eager\\function.py\u001b[0m in \u001b[0;36m__call__\u001b[1;34m(self, *args, **kwargs)\u001b[0m\n\u001b[0;32m   2827\u001b[0m     \u001b[1;32mwith\u001b[0m \u001b[0mself\u001b[0m\u001b[1;33m.\u001b[0m\u001b[0m_lock\u001b[0m\u001b[1;33m:\u001b[0m\u001b[1;33m\u001b[0m\u001b[1;33m\u001b[0m\u001b[0m\n\u001b[0;32m   2828\u001b[0m       \u001b[0mgraph_function\u001b[0m\u001b[1;33m,\u001b[0m \u001b[0margs\u001b[0m\u001b[1;33m,\u001b[0m \u001b[0mkwargs\u001b[0m \u001b[1;33m=\u001b[0m \u001b[0mself\u001b[0m\u001b[1;33m.\u001b[0m\u001b[0m_maybe_define_function\u001b[0m\u001b[1;33m(\u001b[0m\u001b[0margs\u001b[0m\u001b[1;33m,\u001b[0m \u001b[0mkwargs\u001b[0m\u001b[1;33m)\u001b[0m\u001b[1;33m\u001b[0m\u001b[1;33m\u001b[0m\u001b[0m\n\u001b[1;32m-> 2829\u001b[1;33m     \u001b[1;32mreturn\u001b[0m \u001b[0mgraph_function\u001b[0m\u001b[1;33m.\u001b[0m\u001b[0m_filtered_call\u001b[0m\u001b[1;33m(\u001b[0m\u001b[0margs\u001b[0m\u001b[1;33m,\u001b[0m \u001b[0mkwargs\u001b[0m\u001b[1;33m)\u001b[0m  \u001b[1;31m# pylint: disable=protected-access\u001b[0m\u001b[1;33m\u001b[0m\u001b[1;33m\u001b[0m\u001b[0m\n\u001b[0m\u001b[0;32m   2830\u001b[0m \u001b[1;33m\u001b[0m\u001b[0m\n\u001b[0;32m   2831\u001b[0m   \u001b[1;33m@\u001b[0m\u001b[0mproperty\u001b[0m\u001b[1;33m\u001b[0m\u001b[1;33m\u001b[0m\u001b[0m\n",
      "\u001b[1;32m~\\anaconda3\\envs\\deeplearning\\lib\\site-packages\\tensorflow\\python\\eager\\function.py\u001b[0m in \u001b[0;36m_filtered_call\u001b[1;34m(self, args, kwargs, cancellation_manager)\u001b[0m\n\u001b[0;32m   1841\u001b[0m       \u001b[0;31m`\u001b[0m\u001b[0margs\u001b[0m\u001b[0;31m`\u001b[0m \u001b[1;32mand\u001b[0m\u001b[0;31m \u001b[0m\u001b[0;31m`\u001b[0m\u001b[0mkwargs\u001b[0m\u001b[0;31m`\u001b[0m\u001b[1;33m.\u001b[0m\u001b[1;33m\u001b[0m\u001b[1;33m\u001b[0m\u001b[0m\n\u001b[0;32m   1842\u001b[0m     \"\"\"\n\u001b[1;32m-> 1843\u001b[1;33m     return self._call_flat(\n\u001b[0m\u001b[0;32m   1844\u001b[0m         [t for t in nest.flatten((args, kwargs), expand_composites=True)\n\u001b[0;32m   1845\u001b[0m          if isinstance(t, (ops.Tensor,\n",
      "\u001b[1;32m~\\anaconda3\\envs\\deeplearning\\lib\\site-packages\\tensorflow\\python\\eager\\function.py\u001b[0m in \u001b[0;36m_call_flat\u001b[1;34m(self, args, captured_inputs, cancellation_manager)\u001b[0m\n\u001b[0;32m   1921\u001b[0m         and executing_eagerly):\n\u001b[0;32m   1922\u001b[0m       \u001b[1;31m# No tape is watching; skip to running the function.\u001b[0m\u001b[1;33m\u001b[0m\u001b[1;33m\u001b[0m\u001b[1;33m\u001b[0m\u001b[0m\n\u001b[1;32m-> 1923\u001b[1;33m       return self._build_call_outputs(self._inference_function.call(\n\u001b[0m\u001b[0;32m   1924\u001b[0m           ctx, args, cancellation_manager=cancellation_manager))\n\u001b[0;32m   1925\u001b[0m     forward_backward = self._select_forward_and_backward_functions(\n",
      "\u001b[1;32m~\\anaconda3\\envs\\deeplearning\\lib\\site-packages\\tensorflow\\python\\eager\\function.py\u001b[0m in \u001b[0;36mcall\u001b[1;34m(self, ctx, args, cancellation_manager)\u001b[0m\n\u001b[0;32m    543\u001b[0m       \u001b[1;32mwith\u001b[0m \u001b[0m_InterpolateFunctionError\u001b[0m\u001b[1;33m(\u001b[0m\u001b[0mself\u001b[0m\u001b[1;33m)\u001b[0m\u001b[1;33m:\u001b[0m\u001b[1;33m\u001b[0m\u001b[1;33m\u001b[0m\u001b[0m\n\u001b[0;32m    544\u001b[0m         \u001b[1;32mif\u001b[0m \u001b[0mcancellation_manager\u001b[0m \u001b[1;32mis\u001b[0m \u001b[1;32mNone\u001b[0m\u001b[1;33m:\u001b[0m\u001b[1;33m\u001b[0m\u001b[1;33m\u001b[0m\u001b[0m\n\u001b[1;32m--> 545\u001b[1;33m           outputs = execute.execute(\n\u001b[0m\u001b[0;32m    546\u001b[0m               \u001b[0mstr\u001b[0m\u001b[1;33m(\u001b[0m\u001b[0mself\u001b[0m\u001b[1;33m.\u001b[0m\u001b[0msignature\u001b[0m\u001b[1;33m.\u001b[0m\u001b[0mname\u001b[0m\u001b[1;33m)\u001b[0m\u001b[1;33m,\u001b[0m\u001b[1;33m\u001b[0m\u001b[1;33m\u001b[0m\u001b[0m\n\u001b[0;32m    547\u001b[0m               \u001b[0mnum_outputs\u001b[0m\u001b[1;33m=\u001b[0m\u001b[0mself\u001b[0m\u001b[1;33m.\u001b[0m\u001b[0m_num_outputs\u001b[0m\u001b[1;33m,\u001b[0m\u001b[1;33m\u001b[0m\u001b[1;33m\u001b[0m\u001b[0m\n",
      "\u001b[1;32m~\\anaconda3\\envs\\deeplearning\\lib\\site-packages\\tensorflow\\python\\eager\\execute.py\u001b[0m in \u001b[0;36mquick_execute\u001b[1;34m(op_name, num_outputs, inputs, attrs, ctx, name)\u001b[0m\n\u001b[0;32m     57\u001b[0m   \u001b[1;32mtry\u001b[0m\u001b[1;33m:\u001b[0m\u001b[1;33m\u001b[0m\u001b[1;33m\u001b[0m\u001b[0m\n\u001b[0;32m     58\u001b[0m     \u001b[0mctx\u001b[0m\u001b[1;33m.\u001b[0m\u001b[0mensure_initialized\u001b[0m\u001b[1;33m(\u001b[0m\u001b[1;33m)\u001b[0m\u001b[1;33m\u001b[0m\u001b[1;33m\u001b[0m\u001b[0m\n\u001b[1;32m---> 59\u001b[1;33m     tensors = pywrap_tfe.TFE_Py_Execute(ctx._handle, device_name, op_name,\n\u001b[0m\u001b[0;32m     60\u001b[0m                                         inputs, attrs, num_outputs)\n\u001b[0;32m     61\u001b[0m   \u001b[1;32mexcept\u001b[0m \u001b[0mcore\u001b[0m\u001b[1;33m.\u001b[0m\u001b[0m_NotOkStatusException\u001b[0m \u001b[1;32mas\u001b[0m \u001b[0me\u001b[0m\u001b[1;33m:\u001b[0m\u001b[1;33m\u001b[0m\u001b[1;33m\u001b[0m\u001b[0m\n",
      "\u001b[1;31mKeyboardInterrupt\u001b[0m: "
     ]
    }
   ],
   "source": [
    "history_trans = model_trans.fit_generator(train_generator_aug_rgb, callbacks=callbacks_trans, epochs=30, steps_per_epoch=123, validation_steps=16,\n",
    "                                 validation_data=val_generator_rgb, workers=2)"
   ]
  },
  {
   "cell_type": "code",
   "execution_count": 58,
   "metadata": {},
   "outputs": [],
   "source": [
    "base_model = keras.applications.ResNet50(\n",
    "    weights='imagenet',  # Load weights pre-trained on ImageNet.\n",
    "    input_shape=(150, 150, 3),\n",
    "    include_top=False)  # Do not include the ImageNet classifier at the top.\n",
    "\n",
    "base_model.trainable = False\n",
    "inputs = keras.Input(shape=(150, 150, 3))\n",
    "x = base_model(inputs, training=False)\n",
    "x = keras.layers.GlobalAveragePooling2D()(x)\n",
    "outputs = keras.layers.Dense(3)(x)\n",
    "model = keras.Model(inputs, outputs)\n",
    "model.compile(loss='categorical_crossentropy', optimizer=\"adam\", metrics = [f1_m])"
   ]
  },
  {
   "cell_type": "code",
   "execution_count": 34,
   "metadata": {
    "id": "oEhZuO0OOQya"
   },
   "outputs": [],
   "source": [
    "from keras.models import Model\n",
    "from keras.layers import Input \n",
    "\n",
    "resnet = keras.applications.ResNet50(weights='imagenet',include_top='FALSE') \n",
    "\n",
    "input_tensor = Input(shape=(150,150,1) )\n",
    "x = layers.Conv2D(3,(3,3),padding='same')(input_tensor)    # x has a dimension of (IMG_SIZE,IMG_SIZE,3)\n",
    "out = resnet (x) \n",
    "\n",
    "model_trans = keras.Model(inputs=input_tensor,outputs=out)\n",
    "\n",
    "\n",
    "base_model.trainable = False\n",
    "inputs = keras.Input(shape=(150, 150, 1))\n",
    "x = base_model(inputs, training=False)\n",
    "x = keras.layers.GlobalMaxPooling2D()(x)\n",
    "outputs = keras.layers.Dense(3)(x)\n",
    "model_trans = keras.Model(inputs, outputs)\n"
   ]
  },
  {
   "cell_type": "code",
   "execution_count": 109,
   "metadata": {},
   "outputs": [],
   "source": [
    "#pip install torchvision"
   ]
  },
  {
   "cell_type": "code",
   "execution_count": 60,
   "metadata": {
    "colab": {
     "base_uri": "https://localhost:8080/"
    },
    "id": "FrvCSlonO5o1",
    "outputId": "7654dae5-013d-4589-8589-e9491339213c",
    "scrolled": true
   },
   "outputs": [
    {
     "name": "stdout",
     "output_type": "stream",
     "text": [
      "Epoch 1/20\n",
      "123/123 [==============================] - ETA: 0s - loss: 12.3960 - f1_m: 0.3031\n",
      "Epoch 00001: val_loss improved from inf to 12.39046, saving model to c:\\Users\\Utilizador\\Desktop\\2_semestre_DS\\Deep_Learning\\DL_GroupProject\\DeepLearning_Group_Project\\models\\model_trans.h5\n",
      "123/123 [==============================] - 166s 1s/step - loss: 12.3960 - f1_m: 0.3031 - val_loss: 12.3905 - val_f1_m: 0.3022\n",
      "Epoch 2/20\n",
      "123/123 [==============================] - ETA: 0s - loss: 12.3960 - f1_m: 0.3034\n",
      "Epoch 00002: val_loss improved from 12.39046 to 12.39046, saving model to c:\\Users\\Utilizador\\Desktop\\2_semestre_DS\\Deep_Learning\\DL_GroupProject\\DeepLearning_Group_Project\\models\\model_trans.h5\n",
      "123/123 [==============================] - 167s 1s/step - loss: 12.3960 - f1_m: 0.3034 - val_loss: 12.3905 - val_f1_m: 0.3022\n",
      "Epoch 3/20\n",
      " 24/123 [====>.........................] - ETA: 2:08 - loss: 12.6258 - f1_m: 0.3104"
     ]
    },
    {
     "ename": "KeyboardInterrupt",
     "evalue": "",
     "output_type": "error",
     "traceback": [
      "\u001b[1;31m---------------------------------------------------------------------------\u001b[0m",
      "\u001b[1;31mKeyboardInterrupt\u001b[0m                         Traceback (most recent call last)",
      "\u001b[1;32mC:\\Users\\UTILIZ~1\\AppData\\Local\\Temp/ipykernel_23996/3137868709.py\u001b[0m in \u001b[0;36m<module>\u001b[1;34m\u001b[0m\n\u001b[0;32m      3\u001b[0m \u001b[0mepochs\u001b[0m \u001b[1;33m=\u001b[0m \u001b[1;36m20\u001b[0m\u001b[1;33m\u001b[0m\u001b[1;33m\u001b[0m\u001b[0m\n\u001b[0;32m      4\u001b[0m \u001b[1;31m# Batch size\u001b[0m\u001b[1;33m\u001b[0m\u001b[1;33m\u001b[0m\u001b[1;33m\u001b[0m\u001b[0m\n\u001b[1;32m----> 5\u001b[1;33m hist_trans = model.fit(train_generator_trans,\n\u001b[0m\u001b[0;32m      6\u001b[0m                     \u001b[0mepochs\u001b[0m \u001b[1;33m=\u001b[0m \u001b[0mepochs\u001b[0m\u001b[1;33m,\u001b[0m\u001b[1;33m\u001b[0m\u001b[1;33m\u001b[0m\u001b[0m\n\u001b[0;32m      7\u001b[0m                     \u001b[0mvalidation_data\u001b[0m \u001b[1;33m=\u001b[0m \u001b[0mval_generator_trans\u001b[0m\u001b[1;33m,\u001b[0m\u001b[1;33m\u001b[0m\u001b[1;33m\u001b[0m\u001b[0m\n",
      "\u001b[1;32m~\\anaconda3\\envs\\deeplearning\\lib\\site-packages\\tensorflow\\python\\keras\\engine\\training.py\u001b[0m in \u001b[0;36m_method_wrapper\u001b[1;34m(self, *args, **kwargs)\u001b[0m\n\u001b[0;32m    106\u001b[0m   \u001b[1;32mdef\u001b[0m \u001b[0m_method_wrapper\u001b[0m\u001b[1;33m(\u001b[0m\u001b[0mself\u001b[0m\u001b[1;33m,\u001b[0m \u001b[1;33m*\u001b[0m\u001b[0margs\u001b[0m\u001b[1;33m,\u001b[0m \u001b[1;33m**\u001b[0m\u001b[0mkwargs\u001b[0m\u001b[1;33m)\u001b[0m\u001b[1;33m:\u001b[0m\u001b[1;33m\u001b[0m\u001b[1;33m\u001b[0m\u001b[0m\n\u001b[0;32m    107\u001b[0m     \u001b[1;32mif\u001b[0m \u001b[1;32mnot\u001b[0m \u001b[0mself\u001b[0m\u001b[1;33m.\u001b[0m\u001b[0m_in_multi_worker_mode\u001b[0m\u001b[1;33m(\u001b[0m\u001b[1;33m)\u001b[0m\u001b[1;33m:\u001b[0m  \u001b[1;31m# pylint: disable=protected-access\u001b[0m\u001b[1;33m\u001b[0m\u001b[1;33m\u001b[0m\u001b[0m\n\u001b[1;32m--> 108\u001b[1;33m       \u001b[1;32mreturn\u001b[0m \u001b[0mmethod\u001b[0m\u001b[1;33m(\u001b[0m\u001b[0mself\u001b[0m\u001b[1;33m,\u001b[0m \u001b[1;33m*\u001b[0m\u001b[0margs\u001b[0m\u001b[1;33m,\u001b[0m \u001b[1;33m**\u001b[0m\u001b[0mkwargs\u001b[0m\u001b[1;33m)\u001b[0m\u001b[1;33m\u001b[0m\u001b[1;33m\u001b[0m\u001b[0m\n\u001b[0m\u001b[0;32m    109\u001b[0m \u001b[1;33m\u001b[0m\u001b[0m\n\u001b[0;32m    110\u001b[0m     \u001b[1;31m# Running inside `run_distribute_coordinator` already.\u001b[0m\u001b[1;33m\u001b[0m\u001b[1;33m\u001b[0m\u001b[1;33m\u001b[0m\u001b[0m\n",
      "\u001b[1;32m~\\anaconda3\\envs\\deeplearning\\lib\\site-packages\\tensorflow\\python\\keras\\engine\\training.py\u001b[0m in \u001b[0;36mfit\u001b[1;34m(self, x, y, batch_size, epochs, verbose, callbacks, validation_split, validation_data, shuffle, class_weight, sample_weight, initial_epoch, steps_per_epoch, validation_steps, validation_batch_size, validation_freq, max_queue_size, workers, use_multiprocessing)\u001b[0m\n\u001b[0;32m   1096\u001b[0m                 batch_size=batch_size):\n\u001b[0;32m   1097\u001b[0m               \u001b[0mcallbacks\u001b[0m\u001b[1;33m.\u001b[0m\u001b[0mon_train_batch_begin\u001b[0m\u001b[1;33m(\u001b[0m\u001b[0mstep\u001b[0m\u001b[1;33m)\u001b[0m\u001b[1;33m\u001b[0m\u001b[1;33m\u001b[0m\u001b[0m\n\u001b[1;32m-> 1098\u001b[1;33m               \u001b[0mtmp_logs\u001b[0m \u001b[1;33m=\u001b[0m \u001b[0mtrain_function\u001b[0m\u001b[1;33m(\u001b[0m\u001b[0miterator\u001b[0m\u001b[1;33m)\u001b[0m\u001b[1;33m\u001b[0m\u001b[1;33m\u001b[0m\u001b[0m\n\u001b[0m\u001b[0;32m   1099\u001b[0m               \u001b[1;32mif\u001b[0m \u001b[0mdata_handler\u001b[0m\u001b[1;33m.\u001b[0m\u001b[0mshould_sync\u001b[0m\u001b[1;33m:\u001b[0m\u001b[1;33m\u001b[0m\u001b[1;33m\u001b[0m\u001b[0m\n\u001b[0;32m   1100\u001b[0m                 \u001b[0mcontext\u001b[0m\u001b[1;33m.\u001b[0m\u001b[0masync_wait\u001b[0m\u001b[1;33m(\u001b[0m\u001b[1;33m)\u001b[0m\u001b[1;33m\u001b[0m\u001b[1;33m\u001b[0m\u001b[0m\n",
      "\u001b[1;32m~\\anaconda3\\envs\\deeplearning\\lib\\site-packages\\tensorflow\\python\\eager\\def_function.py\u001b[0m in \u001b[0;36m__call__\u001b[1;34m(self, *args, **kwds)\u001b[0m\n\u001b[0;32m    778\u001b[0m       \u001b[1;32melse\u001b[0m\u001b[1;33m:\u001b[0m\u001b[1;33m\u001b[0m\u001b[1;33m\u001b[0m\u001b[0m\n\u001b[0;32m    779\u001b[0m         \u001b[0mcompiler\u001b[0m \u001b[1;33m=\u001b[0m \u001b[1;34m\"nonXla\"\u001b[0m\u001b[1;33m\u001b[0m\u001b[1;33m\u001b[0m\u001b[0m\n\u001b[1;32m--> 780\u001b[1;33m         \u001b[0mresult\u001b[0m \u001b[1;33m=\u001b[0m \u001b[0mself\u001b[0m\u001b[1;33m.\u001b[0m\u001b[0m_call\u001b[0m\u001b[1;33m(\u001b[0m\u001b[1;33m*\u001b[0m\u001b[0margs\u001b[0m\u001b[1;33m,\u001b[0m \u001b[1;33m**\u001b[0m\u001b[0mkwds\u001b[0m\u001b[1;33m)\u001b[0m\u001b[1;33m\u001b[0m\u001b[1;33m\u001b[0m\u001b[0m\n\u001b[0m\u001b[0;32m    781\u001b[0m \u001b[1;33m\u001b[0m\u001b[0m\n\u001b[0;32m    782\u001b[0m       \u001b[0mnew_tracing_count\u001b[0m \u001b[1;33m=\u001b[0m \u001b[0mself\u001b[0m\u001b[1;33m.\u001b[0m\u001b[0m_get_tracing_count\u001b[0m\u001b[1;33m(\u001b[0m\u001b[1;33m)\u001b[0m\u001b[1;33m\u001b[0m\u001b[1;33m\u001b[0m\u001b[0m\n",
      "\u001b[1;32m~\\anaconda3\\envs\\deeplearning\\lib\\site-packages\\tensorflow\\python\\eager\\def_function.py\u001b[0m in \u001b[0;36m_call\u001b[1;34m(self, *args, **kwds)\u001b[0m\n\u001b[0;32m    805\u001b[0m       \u001b[1;31m# In this case we have created variables on the first call, so we run the\u001b[0m\u001b[1;33m\u001b[0m\u001b[1;33m\u001b[0m\u001b[1;33m\u001b[0m\u001b[0m\n\u001b[0;32m    806\u001b[0m       \u001b[1;31m# defunned version which is guaranteed to never create variables.\u001b[0m\u001b[1;33m\u001b[0m\u001b[1;33m\u001b[0m\u001b[1;33m\u001b[0m\u001b[0m\n\u001b[1;32m--> 807\u001b[1;33m       \u001b[1;32mreturn\u001b[0m \u001b[0mself\u001b[0m\u001b[1;33m.\u001b[0m\u001b[0m_stateless_fn\u001b[0m\u001b[1;33m(\u001b[0m\u001b[1;33m*\u001b[0m\u001b[0margs\u001b[0m\u001b[1;33m,\u001b[0m \u001b[1;33m**\u001b[0m\u001b[0mkwds\u001b[0m\u001b[1;33m)\u001b[0m  \u001b[1;31m# pylint: disable=not-callable\u001b[0m\u001b[1;33m\u001b[0m\u001b[1;33m\u001b[0m\u001b[0m\n\u001b[0m\u001b[0;32m    808\u001b[0m     \u001b[1;32melif\u001b[0m \u001b[0mself\u001b[0m\u001b[1;33m.\u001b[0m\u001b[0m_stateful_fn\u001b[0m \u001b[1;32mis\u001b[0m \u001b[1;32mnot\u001b[0m \u001b[1;32mNone\u001b[0m\u001b[1;33m:\u001b[0m\u001b[1;33m\u001b[0m\u001b[1;33m\u001b[0m\u001b[0m\n\u001b[0;32m    809\u001b[0m       \u001b[1;31m# Release the lock early so that multiple threads can perform the call\u001b[0m\u001b[1;33m\u001b[0m\u001b[1;33m\u001b[0m\u001b[1;33m\u001b[0m\u001b[0m\n",
      "\u001b[1;32m~\\anaconda3\\envs\\deeplearning\\lib\\site-packages\\tensorflow\\python\\eager\\function.py\u001b[0m in \u001b[0;36m__call__\u001b[1;34m(self, *args, **kwargs)\u001b[0m\n\u001b[0;32m   2827\u001b[0m     \u001b[1;32mwith\u001b[0m \u001b[0mself\u001b[0m\u001b[1;33m.\u001b[0m\u001b[0m_lock\u001b[0m\u001b[1;33m:\u001b[0m\u001b[1;33m\u001b[0m\u001b[1;33m\u001b[0m\u001b[0m\n\u001b[0;32m   2828\u001b[0m       \u001b[0mgraph_function\u001b[0m\u001b[1;33m,\u001b[0m \u001b[0margs\u001b[0m\u001b[1;33m,\u001b[0m \u001b[0mkwargs\u001b[0m \u001b[1;33m=\u001b[0m \u001b[0mself\u001b[0m\u001b[1;33m.\u001b[0m\u001b[0m_maybe_define_function\u001b[0m\u001b[1;33m(\u001b[0m\u001b[0margs\u001b[0m\u001b[1;33m,\u001b[0m \u001b[0mkwargs\u001b[0m\u001b[1;33m)\u001b[0m\u001b[1;33m\u001b[0m\u001b[1;33m\u001b[0m\u001b[0m\n\u001b[1;32m-> 2829\u001b[1;33m     \u001b[1;32mreturn\u001b[0m \u001b[0mgraph_function\u001b[0m\u001b[1;33m.\u001b[0m\u001b[0m_filtered_call\u001b[0m\u001b[1;33m(\u001b[0m\u001b[0margs\u001b[0m\u001b[1;33m,\u001b[0m \u001b[0mkwargs\u001b[0m\u001b[1;33m)\u001b[0m  \u001b[1;31m# pylint: disable=protected-access\u001b[0m\u001b[1;33m\u001b[0m\u001b[1;33m\u001b[0m\u001b[0m\n\u001b[0m\u001b[0;32m   2830\u001b[0m \u001b[1;33m\u001b[0m\u001b[0m\n\u001b[0;32m   2831\u001b[0m   \u001b[1;33m@\u001b[0m\u001b[0mproperty\u001b[0m\u001b[1;33m\u001b[0m\u001b[1;33m\u001b[0m\u001b[0m\n",
      "\u001b[1;32m~\\anaconda3\\envs\\deeplearning\\lib\\site-packages\\tensorflow\\python\\eager\\function.py\u001b[0m in \u001b[0;36m_filtered_call\u001b[1;34m(self, args, kwargs, cancellation_manager)\u001b[0m\n\u001b[0;32m   1841\u001b[0m       \u001b[0;31m`\u001b[0m\u001b[0margs\u001b[0m\u001b[0;31m`\u001b[0m \u001b[1;32mand\u001b[0m\u001b[0;31m \u001b[0m\u001b[0;31m`\u001b[0m\u001b[0mkwargs\u001b[0m\u001b[0;31m`\u001b[0m\u001b[1;33m.\u001b[0m\u001b[1;33m\u001b[0m\u001b[1;33m\u001b[0m\u001b[0m\n\u001b[0;32m   1842\u001b[0m     \"\"\"\n\u001b[1;32m-> 1843\u001b[1;33m     return self._call_flat(\n\u001b[0m\u001b[0;32m   1844\u001b[0m         [t for t in nest.flatten((args, kwargs), expand_composites=True)\n\u001b[0;32m   1845\u001b[0m          if isinstance(t, (ops.Tensor,\n",
      "\u001b[1;32m~\\anaconda3\\envs\\deeplearning\\lib\\site-packages\\tensorflow\\python\\eager\\function.py\u001b[0m in \u001b[0;36m_call_flat\u001b[1;34m(self, args, captured_inputs, cancellation_manager)\u001b[0m\n\u001b[0;32m   1921\u001b[0m         and executing_eagerly):\n\u001b[0;32m   1922\u001b[0m       \u001b[1;31m# No tape is watching; skip to running the function.\u001b[0m\u001b[1;33m\u001b[0m\u001b[1;33m\u001b[0m\u001b[1;33m\u001b[0m\u001b[0m\n\u001b[1;32m-> 1923\u001b[1;33m       return self._build_call_outputs(self._inference_function.call(\n\u001b[0m\u001b[0;32m   1924\u001b[0m           ctx, args, cancellation_manager=cancellation_manager))\n\u001b[0;32m   1925\u001b[0m     forward_backward = self._select_forward_and_backward_functions(\n",
      "\u001b[1;32m~\\anaconda3\\envs\\deeplearning\\lib\\site-packages\\tensorflow\\python\\eager\\function.py\u001b[0m in \u001b[0;36mcall\u001b[1;34m(self, ctx, args, cancellation_manager)\u001b[0m\n\u001b[0;32m    543\u001b[0m       \u001b[1;32mwith\u001b[0m \u001b[0m_InterpolateFunctionError\u001b[0m\u001b[1;33m(\u001b[0m\u001b[0mself\u001b[0m\u001b[1;33m)\u001b[0m\u001b[1;33m:\u001b[0m\u001b[1;33m\u001b[0m\u001b[1;33m\u001b[0m\u001b[0m\n\u001b[0;32m    544\u001b[0m         \u001b[1;32mif\u001b[0m \u001b[0mcancellation_manager\u001b[0m \u001b[1;32mis\u001b[0m \u001b[1;32mNone\u001b[0m\u001b[1;33m:\u001b[0m\u001b[1;33m\u001b[0m\u001b[1;33m\u001b[0m\u001b[0m\n\u001b[1;32m--> 545\u001b[1;33m           outputs = execute.execute(\n\u001b[0m\u001b[0;32m    546\u001b[0m               \u001b[0mstr\u001b[0m\u001b[1;33m(\u001b[0m\u001b[0mself\u001b[0m\u001b[1;33m.\u001b[0m\u001b[0msignature\u001b[0m\u001b[1;33m.\u001b[0m\u001b[0mname\u001b[0m\u001b[1;33m)\u001b[0m\u001b[1;33m,\u001b[0m\u001b[1;33m\u001b[0m\u001b[1;33m\u001b[0m\u001b[0m\n\u001b[0;32m    547\u001b[0m               \u001b[0mnum_outputs\u001b[0m\u001b[1;33m=\u001b[0m\u001b[0mself\u001b[0m\u001b[1;33m.\u001b[0m\u001b[0m_num_outputs\u001b[0m\u001b[1;33m,\u001b[0m\u001b[1;33m\u001b[0m\u001b[1;33m\u001b[0m\u001b[0m\n",
      "\u001b[1;32m~\\anaconda3\\envs\\deeplearning\\lib\\site-packages\\tensorflow\\python\\eager\\execute.py\u001b[0m in \u001b[0;36mquick_execute\u001b[1;34m(op_name, num_outputs, inputs, attrs, ctx, name)\u001b[0m\n\u001b[0;32m     57\u001b[0m   \u001b[1;32mtry\u001b[0m\u001b[1;33m:\u001b[0m\u001b[1;33m\u001b[0m\u001b[1;33m\u001b[0m\u001b[0m\n\u001b[0;32m     58\u001b[0m     \u001b[0mctx\u001b[0m\u001b[1;33m.\u001b[0m\u001b[0mensure_initialized\u001b[0m\u001b[1;33m(\u001b[0m\u001b[1;33m)\u001b[0m\u001b[1;33m\u001b[0m\u001b[1;33m\u001b[0m\u001b[0m\n\u001b[1;32m---> 59\u001b[1;33m     tensors = pywrap_tfe.TFE_Py_Execute(ctx._handle, device_name, op_name,\n\u001b[0m\u001b[0;32m     60\u001b[0m                                         inputs, attrs, num_outputs)\n\u001b[0;32m     61\u001b[0m   \u001b[1;32mexcept\u001b[0m \u001b[0mcore\u001b[0m\u001b[1;33m.\u001b[0m\u001b[0m_NotOkStatusException\u001b[0m \u001b[1;32mas\u001b[0m \u001b[0me\u001b[0m\u001b[1;33m:\u001b[0m\u001b[1;33m\u001b[0m\u001b[1;33m\u001b[0m\u001b[0m\n",
      "\u001b[1;31mKeyboardInterrupt\u001b[0m: "
     ]
    }
   ],
   "source": [
    "model.compile(loss='categorical_crossentropy', optimizer=\"adam\", metrics = [f1_m])\n",
    "hist_trans = model.fit(train_generator_aug_rgb,\n",
    "                    epochs = 20,\n",
    "                    validation_data = val_generator_rgb,\n",
    "                    callbacks=callbacks_trans, workers=2)"
   ]
  },
  {
   "cell_type": "code",
   "execution_count": 42,
   "metadata": {},
   "outputs": [],
   "source": [
    "\n",
    "from keras.models import Model\n",
    "from keras.layers import Input \n",
    "\n",
    "resnet = keras.applications.ResNet50(weights='imagenet',include_top= 'TRUE') \n",
    "\n",
    "input_tensor = Input(shape=(224,224,1) )\n",
    "x = keras.layers.Conv2D(3,(3,3),padding='same')(input_tensor)    # x has a dimension of (IMG_SIZE,IMG_SIZE,3)\n",
    "x = keras.layers.Dense(3)(x)\n",
    "out = resnet (x) \n",
    "\n",
    "model = Model(inputs=input_tensor,outputs=out)"
   ]
  },
  {
   "cell_type": "code",
   "execution_count": null,
   "metadata": {},
   "outputs": [],
   "source": []
  },
  {
   "cell_type": "code",
   "execution_count": null,
   "metadata": {},
   "outputs": [],
   "source": []
  },
  {
   "cell_type": "code",
   "execution_count": 73,
   "metadata": {},
   "outputs": [
    {
     "name": "stderr",
     "output_type": "stream",
     "text": [
      "C:\\Users\\filip\\AppData\\Local\\Temp/ipykernel_7176/1856620179.py:6: UserWarning: `Model.evaluate_generator` is deprecated and will be removed in a future version. Please use `Model.evaluate`, which supports generators.\n",
      "  test_score = modelBW.evaluate_generator(test_generator)\n"
     ]
    }
   ],
   "source": [
    "preds = modelBW.predict(test_generator)\n",
    "predicted_class_indices = np.argmax(preds, axis=1)\n",
    "test_labels = test_generator.labels\n",
    "\n",
    "cm = confusion_matrix(test_labels, predicted_class_indices)\n",
    "test_score = modelBW.evaluate_generator(test_generator)"
   ]
  },
  {
   "cell_type": "code",
   "execution_count": 74,
   "metadata": {},
   "outputs": [
    {
     "name": "stdout",
     "output_type": "stream",
     "text": [
      "              precision    recall  f1-score   support\n",
      "\n",
      "           0       0.94      0.83      0.88        71\n",
      "           1       0.92      0.97      0.95       142\n",
      "           2       0.97      0.97      0.97        93\n",
      "\n",
      "    accuracy                           0.94       306\n",
      "   macro avg       0.94      0.92      0.93       306\n",
      "weighted avg       0.94      0.94      0.94       306\n",
      "\n"
     ]
    }
   ],
   "source": [
    "print(classification_report(test_generator.labels, predicted_class_indices))"
   ]
  },
  {
   "cell_type": "code",
   "execution_count": null,
   "metadata": {},
   "outputs": [],
   "source": [
    "#modelBW.summary()"
   ]
  },
  {
   "cell_type": "code",
   "execution_count": null,
   "metadata": {},
   "outputs": [],
   "source": [
    "# test_score_modelBW = modelBW.evaluate_generator(test_generator)\n",
    "# test_score_modelBW"
   ]
  },
  {
   "cell_type": "code",
   "execution_count": null,
   "metadata": {},
   "outputs": [],
   "source": [
    "# Modelo sem aug BW\n",
    "#  ---- dropout augmentation\n",
    "\n",
    "# Modelo sem aug RGB\n",
    "#  ---- dropout augmentation\n",
    "\n",
    "# funçoes dos plots\n",
    "\n",
    "# time function comparison"
   ]
  }
 ],
 "metadata": {
  "interpreter": {
   "hash": "18e16194cf3a231c7e85fd3da1ceecb74b106a13d038ee6c4a53eff2850ad794"
  },
  "kernelspec": {
   "display_name": "Python 3.8.12 ('deeplearning')",
   "language": "python",
   "name": "python3"
  },
  "language_info": {
   "codemirror_mode": {
    "name": "ipython",
    "version": 3
   },
   "file_extension": ".py",
   "mimetype": "text/x-python",
   "name": "python",
   "nbconvert_exporter": "python",
   "pygments_lexer": "ipython3",
   "version": "3.8.12"
  },
  "orig_nbformat": 4
 },
 "nbformat": 4,
 "nbformat_minor": 2
}
