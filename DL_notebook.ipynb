{
 "cells": [
  {
   "cell_type": "code",
   "execution_count": 32,
   "metadata": {},
   "outputs": [],
   "source": [
    "import os, random\n",
    "from os import path\n",
    "from numpy.random import seed\n",
    "import keras\n",
    "from keras.preprocessing.image import ImageDataGenerator\n",
    "from matplotlib import pyplot as plt\n",
    "import numpy as np\n",
    "import pandas as pd\n",
    "from distutils.dir_util import copy_tree\n",
    "import shutil\n",
    "from PIL import Image\n",
    "from keras import layers,models\n",
    "import seaborn as sns\n",
    "from tqdm import tqdm\n",
    "from sklearn.metrics import confusion_matrix\n",
    "from sklearn.metrics import classification_report\n",
    "from sklearn.model_selection import ParameterGrid\n",
    "from tensorflow import random as tfrandom\n",
    "import tensorflow as tf\n",
    "from keras.callbacks import Callback, CSVLogger\n",
    "import time\n",
    "from keras.models import load_model\n",
    "from keras.utils.vis_utils import plot_model\n",
    "import matplotlib.pyplot as plt\n",
    "from keras import backend as K\n",
    "import math\n",
    "\n",
    "import cv2\n",
    "\n",
    "random.seed(42)"
   ]
  },
  {
   "cell_type": "code",
   "execution_count": 2,
   "metadata": {},
   "outputs": [],
   "source": [
    "base_path=os.getcwd()"
   ]
  },
  {
   "cell_type": "code",
   "execution_count": 3,
   "metadata": {},
   "outputs": [
    {
     "data": {
      "text/plain": [
       "'c:\\\\Users\\\\Utilizador\\\\Desktop\\\\2_semestre_DS\\\\Deep_Learning\\\\DL_GroupProject\\\\DeepLearning_Group_Project'"
      ]
     },
     "execution_count": 3,
     "metadata": {},
     "output_type": "execute_result"
    }
   ],
   "source": [
    "base_path"
   ]
  },
  {
   "cell_type": "code",
   "execution_count": 4,
   "metadata": {},
   "outputs": [],
   "source": [
    "dir_path=(base_path+r\"\\tumor_data\")"
   ]
  },
  {
   "cell_type": "code",
   "execution_count": 28,
   "metadata": {},
   "outputs": [],
   "source": [
    "# rename the images to 1_xx, 2_xx, 3_xx, by the labels \n",
    "\n",
    "for _, letter in enumerate(os.listdir(dir_path)):\n",
    "    folder_letter = os.path.join(dir_path, letter)\n",
    " \n",
    "    counts=0\n",
    "    for _, image in enumerate(os.listdir(folder_letter)):\n",
    "        \n",
    "        dst=image\n",
    "    \n",
    "        if '_' in dst:\n",
    "            continue\n",
    "        else:\n",
    "            dst = str(letter) + \"_\" + str(counts) + \".png\"\n",
    "            #print(dst)\n",
    "            src = os.path.join(folder_letter, image)\n",
    "            dst = os.path.join(folder_letter, dst)\n",
    "            print(counts)\n",
    "            os.rename(src, dst)\n",
    "            \n",
    "        counts=counts+1\n",
    "        "
   ]
  },
  {
   "cell_type": "code",
   "execution_count": 5,
   "metadata": {},
   "outputs": [],
   "source": [
    "# define directories for the train, val and test splits\n",
    "train_path = os.path.join(dir_path, 'train')\n",
    "val_path = os.path.join(dir_path, 'validation')\n",
    "test_path = os.path.join(dir_path, 'test')"
   ]
  },
  {
   "cell_type": "code",
   "execution_count": 30,
   "metadata": {},
   "outputs": [],
   "source": [
    "def createdir(mydir):\n",
    "    try:\n",
    "        os.mkdir(mydir)\n",
    "    except OSError:\n",
    "        pass\n",
    "\n",
    "# create the directories\n",
    "\n",
    "createdir(train_path)\n",
    "createdir(val_path)\n",
    "createdir(test_path)"
   ]
  },
  {
   "cell_type": "code",
   "execution_count": 31,
   "metadata": {},
   "outputs": [],
   "source": [
    "# create the directories for each label for each train, validation and test folders\n",
    "count=0\n",
    "for dir in [train_path, val_path, test_path]:\n",
    "    count+=1\n",
    "    for letter in ['1','2','3']:\n",
    "        if count == 1:\n",
    "            createdir(os.path.join(dir,str(\"train_{0}\".format(str(letter)))))\n",
    "        elif count == 2:\n",
    "            createdir(os.path.join(dir,str(\"val_{0}\".format(str(letter)))))   \n",
    "        elif count == 3:\n",
    "            createdir(os.path.join(dir,str(\"test_{0}\".format(str(letter)))))\n",
    "        "
   ]
  },
  {
   "cell_type": "code",
   "execution_count": 32,
   "metadata": {},
   "outputs": [
    {
     "name": "stdout",
     "output_type": "stream",
     "text": [
      "break\n",
      "break\n",
      "break\n"
     ]
    }
   ],
   "source": [
    "# copy all the images for the train folder to then split them for validation and test folders \n",
    "\n",
    "count=0\n",
    "\n",
    "for dir_ in [train_path+r'\\train_1', train_path+r'\\train_2', train_path+r'\\train_3']:\n",
    "        if len(os.listdir(dir_)) != 0:\n",
    "            print('break')\n",
    "            for f in os.listdir(dir_):\n",
    "                os.remove(os.path.join(dir_, f))\n",
    "                \n",
    "for dir in [dir_path+r\"\\1\", dir_path+r\"\\2\", dir_path+r\"\\3\"]:\n",
    "    count+=1\n",
    "    \n",
    "    if count == 1:\n",
    "        copy_tree(dir, train_path+r'\\train_1')\n",
    "    elif count==2:\n",
    "        copy_tree(dir, train_path+r'\\train_2')\n",
    "    elif count==3:\n",
    "        copy_tree(dir, train_path+r'\\train_3')"
   ]
  },
  {
   "cell_type": "code",
   "execution_count": 33,
   "metadata": {},
   "outputs": [],
   "source": [
    "# proportion we want for train, val_test and the test datasets\n",
    "prop_train=0.80\n",
    "prop_val_test=0.20\n",
    "prop_test=0.50 "
   ]
  },
  {
   "cell_type": "code",
   "execution_count": 34,
   "metadata": {},
   "outputs": [],
   "source": [
    "labels={'label1':708,'label2':1426,'label3':930}"
   ]
  },
  {
   "cell_type": "code",
   "execution_count": 35,
   "metadata": {},
   "outputs": [
    {
     "name": "stdout",
     "output_type": "stream",
     "text": [
      "break\n",
      "break\n",
      "break\n"
     ]
    }
   ],
   "source": [
    "# input images in VALIDATION\n",
    "\n",
    "count=0\n",
    "for index, letter in enumerate(os.listdir(train_path)):\n",
    "    count+=1\n",
    "    folder_letter_source = os.path.join(train_path, letter)\n",
    "    folder_letter_destiny_val = os.path.join(val_path, str(\"val_{0}\".format(str(count))))\n",
    "\n",
    "    images_val = random.sample(os.listdir(folder_letter_source), k=round(prop_val_test*labels['label{0}'.format(str(count))]))\n",
    "    count1=0\n",
    "    \n",
    "    for image in images_val:\n",
    "        count1+=1\n",
    "        if count1==1 and len(os.listdir(folder_letter_destiny_val)) != 0:\n",
    "            print('break')\n",
    "            for f in os.listdir(folder_letter_destiny_val):\n",
    "                os.remove(os.path.join(folder_letter_destiny_val, f))\n",
    "            \n",
    "        src = os.path.join(folder_letter_source, image)\n",
    "        dst = os.path.join(folder_letter_destiny_val, image)\n",
    "        shutil.move(src, dst)\n"
   ]
  },
  {
   "cell_type": "code",
   "execution_count": 36,
   "metadata": {},
   "outputs": [
    {
     "data": {
      "text/plain": [
       "{'label1': 142, 'label2': 285, 'label3': 186}"
      ]
     },
     "execution_count": 36,
     "metadata": {},
     "output_type": "execute_result"
    }
   ],
   "source": [
    "labels['label1']=round(labels['label1']*prop_val_test)\n",
    "labels['label2']=round(labels['label2']*prop_val_test)\n",
    "labels['label3']=round(labels['label3']*prop_val_test)\n",
    "labels"
   ]
  },
  {
   "cell_type": "code",
   "execution_count": 37,
   "metadata": {},
   "outputs": [
    {
     "name": "stdout",
     "output_type": "stream",
     "text": [
      "break\n",
      "break\n",
      "break\n"
     ]
    }
   ],
   "source": [
    "# input images in TEST\n",
    "\n",
    "count=0\n",
    "for index, letter in enumerate(os.listdir(val_path)):\n",
    "    count+=1\n",
    "    folder_letter_source = os.path.join(val_path, letter)\n",
    "    folder_letter_destiny_test = os.path.join(test_path, str(\"test_{0}\".format(str(count))))\n",
    "\n",
    "    images_val = random.sample(os.listdir(folder_letter_source), k=round(prop_test*labels['label{0}'.format(str(count))]))\n",
    "    count1=0\n",
    "    \n",
    "    for image in images_val:\n",
    "        count1+=1\n",
    "        if count1==1 and len(os.listdir(folder_letter_destiny_test)) != 0:\n",
    "            print('break')\n",
    "            for f in os.listdir(folder_letter_destiny_test):\n",
    "                os.remove(os.path.join(folder_letter_destiny_test, f))\n",
    "            \n",
    "        src = os.path.join(folder_letter_source, image)\n",
    "        dst = os.path.join(folder_letter_destiny_test, image)\n",
    "        shutil.move(src, dst)\n",
    "        "
   ]
  },
  {
   "cell_type": "code",
   "execution_count": 22,
   "metadata": {},
   "outputs": [
    {
     "name": "stdout",
     "output_type": "stream",
     "text": [
      "Found 2451 images belonging to 3 classes.\n"
     ]
    }
   ],
   "source": [
    "train_datagen_aug=ImageDataGenerator(\n",
    "                    rescale=1./255,\n",
    "                    #rotation_range=50,\n",
    "                    rotation_range=10,\n",
    "                    shear_range=0.05)\n",
    "                    #horizontal_flip=True )\n",
    "\n",
    "train_generator_aug = train_datagen_aug.flow_from_directory(\n",
    "    train_path,\n",
    "    target_size=(150, 150),\n",
    "    batch_size=20,\n",
    "    class_mode='categorical',\n",
    "    color_mode='grayscale',\n",
    ")"
   ]
  },
  {
   "cell_type": "code",
   "execution_count": 19,
   "metadata": {},
   "outputs": [
    {
     "name": "stdout",
     "output_type": "stream",
     "text": [
      "Found 2451 images belonging to 3 classes.\n",
      "Found 307 images belonging to 3 classes.\n",
      "Found 306 images belonging to 3 classes.\n"
     ]
    }
   ],
   "source": [
    "train_datagen = ImageDataGenerator(rescale=1.0/255.0)\n",
    "val_datagen = ImageDataGenerator(rescale=1.0/255.0)\n",
    "test_datagen = ImageDataGenerator(rescale=1.0/255.0)\n",
    "\n",
    "train_generator = train_datagen.flow_from_directory(\n",
    "    train_path,\n",
    "    target_size=(150, 150),\n",
    "    batch_size=20,\n",
    "    class_mode='categorical',\n",
    "    color_mode='grayscale',\n",
    ")\n",
    "\n",
    "val_generator = val_datagen.flow_from_directory(\n",
    "    val_path,\n",
    "    target_size=(150, 150),  \n",
    "    batch_size=20,\n",
    "    class_mode='categorical',\n",
    "    color_mode='grayscale',\n",
    ")\n",
    "\n",
    "test_generator = test_datagen.flow_from_directory(\n",
    "    test_path,\n",
    "    target_size=(150, 150), \n",
    "    batch_size=20,\n",
    "    class_mode='categorical',\n",
    "    color_mode='grayscale',\n",
    "    shuffle=False\n",
    ")"
   ]
  },
  {
   "cell_type": "code",
   "execution_count": 18,
   "metadata": {},
   "outputs": [
    {
     "name": "stdout",
     "output_type": "stream",
     "text": [
      "Found 2451 images belonging to 3 classes.\n",
      "Found 307 images belonging to 3 classes.\n",
      "Found 306 images belonging to 3 classes.\n"
     ]
    }
   ],
   "source": [
    "train_generator_rgb = train_datagen.flow_from_directory(\n",
    "    train_path,\n",
    "    target_size=(150, 150),\n",
    "    batch_size=20,\n",
    "    class_mode='categorical',\n",
    "    color_mode='rgb',\n",
    ")\n",
    "\n",
    "val_generator_rgb = val_datagen.flow_from_directory(\n",
    "    val_path,\n",
    "    target_size=(150, 150),  \n",
    "    batch_size=20,\n",
    "    class_mode='categorical',\n",
    "    color_mode='rgb',\n",
    ")\n",
    "\n",
    "test_generator_rgb = test_datagen.flow_from_directory(\n",
    "    test_path,\n",
    "    target_size=(150, 150), \n",
    "    batch_size=20,\n",
    "    class_mode='categorical',\n",
    "    color_mode='rgb',\n",
    "    shuffle=False\n",
    ")"
   ]
  },
  {
   "cell_type": "code",
   "execution_count": 9,
   "metadata": {},
   "outputs": [],
   "source": [
    "def recall_m(y_true, y_pred):\n",
    "    true_positives = K.sum(K.round(K.clip(y_true * y_pred, 0, 1)))\n",
    "    possible_positives = K.sum(K.round(K.clip(y_true, 0, 1)))\n",
    "    recall = true_positives / (possible_positives + K.epsilon())\n",
    "    return recall\n",
    "\n",
    "def precision_m(y_true, y_pred):\n",
    "    true_positives = K.sum(K.round(K.clip(y_true * y_pred, 0, 1)))\n",
    "    predicted_positives = K.sum(K.round(K.clip(y_pred, 0, 1)))\n",
    "    precision = true_positives / (predicted_positives + K.epsilon())\n",
    "    return precision\n",
    "\n",
    "def f1_m(y_true, y_pred):\n",
    "    precision = precision_m(y_true, y_pred)\n",
    "    recall = recall_m(y_true, y_pred)\n",
    "    return 2*((precision*recall)/(precision+recall+K.epsilon()))"
   ]
  },
  {
   "cell_type": "code",
   "execution_count": 10,
   "metadata": {},
   "outputs": [],
   "source": [
    "class TimeHistory(keras.callbacks.Callback):\n",
    "    def on_train_begin(self, logs={}):\n",
    "        self.times = []\n",
    "\n",
    "    def on_epoch_begin(self, batch, logs={}):\n",
    "        self.epoch_time_start = time.time()\n",
    "\n",
    "    def on_epoch_end(self, batch, logs={}):\n",
    "        self.times.append(time.time() - self.epoch_time_start)\n",
    "\n",
    "time_callback = TimeHistory()"
   ]
  },
  {
   "cell_type": "code",
   "execution_count": 11,
   "metadata": {},
   "outputs": [],
   "source": [
    "def save_times(model, times,name_model):\n",
    "  \n",
    "    times_dict = {'Model': ['Model {}'.format(str(name_model))]}\n",
    "    for idx, time in enumerate(times):\n",
    "        times_dict[idx] = times[idx]\n",
    "    df_save_times = pd.DataFrame(times_dict)\n",
    "\n",
    "    if os.path.exists(r'.\\models\\models_times.csv'):\n",
    "        df_save_times.to_csv(r'.\\models\\models_times.csv', mode='a', header=False, index=False)\n",
    "    else:\n",
    "        df_save_times.to_csv(r'.\\models\\models_times.csv')"
   ]
  },
  {
   "cell_type": "code",
   "execution_count": 12,
   "metadata": {},
   "outputs": [],
   "source": [
    "def plot_history(his):\n",
    "    f1 = his['f1_m']\n",
    "    f1_val=his['val_f1_m']\n",
    "    loss = his['loss']\n",
    "    loss_val=his['val_loss']\n",
    "\n",
    "    epochs=range(1,len(f1)+1)\n",
    "\n",
    "    plt.plot(epochs, f1,'bo',label='Training F1')\n",
    "    plt.plot(epochs, f1_val,'b',label='Validation F1')\n",
    "    plt.title('Training and Validation F1 score')\n",
    "    plt.legend()\n",
    "    plt.figure()\n",
    "\n",
    "    plt.plot(epochs, loss,'bo',label='Training loss')\n",
    "    plt.plot(epochs, loss_val,'b',label='Validation loss')\n",
    "    plt.title('Training and Validation loss')\n",
    "    plt.legend()\n",
    "    plt.figure()"
   ]
  },
  {
   "cell_type": "code",
   "execution_count": 13,
   "metadata": {},
   "outputs": [],
   "source": [
    "def callback(filename):\n",
    "  callname_list=[keras.callbacks.EarlyStopping(monitor='val_loss', patience=5),\n",
    "            keras.callbacks.ModelCheckpoint(filepath=os.path.join(base_path+ \"\\models\")+filename, monitor='val_loss',mode='min',verbose=1, save_best_only=True)\n",
    "            ,time_callback]\n",
    "\n",
    "  return callname_list"
   ]
  },
  {
   "cell_type": "code",
   "execution_count": 26,
   "metadata": {},
   "outputs": [
    {
     "name": "stdout",
     "output_type": "stream",
     "text": [
      "123\n",
      "16\n"
     ]
    }
   ],
   "source": [
    "BATCH_SIZE=20 \n",
    "TRAINING_SIZE = 2451 \n",
    "VALIDATION_SIZE = 307 \n",
    "\n",
    "compute_steps_per_epoch = lambda x: int(math.ceil(1. * x / BATCH_SIZE)) \n",
    "steps_per_epoch = compute_steps_per_epoch(TRAINING_SIZE) \n",
    "val_steps = compute_steps_per_epoch(VALIDATION_SIZE) \n",
    "\n",
    "print(steps_per_epoch)\n",
    "print(val_steps)"
   ]
  },
  {
   "cell_type": "code",
   "execution_count": 14,
   "metadata": {},
   "outputs": [],
   "source": [
    "dependencies = {\n",
    "    'f1_m': f1_m\n",
    "}"
   ]
  },
  {
   "cell_type": "code",
   "execution_count": 17,
   "metadata": {},
   "outputs": [],
   "source": [
    "callbacks_BW = callback(\"\\modelBW.h5\")"
   ]
  },
  {
   "cell_type": "code",
   "execution_count": 67,
   "metadata": {},
   "outputs": [
    {
     "name": "stderr",
     "output_type": "stream",
     "text": [
      "C:\\Users\\filip\\AppData\\Local\\Temp/ipykernel_7176/1271958522.py:17: UserWarning: `Model.fit_generator` is deprecated and will be removed in a future version. Please use `Model.fit`, which supports generators.\n",
      "  history_1st = model.fit_generator(train_generator, callbacks=callbacks_BW, epochs=15, steps_per_epoch=123, validation_steps=16,\n"
     ]
    },
    {
     "name": "stdout",
     "output_type": "stream",
     "text": [
      "Epoch 1/15\n",
      "123/123 [==============================] - ETA: 0s - loss: 0.7644 - f1_m: 0.5825\n",
      "Epoch 1: val_loss improved from inf to 0.67267, saving model to c:\\Users\\filip\\OneDrive\\Filipa\\Faculdade\\Mestrado\\Deep Learning\\DeepLearning_Group_Project\\models\\modelBW.h5\n",
      "123/123 [==============================] - 55s 440ms/step - loss: 0.7644 - f1_m: 0.5825 - val_loss: 0.6727 - val_f1_m: 0.6344\n",
      "Epoch 2/15\n",
      "123/123 [==============================] - ETA: 0s - loss: 0.5749 - f1_m: 0.7402\n",
      "Epoch 2: val_loss improved from 0.67267 to 0.52763, saving model to c:\\Users\\filip\\OneDrive\\Filipa\\Faculdade\\Mestrado\\Deep Learning\\DeepLearning_Group_Project\\models\\modelBW.h5\n",
      "123/123 [==============================] - 64s 514ms/step - loss: 0.5749 - f1_m: 0.7402 - val_loss: 0.5276 - val_f1_m: 0.7422\n",
      "Epoch 3/15\n",
      "123/123 [==============================] - ETA: 0s - loss: 0.4463 - f1_m: 0.8097\n",
      "Epoch 3: val_loss improved from 0.52763 to 0.44213, saving model to c:\\Users\\filip\\OneDrive\\Filipa\\Faculdade\\Mestrado\\Deep Learning\\DeepLearning_Group_Project\\models\\modelBW.h5\n",
      "123/123 [==============================] - 67s 545ms/step - loss: 0.4463 - f1_m: 0.8097 - val_loss: 0.4421 - val_f1_m: 0.8105\n",
      "Epoch 4/15\n",
      "123/123 [==============================] - ETA: 0s - loss: 0.3817 - f1_m: 0.8333\n",
      "Epoch 4: val_loss improved from 0.44213 to 0.41691, saving model to c:\\Users\\filip\\OneDrive\\Filipa\\Faculdade\\Mestrado\\Deep Learning\\DeepLearning_Group_Project\\models\\modelBW.h5\n",
      "123/123 [==============================] - 62s 501ms/step - loss: 0.3817 - f1_m: 0.8333 - val_loss: 0.4169 - val_f1_m: 0.8448\n",
      "Epoch 5/15\n",
      "123/123 [==============================] - ETA: 0s - loss: 0.3056 - f1_m: 0.8742\n",
      "Epoch 5: val_loss improved from 0.41691 to 0.35436, saving model to c:\\Users\\filip\\OneDrive\\Filipa\\Faculdade\\Mestrado\\Deep Learning\\DeepLearning_Group_Project\\models\\modelBW.h5\n",
      "123/123 [==============================] - 67s 547ms/step - loss: 0.3056 - f1_m: 0.8742 - val_loss: 0.3544 - val_f1_m: 0.8546\n",
      "Epoch 6/15\n",
      "123/123 [==============================] - ETA: 0s - loss: 0.2341 - f1_m: 0.9063\n",
      "Epoch 6: val_loss did not improve from 0.35436\n",
      "123/123 [==============================] - 69s 561ms/step - loss: 0.2341 - f1_m: 0.9063 - val_loss: 0.3621 - val_f1_m: 0.8442\n",
      "Epoch 7/15\n",
      "123/123 [==============================] - ETA: 0s - loss: 0.1979 - f1_m: 0.9242\n",
      "Epoch 7: val_loss improved from 0.35436 to 0.28364, saving model to c:\\Users\\filip\\OneDrive\\Filipa\\Faculdade\\Mestrado\\Deep Learning\\DeepLearning_Group_Project\\models\\modelBW.h5\n",
      "123/123 [==============================] - 65s 525ms/step - loss: 0.1979 - f1_m: 0.9242 - val_loss: 0.2836 - val_f1_m: 0.8655\n",
      "Epoch 8/15\n",
      "123/123 [==============================] - ETA: 0s - loss: 0.1587 - f1_m: 0.9418\n",
      "Epoch 8: val_loss did not improve from 0.28364\n",
      "123/123 [==============================] - 69s 559ms/step - loss: 0.1587 - f1_m: 0.9418 - val_loss: 0.4306 - val_f1_m: 0.8237\n",
      "Epoch 9/15\n",
      "123/123 [==============================] - ETA: 0s - loss: 0.1249 - f1_m: 0.9535\n",
      "Epoch 9: val_loss improved from 0.28364 to 0.21032, saving model to c:\\Users\\filip\\OneDrive\\Filipa\\Faculdade\\Mestrado\\Deep Learning\\DeepLearning_Group_Project\\models\\modelBW.h5\n",
      "123/123 [==============================] - 64s 517ms/step - loss: 0.1249 - f1_m: 0.9535 - val_loss: 0.2103 - val_f1_m: 0.9099\n",
      "Epoch 10/15\n",
      "123/123 [==============================] - ETA: 0s - loss: 0.1029 - f1_m: 0.9622\n",
      "Epoch 10: val_loss did not improve from 0.21032\n",
      "123/123 [==============================] - 69s 556ms/step - loss: 0.1029 - f1_m: 0.9622 - val_loss: 0.2529 - val_f1_m: 0.8929\n",
      "Epoch 11/15\n",
      "123/123 [==============================] - ETA: 0s - loss: 0.0745 - f1_m: 0.9754\n",
      "Epoch 11: val_loss did not improve from 0.21032\n",
      "123/123 [==============================] - 64s 521ms/step - loss: 0.0745 - f1_m: 0.9754 - val_loss: 0.2121 - val_f1_m: 0.9238\n",
      "Epoch 12/15\n",
      "123/123 [==============================] - ETA: 0s - loss: 0.0628 - f1_m: 0.9758\n",
      "Epoch 12: val_loss did not improve from 0.21032\n",
      "123/123 [==============================] - 64s 521ms/step - loss: 0.0628 - f1_m: 0.9758 - val_loss: 0.2448 - val_f1_m: 0.9202\n",
      "Epoch 13/15\n",
      "123/123 [==============================] - ETA: 0s - loss: 0.0584 - f1_m: 0.9785\n",
      "Epoch 13: val_loss did not improve from 0.21032\n",
      "123/123 [==============================] - 64s 522ms/step - loss: 0.0584 - f1_m: 0.9785 - val_loss: 0.2846 - val_f1_m: 0.9187\n",
      "Epoch 14/15\n",
      "123/123 [==============================] - ETA: 0s - loss: 0.0585 - f1_m: 0.9813\n",
      "Epoch 14: val_loss did not improve from 0.21032\n",
      "123/123 [==============================] - 65s 529ms/step - loss: 0.0585 - f1_m: 0.9813 - val_loss: 0.2414 - val_f1_m: 0.9094\n"
     ]
    }
   ],
   "source": [
    "# model = models.Sequential()\n",
    "\n",
    "# model.add(layers.Conv2D(64, (3, 3), activation='relu', input_shape=(150, 150, 1)))\n",
    "# model.add(layers.MaxPooling2D(2, 2))\n",
    "# model.add(layers.Conv2D(64, (3, 3), activation='relu'))\n",
    "# model.add(layers.MaxPooling2D(2, 2))\n",
    "# model.add(layers.Conv2D(32, (3, 3), activation='relu'))\n",
    "# model.add(layers.MaxPooling2D(2, 2))\n",
    "# model.add(layers.Conv2D(32, (3, 3), activation='relu'))\n",
    "# model.add(layers.MaxPooling2D(2, 2))\n",
    "# model.add(layers.Flatten())\n",
    "# model.add(layers.Dense(50, activation='relu'))\n",
    "# model.add(layers.Dense(3, activation='softmax'))\n",
    "\n",
    "# model.compile(loss='categorical_crossentropy', optimizer='rmsprop', metrics=[f1_m])\n",
    "\n",
    "# history_1st = model.fit_generator(train_generator, callbacks=callbacks_BW, epochs=15, steps_per_epoch=123, validation_steps=16,\n",
    "#                                  validation_data=val_generator, workers=2)"
   ]
  },
  {
   "cell_type": "code",
   "execution_count": 20,
   "metadata": {},
   "outputs": [],
   "source": [
    "modelBW = keras.models.load_model('models/modelBW.h5', custom_objects=dependencies)\n",
    "historyBW=np.load('models/historyBW.npy',allow_pickle='TRUE').item()\n",
    "#timesBW = time_callback.times\n",
    "#save_times(modelBW, timesBW,'modelBW')"
   ]
  },
  {
   "cell_type": "code",
   "execution_count": 21,
   "metadata": {},
   "outputs": [
    {
     "data": {
      "image/png": "[encoded data removed]",
      "text/plain": [
       "<Figure size 432x288 with 1 Axes>"
      ]
     },
     "metadata": {
      "needs_background": "light"
     },
     "output_type": "display_data"
    },
    {
     "data": {
      "image/png": "[encoded data removed]",
      "text/plain": [
       "<Figure size 432x288 with 1 Axes>"
      ]
     },
     "metadata": {
      "needs_background": "light"
     },
     "output_type": "display_data"
    },
    {
     "data": {
      "text/plain": [
       "<Figure size 432x288 with 0 Axes>"
      ]
     },
     "metadata": {},
     "output_type": "display_data"
    }
   ],
   "source": [
    "plot_history(historyBW)"
   ]
  },
  {
   "cell_type": "code",
   "execution_count": 14,
   "metadata": {},
   "outputs": [],
   "source": [
    "callbacks_BW_inc = callback(\"\\modelBW_inc.h5\")\n",
    "#increase the nr of filters through the CNN"
   ]
  },
  {
   "cell_type": "code",
   "execution_count": 17,
   "metadata": {},
   "outputs": [
    {
     "name": "stdout",
     "output_type": "stream",
     "text": [
      "Epoch 1/20\n",
      "123/123 [==============================] - ETA: 0s - loss: 0.7884 - f1_m: 0.5414\n",
      "Epoch 00001: val_loss improved from inf to 0.70448, saving model to c:\\Users\\Utilizador\\Desktop\\2_semestre_DS\\Deep_Learning\\DL_GroupProject\\DeepLearning_Group_Project\\models\\modelBW_inc.h5\n",
      "123/123 [==============================] - 71s 581ms/step - loss: 0.7884 - f1_m: 0.5414 - val_loss: 0.7045 - val_f1_m: 0.6552\n",
      "Epoch 2/20\n",
      "123/123 [==============================] - ETA: 0s - loss: 0.5886 - f1_m: 0.7374\n",
      "Epoch 00002: val_loss did not improve from 0.70448\n",
      "123/123 [==============================] - 66s 539ms/step - loss: 0.5886 - f1_m: 0.7374 - val_loss: 0.7897 - val_f1_m: 0.5382\n",
      "Epoch 3/20\n",
      "123/123 [==============================] - ETA: 0s - loss: 0.4686 - f1_m: 0.7887\n",
      "Epoch 00003: val_loss improved from 0.70448 to 0.59266, saving model to c:\\Users\\Utilizador\\Desktop\\2_semestre_DS\\Deep_Learning\\DL_GroupProject\\DeepLearning_Group_Project\\models\\modelBW_inc.h5\n",
      "123/123 [==============================] - 66s 539ms/step - loss: 0.4686 - f1_m: 0.7887 - val_loss: 0.5927 - val_f1_m: 0.7313\n",
      "Epoch 4/20\n",
      "123/123 [==============================] - ETA: 0s - loss: 0.3799 - f1_m: 0.8301\n",
      "Epoch 00004: val_loss improved from 0.59266 to 0.39133, saving model to c:\\Users\\Utilizador\\Desktop\\2_semestre_DS\\Deep_Learning\\DL_GroupProject\\DeepLearning_Group_Project\\models\\modelBW_inc.h5\n",
      "123/123 [==============================] - 66s 533ms/step - loss: 0.3799 - f1_m: 0.8301 - val_loss: 0.3913 - val_f1_m: 0.8313\n",
      "Epoch 5/20\n",
      "123/123 [==============================] - ETA: 0s - loss: 0.3206 - f1_m: 0.8688\n",
      "Epoch 00005: val_loss improved from 0.39133 to 0.31770, saving model to c:\\Users\\Utilizador\\Desktop\\2_semestre_DS\\Deep_Learning\\DL_GroupProject\\DeepLearning_Group_Project\\models\\modelBW_inc.h5\n",
      "123/123 [==============================] - 62s 506ms/step - loss: 0.3206 - f1_m: 0.8688 - val_loss: 0.3177 - val_f1_m: 0.8885\n",
      "Epoch 6/20\n",
      "123/123 [==============================] - ETA: 0s - loss: 0.2433 - f1_m: 0.9084\n",
      "Epoch 00006: val_loss improved from 0.31770 to 0.31095, saving model to c:\\Users\\Utilizador\\Desktop\\2_semestre_DS\\Deep_Learning\\DL_GroupProject\\DeepLearning_Group_Project\\models\\modelBW_inc.h5\n",
      "123/123 [==============================] - 62s 501ms/step - loss: 0.2433 - f1_m: 0.9084 - val_loss: 0.3110 - val_f1_m: 0.8940\n",
      "Epoch 7/20\n",
      "123/123 [==============================] - ETA: 0s - loss: 0.1993 - f1_m: 0.9223\n",
      "Epoch 00007: val_loss did not improve from 0.31095\n",
      "123/123 [==============================] - 62s 500ms/step - loss: 0.1993 - f1_m: 0.9223 - val_loss: 0.4757 - val_f1_m: 0.8401\n",
      "Epoch 8/20\n",
      "123/123 [==============================] - ETA: 0s - loss: 0.1588 - f1_m: 0.9396\n",
      "Epoch 00008: val_loss improved from 0.31095 to 0.24901, saving model to c:\\Users\\Utilizador\\Desktop\\2_semestre_DS\\Deep_Learning\\DL_GroupProject\\DeepLearning_Group_Project\\models\\modelBW_inc.h5\n",
      "123/123 [==============================] - 62s 504ms/step - loss: 0.1588 - f1_m: 0.9396 - val_loss: 0.2490 - val_f1_m: 0.9189\n",
      "Epoch 9/20\n",
      "123/123 [==============================] - ETA: 0s - loss: 0.1063 - f1_m: 0.9597\n",
      "Epoch 00009: val_loss improved from 0.24901 to 0.24287, saving model to c:\\Users\\Utilizador\\Desktop\\2_semestre_DS\\Deep_Learning\\DL_GroupProject\\DeepLearning_Group_Project\\models\\modelBW_inc.h5\n",
      "123/123 [==============================] - 62s 505ms/step - loss: 0.1063 - f1_m: 0.9597 - val_loss: 0.2429 - val_f1_m: 0.9206\n",
      "Epoch 10/20\n",
      "123/123 [==============================] - ETA: 0s - loss: 0.1055 - f1_m: 0.9606\n",
      "Epoch 00010: val_loss improved from 0.24287 to 0.22336, saving model to c:\\Users\\Utilizador\\Desktop\\2_semestre_DS\\Deep_Learning\\DL_GroupProject\\DeepLearning_Group_Project\\models\\modelBW_inc.h5\n",
      "123/123 [==============================] - 62s 501ms/step - loss: 0.1055 - f1_m: 0.9606 - val_loss: 0.2234 - val_f1_m: 0.9129\n",
      "Epoch 11/20\n",
      "123/123 [==============================] - ETA: 0s - loss: 0.0790 - f1_m: 0.9730\n",
      "Epoch 00011: val_loss did not improve from 0.22336\n",
      "123/123 [==============================] - 62s 503ms/step - loss: 0.0790 - f1_m: 0.9730 - val_loss: 0.3146 - val_f1_m: 0.9156\n",
      "Epoch 12/20\n",
      "123/123 [==============================] - ETA: 0s - loss: 0.0612 - f1_m: 0.9765\n",
      "Epoch 00012: val_loss did not improve from 0.22336\n",
      "123/123 [==============================] - 62s 502ms/step - loss: 0.0612 - f1_m: 0.9765 - val_loss: 0.4383 - val_f1_m: 0.8701\n",
      "Epoch 13/20\n",
      "123/123 [==============================] - ETA: 0s - loss: 0.0588 - f1_m: 0.9821\n",
      "Epoch 00013: val_loss improved from 0.22336 to 0.21162, saving model to c:\\Users\\Utilizador\\Desktop\\2_semestre_DS\\Deep_Learning\\DL_GroupProject\\DeepLearning_Group_Project\\models\\modelBW_inc.h5\n",
      "123/123 [==============================] - 62s 502ms/step - loss: 0.0588 - f1_m: 0.9821 - val_loss: 0.2116 - val_f1_m: 0.9348\n",
      "Epoch 14/20\n",
      "123/123 [==============================] - ETA: 0s - loss: 0.0514 - f1_m: 0.9801\n",
      "Epoch 00014: val_loss improved from 0.21162 to 0.19493, saving model to c:\\Users\\Utilizador\\Desktop\\2_semestre_DS\\Deep_Learning\\DL_GroupProject\\DeepLearning_Group_Project\\models\\modelBW_inc.h5\n",
      "123/123 [==============================] - 54s 435ms/step - loss: 0.0514 - f1_m: 0.9801 - val_loss: 0.1949 - val_f1_m: 0.9469\n",
      "Epoch 15/20\n",
      "123/123 [==============================] - ETA: 0s - loss: 0.0460 - f1_m: 0.9825\n",
      "Epoch 00015: val_loss did not improve from 0.19493\n",
      "123/123 [==============================] - 51s 414ms/step - loss: 0.0460 - f1_m: 0.9825 - val_loss: 0.4131 - val_f1_m: 0.8665\n",
      "Epoch 16/20\n",
      "123/123 [==============================] - ETA: 0s - loss: 0.0417 - f1_m: 0.9887\n",
      "Epoch 00016: val_loss did not improve from 0.19493\n",
      "123/123 [==============================] - 51s 411ms/step - loss: 0.0417 - f1_m: 0.9887 - val_loss: 0.3019 - val_f1_m: 0.9051\n",
      "Epoch 17/20\n",
      "123/123 [==============================] - ETA: 0s - loss: 0.0502 - f1_m: 0.9878\n",
      "Epoch 00017: val_loss did not improve from 0.19493\n",
      "123/123 [==============================] - 58s 470ms/step - loss: 0.0502 - f1_m: 0.9878 - val_loss: 0.5514 - val_f1_m: 0.8800\n",
      "Epoch 18/20\n",
      "123/123 [==============================] - ETA: 0s - loss: 0.0290 - f1_m: 0.9907\n",
      "Epoch 00018: val_loss did not improve from 0.19493\n",
      "123/123 [==============================] - 70s 571ms/step - loss: 0.0290 - f1_m: 0.9907 - val_loss: 0.1992 - val_f1_m: 0.9456\n",
      "Epoch 19/20\n",
      "123/123 [==============================] - ETA: 0s - loss: 0.0278 - f1_m: 0.9937\n",
      "Epoch 00019: val_loss did not improve from 0.19493\n",
      "123/123 [==============================] - 75s 612ms/step - loss: 0.0278 - f1_m: 0.9937 - val_loss: 0.2269 - val_f1_m: 0.9453\n"
     ]
    }
   ],
   "source": [
    "model2 = models.Sequential()\n",
    "\n",
    "model2.add(layers.Conv2D(32, (3, 3), activation='relu', input_shape=(150, 150, 1)))\n",
    "model2.add(layers.MaxPooling2D(2, 2))\n",
    "model2.add(layers.Conv2D(32, (3, 3), activation='relu'))\n",
    "model2.add(layers.MaxPooling2D(2, 2))\n",
    "model2.add(layers.Conv2D(64, (3, 3), activation='relu'))\n",
    "model2.add(layers.MaxPooling2D(2, 2))\n",
    "model2.add(layers.Conv2D(64, (3, 3), activation='relu'))\n",
    "model2.add(layers.MaxPooling2D(2, 2))\n",
    "model2.add(layers.Flatten())\n",
    "model2.add(layers.Dense(50, activation='relu'))\n",
    "model2.add(layers.Dense(3, activation='softmax'))\n",
    "\n",
    "model2.compile(loss='categorical_crossentropy', optimizer='rmsprop', metrics=[f1_m])\n",
    "\n",
    "history_2 = model2.fit_generator(train_generator, callbacks=callbacks_BW_inc, epochs=20, steps_per_epoch=123, validation_steps=16,\n",
    "                                 validation_data=val_generator, workers=2)"
   ]
  },
  {
   "cell_type": "code",
   "execution_count": 22,
   "metadata": {},
   "outputs": [],
   "source": [
    "#np.save('models/historyBW_inc.npy',history_2.history)\n",
    "modelBW_inc = keras.models.load_model('models/modelBW_inc.h5', custom_objects=dependencies)\n",
    "historyBW_inc=np.load('models/historyBW_inc.npy',allow_pickle='TRUE').item()\n",
    "#timesBW = time_callback.times\n",
    "#save_times(modelBW_inc, timesBW,'modelBW_inc')"
   ]
  },
  {
   "cell_type": "code",
   "execution_count": 23,
   "metadata": {},
   "outputs": [
    {
     "data": {
      "image/png": "[encoded data removed]",
      "text/plain": [
       "<Figure size 432x288 with 1 Axes>"
      ]
     },
     "metadata": {
      "needs_background": "light"
     },
     "output_type": "display_data"
    },
    {
     "data": {
      "image/png": "[encoded data removed]",
      "text/plain": [
       "<Figure size 432x288 with 1 Axes>"
      ]
     },
     "metadata": {
      "needs_background": "light"
     },
     "output_type": "display_data"
    },
    {
     "data": {
      "text/plain": [
       "<Figure size 432x288 with 0 Axes>"
      ]
     },
     "metadata": {},
     "output_type": "display_data"
    }
   ],
   "source": [
    "plot_history(historyBW_inc)"
   ]
  },
  {
   "cell_type": "markdown",
   "metadata": {},
   "source": [
    "# REDUCING THE NUMBER OF LAYERS"
   ]
  },
  {
   "cell_type": "code",
   "execution_count": 27,
   "metadata": {},
   "outputs": [],
   "source": [
    "callbacks_BW_simple = callback(\"\\modelBW_simple.h5\")\n",
    "#increase the nr of filters through the CNN"
   ]
  },
  {
   "cell_type": "code",
   "execution_count": 29,
   "metadata": {},
   "outputs": [
    {
     "name": "stdout",
     "output_type": "stream",
     "text": [
      "WARNING:tensorflow:From C:\\Users\\UTILIZ~1\\AppData\\Local\\Temp/ipykernel_25956/4182658474.py:15: Model.fit_generator (from tensorflow.python.keras.engine.training) is deprecated and will be removed in a future version.\n",
      "Instructions for updating:\n",
      "Please use Model.fit, which supports generators.\n",
      "Epoch 1/20\n",
      "123/123 [==============================] - ETA: 0s - loss: 0.7678 - f1_m: 0.5578\n",
      "Epoch 00001: val_loss improved from inf to 0.61245, saving model to c:\\Users\\Utilizador\\Desktop\\2_semestre_DS\\Deep_Learning\\DL_GroupProject\\DeepLearning_Group_Project\\models\\modelBW_simple.h5\n",
      "123/123 [==============================] - 113s 921ms/step - loss: 0.7678 - f1_m: 0.5578 - val_loss: 0.6124 - val_f1_m: 0.7070\n",
      "Epoch 2/20\n",
      "123/123 [==============================] - ETA: 0s - loss: 0.5192 - f1_m: 0.7714\n",
      "Epoch 00002: val_loss improved from 0.61245 to 0.54263, saving model to c:\\Users\\Utilizador\\Desktop\\2_semestre_DS\\Deep_Learning\\DL_GroupProject\\DeepLearning_Group_Project\\models\\modelBW_simple.h5\n",
      "123/123 [==============================] - 94s 766ms/step - loss: 0.5192 - f1_m: 0.7714 - val_loss: 0.5426 - val_f1_m: 0.7539\n",
      "Epoch 3/20\n",
      "123/123 [==============================] - ETA: 0s - loss: 0.3763 - f1_m: 0.8434\n",
      "Epoch 00003: val_loss improved from 0.54263 to 0.36349, saving model to c:\\Users\\Utilizador\\Desktop\\2_semestre_DS\\Deep_Learning\\DL_GroupProject\\DeepLearning_Group_Project\\models\\modelBW_simple.h5\n",
      "123/123 [==============================] - 84s 684ms/step - loss: 0.3763 - f1_m: 0.8434 - val_loss: 0.3635 - val_f1_m: 0.8336\n",
      "Epoch 4/20\n",
      "123/123 [==============================] - ETA: 0s - loss: 0.2796 - f1_m: 0.8907\n",
      "Epoch 00004: val_loss improved from 0.36349 to 0.33785, saving model to c:\\Users\\Utilizador\\Desktop\\2_semestre_DS\\Deep_Learning\\DL_GroupProject\\DeepLearning_Group_Project\\models\\modelBW_simple.h5\n",
      "123/123 [==============================] - 85s 688ms/step - loss: 0.2796 - f1_m: 0.8907 - val_loss: 0.3379 - val_f1_m: 0.8508\n",
      "Epoch 5/20\n",
      "123/123 [==============================] - ETA: 0s - loss: 0.2001 - f1_m: 0.9161\n",
      "Epoch 00005: val_loss improved from 0.33785 to 0.21605, saving model to c:\\Users\\Utilizador\\Desktop\\2_semestre_DS\\Deep_Learning\\DL_GroupProject\\DeepLearning_Group_Project\\models\\modelBW_simple.h5\n",
      "123/123 [==============================] - 89s 721ms/step - loss: 0.2001 - f1_m: 0.9161 - val_loss: 0.2160 - val_f1_m: 0.9139\n",
      "Epoch 6/20\n",
      "123/123 [==============================] - ETA: 0s - loss: 0.1472 - f1_m: 0.9432\n",
      "Epoch 00006: val_loss did not improve from 0.21605\n",
      "123/123 [==============================] - 117s 951ms/step - loss: 0.1472 - f1_m: 0.9432 - val_loss: 0.2475 - val_f1_m: 0.9067\n",
      "Epoch 7/20\n",
      "123/123 [==============================] - ETA: 0s - loss: 0.1058 - f1_m: 0.9637\n",
      "Epoch 00007: val_loss did not improve from 0.21605\n",
      "123/123 [==============================] - 87s 710ms/step - loss: 0.1058 - f1_m: 0.9637 - val_loss: 0.2170 - val_f1_m: 0.9250\n",
      "Epoch 8/20\n",
      "123/123 [==============================] - ETA: 0s - loss: 0.0707 - f1_m: 0.9736\n",
      "Epoch 00008: val_loss did not improve from 0.21605\n",
      "123/123 [==============================] - 101s 825ms/step - loss: 0.0707 - f1_m: 0.9736 - val_loss: 0.2316 - val_f1_m: 0.9281\n",
      "Epoch 9/20\n",
      "123/123 [==============================] - ETA: 0s - loss: 0.0543 - f1_m: 0.9780\n",
      "Epoch 00009: val_loss did not improve from 0.21605\n",
      "123/123 [==============================] - 83s 674ms/step - loss: 0.0543 - f1_m: 0.9780 - val_loss: 0.4499 - val_f1_m: 0.8701\n",
      "Epoch 10/20\n",
      "123/123 [==============================] - ETA: 0s - loss: 0.0402 - f1_m: 0.9854\n",
      "Epoch 00010: val_loss improved from 0.21605 to 0.19108, saving model to c:\\Users\\Utilizador\\Desktop\\2_semestre_DS\\Deep_Learning\\DL_GroupProject\\DeepLearning_Group_Project\\models\\modelBW_simple.h5\n",
      "123/123 [==============================] - 83s 675ms/step - loss: 0.0402 - f1_m: 0.9854 - val_loss: 0.1911 - val_f1_m: 0.9327\n",
      "Epoch 11/20\n",
      "123/123 [==============================] - ETA: 0s - loss: 0.0290 - f1_m: 0.9898\n",
      "Epoch 00011: val_loss did not improve from 0.19108\n",
      "123/123 [==============================] - 96s 780ms/step - loss: 0.0290 - f1_m: 0.9898 - val_loss: 0.3438 - val_f1_m: 0.9202\n",
      "Epoch 12/20\n",
      "123/123 [==============================] - ETA: 0s - loss: 0.0213 - f1_m: 0.9931\n",
      "Epoch 00012: val_loss did not improve from 0.19108\n",
      "123/123 [==============================] - 90s 733ms/step - loss: 0.0213 - f1_m: 0.9931 - val_loss: 0.3101 - val_f1_m: 0.9235\n",
      "Epoch 13/20\n",
      "123/123 [==============================] - ETA: 0s - loss: 0.0303 - f1_m: 0.9886\n",
      "Epoch 00013: val_loss did not improve from 0.19108\n",
      "123/123 [==============================] - 103s 836ms/step - loss: 0.0303 - f1_m: 0.9886 - val_loss: 0.2910 - val_f1_m: 0.9437\n",
      "Epoch 14/20\n",
      "123/123 [==============================] - ETA: 0s - loss: 0.0186 - f1_m: 0.9927\n",
      "Epoch 00014: val_loss did not improve from 0.19108\n",
      "123/123 [==============================] - 89s 724ms/step - loss: 0.0186 - f1_m: 0.9927 - val_loss: 0.4156 - val_f1_m: 0.9312\n",
      "Epoch 15/20\n",
      "123/123 [==============================] - ETA: 0s - loss: 0.0206 - f1_m: 0.9939\n",
      "Epoch 00015: val_loss did not improve from 0.19108\n",
      "123/123 [==============================] - 86s 700ms/step - loss: 0.0206 - f1_m: 0.9939 - val_loss: 0.2890 - val_f1_m: 0.9469\n"
     ]
    }
   ],
   "source": [
    "model3 = models.Sequential()\n",
    "\n",
    "model3.add(layers.Conv2D(32, (3, 3), activation='relu', input_shape=(150, 150, 1)))\n",
    "model3.add(layers.MaxPooling2D(2, 2))\n",
    "model3.add(layers.Conv2D(64, (3, 3), activation='relu'))\n",
    "model3.add(layers.MaxPooling2D(2, 2))\n",
    "model3.add(layers.Conv2D(64, (3, 3), activation='relu'))\n",
    "model3.add(layers.MaxPooling2D(2, 2))\n",
    "model3.add(layers.Flatten())\n",
    "model3.add(layers.Dense(50, activation='relu'))\n",
    "model3.add(layers.Dense(3, activation='softmax'))\n",
    "\n",
    "model3.compile(loss='categorical_crossentropy', optimizer='rmsprop', metrics=[f1_m])\n",
    "\n",
    "history_3 = model3.fit_generator(train_generator, callbacks=callbacks_BW_simple, epochs=20, steps_per_epoch=123, validation_steps=16,\n",
    "                                 validation_data=val_generator, workers=2)"
   ]
  },
  {
   "cell_type": "code",
   "execution_count": 30,
   "metadata": {},
   "outputs": [],
   "source": [
    "np.save('models/historyBW_simple.npy',history_3.history)\n",
    "modelBW_simple = keras.models.load_model('models/modelBW_simple.h5', custom_objects=dependencies)\n",
    "historyBW_simple=np.load('models/historyBW_simple.npy',allow_pickle='TRUE').item()\n",
    "timesBW_simple = time_callback.times\n",
    "save_times(modelBW_simple, timesBW_simple,'modelBW_simple')"
   ]
  },
  {
   "cell_type": "markdown",
   "metadata": {},
   "source": [
    "# DATA AUGMENTATION AND DROP OUT"
   ]
  },
  {
   "cell_type": "code",
   "execution_count": 20,
   "metadata": {},
   "outputs": [],
   "source": [
    "callbacks_BW_aug = callback(\"\\modelBW_aug.h5\")\n",
    "#increase the nr of filters through the CNN"
   ]
  },
  {
   "cell_type": "code",
   "execution_count": 23,
   "metadata": {},
   "outputs": [
    {
     "name": "stdout",
     "output_type": "stream",
     "text": [
      "Epoch 1/30\n",
      "123/123 [==============================] - ETA: 0s - loss: 0.7956 - f1_m: 0.5555\n",
      "Epoch 00001: val_loss did not improve from 0.36242\n",
      "123/123 [==============================] - 104s 844ms/step - loss: 0.7956 - f1_m: 0.5555 - val_loss: 0.8542 - val_f1_m: 0.6359\n",
      "Epoch 2/30\n",
      "123/123 [==============================] - ETA: 0s - loss: 0.6057 - f1_m: 0.7133\n",
      "Epoch 00002: val_loss did not improve from 0.36242\n",
      "123/123 [==============================] - 78s 631ms/step - loss: 0.6057 - f1_m: 0.7133 - val_loss: 0.8034 - val_f1_m: 0.6151\n",
      "Epoch 3/30\n",
      "123/123 [==============================] - ETA: 0s - loss: 0.4965 - f1_m: 0.7806\n",
      "Epoch 00003: val_loss did not improve from 0.36242\n",
      "123/123 [==============================] - 107s 874ms/step - loss: 0.4965 - f1_m: 0.7806 - val_loss: 0.5510 - val_f1_m: 0.7851\n",
      "Epoch 4/30\n",
      "123/123 [==============================] - ETA: 0s - loss: 0.4442 - f1_m: 0.8098\n",
      "Epoch 00004: val_loss did not improve from 0.36242\n",
      "123/123 [==============================] - 82s 664ms/step - loss: 0.4442 - f1_m: 0.8098 - val_loss: 0.5372 - val_f1_m: 0.7448\n",
      "Epoch 5/30\n",
      "123/123 [==============================] - ETA: 0s - loss: 0.3918 - f1_m: 0.8358\n",
      "Epoch 00005: val_loss did not improve from 0.36242\n",
      "123/123 [==============================] - 79s 646ms/step - loss: 0.3918 - f1_m: 0.8358 - val_loss: 0.7349 - val_f1_m: 0.7280\n",
      "Epoch 6/30\n",
      "123/123 [==============================] - ETA: 0s - loss: 0.3435 - f1_m: 0.8560\n",
      "Epoch 00006: val_loss did not improve from 0.36242\n",
      "123/123 [==============================] - 82s 670ms/step - loss: 0.3435 - f1_m: 0.8560 - val_loss: 0.4204 - val_f1_m: 0.8275\n",
      "Epoch 7/30\n",
      "123/123 [==============================] - ETA: 0s - loss: 0.3075 - f1_m: 0.8782\n",
      "Epoch 00007: val_loss did not improve from 0.36242\n",
      "123/123 [==============================] - 80s 649ms/step - loss: 0.3075 - f1_m: 0.8782 - val_loss: 0.4123 - val_f1_m: 0.8274\n",
      "Epoch 8/30\n",
      "123/123 [==============================] - ETA: 0s - loss: 0.2632 - f1_m: 0.8923\n",
      "Epoch 00008: val_loss improved from 0.36242 to 0.30754, saving model to c:\\Users\\Utilizador\\Desktop\\2_semestre_DS\\Deep_Learning\\DL_GroupProject\\DeepLearning_Group_Project\\models\\modelBW_aug.h5\n",
      "123/123 [==============================] - 81s 658ms/step - loss: 0.2632 - f1_m: 0.8923 - val_loss: 0.3075 - val_f1_m: 0.8935\n",
      "Epoch 9/30\n",
      "123/123 [==============================] - ETA: 0s - loss: 0.2396 - f1_m: 0.9060\n",
      "Epoch 00009: val_loss improved from 0.30754 to 0.30687, saving model to c:\\Users\\Utilizador\\Desktop\\2_semestre_DS\\Deep_Learning\\DL_GroupProject\\DeepLearning_Group_Project\\models\\modelBW_aug.h5\n",
      "123/123 [==============================] - 80s 652ms/step - loss: 0.2396 - f1_m: 0.9060 - val_loss: 0.3069 - val_f1_m: 0.8893\n",
      "Epoch 10/30\n",
      "123/123 [==============================] - ETA: 0s - loss: 0.2244 - f1_m: 0.9113\n",
      "Epoch 00010: val_loss improved from 0.30687 to 0.29407, saving model to c:\\Users\\Utilizador\\Desktop\\2_semestre_DS\\Deep_Learning\\DL_GroupProject\\DeepLearning_Group_Project\\models\\modelBW_aug.h5\n",
      "123/123 [==============================] - 80s 652ms/step - loss: 0.2244 - f1_m: 0.9113 - val_loss: 0.2941 - val_f1_m: 0.8911\n",
      "Epoch 11/30\n",
      "123/123 [==============================] - ETA: 0s - loss: 0.2100 - f1_m: 0.9154\n",
      "Epoch 00011: val_loss did not improve from 0.29407\n",
      "123/123 [==============================] - 81s 655ms/step - loss: 0.2100 - f1_m: 0.9154 - val_loss: 0.3399 - val_f1_m: 0.8625\n",
      "Epoch 12/30\n",
      "123/123 [==============================] - ETA: 0s - loss: 0.1732 - f1_m: 0.9343\n",
      "Epoch 00012: val_loss improved from 0.29407 to 0.24807, saving model to c:\\Users\\Utilizador\\Desktop\\2_semestre_DS\\Deep_Learning\\DL_GroupProject\\DeepLearning_Group_Project\\models\\modelBW_aug.h5\n",
      "123/123 [==============================] - 80s 648ms/step - loss: 0.1732 - f1_m: 0.9343 - val_loss: 0.2481 - val_f1_m: 0.9234\n",
      "Epoch 13/30\n",
      "123/123 [==============================] - ETA: 0s - loss: 0.1605 - f1_m: 0.9361\n",
      "Epoch 00013: val_loss did not improve from 0.24807\n",
      "123/123 [==============================] - 69s 563ms/step - loss: 0.1605 - f1_m: 0.9361 - val_loss: 0.2692 - val_f1_m: 0.8982\n",
      "Epoch 14/30\n",
      "123/123 [==============================] - ETA: 0s - loss: 0.1450 - f1_m: 0.9412\n",
      "Epoch 00014: val_loss improved from 0.24807 to 0.23141, saving model to c:\\Users\\Utilizador\\Desktop\\2_semestre_DS\\Deep_Learning\\DL_GroupProject\\DeepLearning_Group_Project\\models\\modelBW_aug.h5\n",
      "123/123 [==============================] - 74s 598ms/step - loss: 0.1450 - f1_m: 0.9412 - val_loss: 0.2314 - val_f1_m: 0.9265\n",
      "Epoch 15/30\n",
      "123/123 [==============================] - ETA: 0s - loss: 0.1407 - f1_m: 0.9448\n",
      "Epoch 00015: val_loss did not improve from 0.23141\n",
      "123/123 [==============================] - 81s 657ms/step - loss: 0.1407 - f1_m: 0.9448 - val_loss: 0.2704 - val_f1_m: 0.9062\n",
      "Epoch 16/30\n",
      "123/123 [==============================] - ETA: 0s - loss: 0.1335 - f1_m: 0.9536\n",
      "Epoch 00016: val_loss improved from 0.23141 to 0.15992, saving model to c:\\Users\\Utilizador\\Desktop\\2_semestre_DS\\Deep_Learning\\DL_GroupProject\\DeepLearning_Group_Project\\models\\modelBW_aug.h5\n",
      "123/123 [==============================] - 89s 724ms/step - loss: 0.1335 - f1_m: 0.9536 - val_loss: 0.1599 - val_f1_m: 0.9442\n",
      "Epoch 17/30\n",
      "123/123 [==============================] - ETA: 0s - loss: 0.1214 - f1_m: 0.9518\n",
      "Epoch 00017: val_loss did not improve from 0.15992\n",
      "123/123 [==============================] - 83s 674ms/step - loss: 0.1214 - f1_m: 0.9518 - val_loss: 0.3599 - val_f1_m: 0.8949\n",
      "Epoch 18/30\n",
      "123/123 [==============================] - ETA: 0s - loss: 0.1188 - f1_m: 0.9609\n",
      "Epoch 00018: val_loss did not improve from 0.15992\n",
      "123/123 [==============================] - 80s 653ms/step - loss: 0.1188 - f1_m: 0.9609 - val_loss: 0.1821 - val_f1_m: 0.9469\n",
      "Epoch 19/30\n",
      "123/123 [==============================] - ETA: 0s - loss: 0.1084 - f1_m: 0.9605\n",
      "Epoch 00019: val_loss did not improve from 0.15992\n",
      "123/123 [==============================] - 79s 645ms/step - loss: 0.1084 - f1_m: 0.9605 - val_loss: 0.1941 - val_f1_m: 0.9175\n",
      "Epoch 20/30\n",
      "123/123 [==============================] - ETA: 0s - loss: 0.0862 - f1_m: 0.9656\n",
      "Epoch 00020: val_loss did not improve from 0.15992\n",
      "123/123 [==============================] - 80s 653ms/step - loss: 0.0862 - f1_m: 0.9656 - val_loss: 0.2437 - val_f1_m: 0.9112\n",
      "Epoch 21/30\n",
      "123/123 [==============================] - ETA: 0s - loss: 0.1048 - f1_m: 0.9615\n",
      "Epoch 00021: val_loss did not improve from 0.15992\n",
      "123/123 [==============================] - 80s 647ms/step - loss: 0.1048 - f1_m: 0.9615 - val_loss: 0.1724 - val_f1_m: 0.9500\n"
     ]
    }
   ],
   "source": [
    "model4 = models.Sequential()\n",
    "\n",
    "model4.add(layers.Conv2D(32, (3, 3), activation='relu', input_shape=(150, 150, 1)))\n",
    "model4.add(layers.MaxPooling2D(2, 2))\n",
    "model4.add(layers.Conv2D(64, (3, 3), activation='relu'))\n",
    "model4.add(layers.MaxPooling2D(2, 2))\n",
    "model4.add(layers.Conv2D(64, (3, 3), activation='relu'))\n",
    "model4.add(layers.MaxPooling2D(2, 2))\n",
    "model4.add(layers.Flatten())\n",
    "model4.add(layers.Dropout(0.5))\n",
    "model4.add(layers.Dense(50, activation='relu'))\n",
    "model4.add(layers.Dense(3, activation='softmax'))\n",
    "\n",
    "model4.compile(loss='categorical_crossentropy', optimizer='rmsprop', metrics=[f1_m])\n",
    "\n",
    "history_4 = model4.fit_generator(train_generator_aug, callbacks=callbacks_BW_aug, epochs=30, steps_per_epoch=123, validation_steps=16,\n",
    "                                 validation_data=val_generator, workers=2)"
   ]
  },
  {
   "cell_type": "code",
   "execution_count": 24,
   "metadata": {},
   "outputs": [],
   "source": [
    "np.save('models/historyBW_aug.npy',history_4.history)\n",
    "modelBW_aug = keras.models.load_model('models/modelBW_aug.h5', custom_objects=dependencies)\n",
    "historyBW_aug=np.load('models/historyBW_aug.npy',allow_pickle='TRUE').item()\n",
    "timesBW_aug = time_callback.times\n",
    "save_times(modelBW_aug, timesBW_aug,'modelBW_aug')"
   ]
  },
  {
   "cell_type": "markdown",
   "metadata": {},
   "source": [
    "# UNET"
   ]
  },
  {
   "cell_type": "code",
   "execution_count": 93,
   "metadata": {},
   "outputs": [],
   "source": [
    "def double_conv_block(x, n_filters):\n",
    "       # Conv2D then ReLU activation\n",
    "    x = layers.Conv2D(n_filters, (3,3), padding = \"same\", activation = \"relu\", kernel_initializer = \"he_normal\")(x)\n",
    "    # Conv2D then ReLU activation\n",
    "    x = layers.Conv2D(n_filters, (3,3), padding = \"same\", activation = \"relu\", kernel_initializer = \"he_normal\")(x)\n",
    "    return x\n",
    "\n",
    "def downsample_block(x, n_filters):\n",
    "    f = double_conv_block(x, n_filters)\n",
    "    p = layers.MaxPool2D(2)(f)\n",
    "    p = layers.Dropout(0.3)(p)\n",
    "    return f, p\n",
    "\n",
    "def upsample_block(x, conv_features, n_filters):\n",
    "       # upsample\n",
    "    x = layers.Conv2DTranspose(n_filters,(3,3), 2, padding=\"same\")(x)\n",
    "    # concatenate\n",
    "    x = layers.concatenate([x, conv_features])\n",
    "    # dropout\n",
    "    x = layers.Dropout(0.3)(x)\n",
    "    # Conv2D twice with ReLU activation\n",
    "    x = double_conv_block(x, n_filters)\n",
    "    return x"
   ]
  },
  {
   "cell_type": "code",
   "execution_count": 94,
   "metadata": {},
   "outputs": [],
   "source": [
    " def build_unet_model():\n",
    " # inputs\n",
    "  inputs = layers.Input(shape=(128,128,3))\n",
    "   # encoder: contracting path - downsample\n",
    "   # 1 - downsample\n",
    "  f1, p1 = downsample_block(inputs, 64)\n",
    "   # 2 - downsample\n",
    "  f2, p2 = downsample_block(p1, 128)\n",
    "   # 3 - downsample\n",
    "  f3, p3 = downsample_block(p2, 256)\n",
    "   # 4 - downsample\n",
    "  f4, p4 = downsample_block(p3, 512)\n",
    "  # 5 - bottleneck\n",
    "  bottleneck = double_conv_block(p4, 1024)\n",
    "   # decoder: expanding path - upsample\n",
    "   # 6 - upsample\n",
    "  u6 = upsample_block(bottleneck, f4, 512)\n",
    "   # 7 - upsample\n",
    "  u7 = upsample_block(u6, f3, 256)\n",
    "   # 8 - upsample\n",
    "  u8 = upsample_block(u7, f2, 128)\n",
    "   # 9 - upsample\n",
    "  u9 = upsample_block(u8, f1, 64)\n",
    "   # outputs\n",
    "  outputs = layers.Conv2D(3, (1,1), padding=\"same\", activation = \"softmax\")(u9)\n",
    "   # unet model with Keras Functional API\n",
    "  unet_model = tf.keras.Model(inputs, outputs, name=\"U-Net\")\n",
    "  return unet_model"
   ]
  },
  {
   "cell_type": "code",
   "execution_count": 95,
   "metadata": {},
   "outputs": [],
   "source": [
    "unet_model = build_unet_model()"
   ]
  },
  {
   "cell_type": "code",
   "execution_count": 96,
   "metadata": {},
   "outputs": [],
   "source": [
    "unet_model.compile(optimizer=tf.keras.optimizers.Adam(),\n",
    "                  loss=\"sparse_categorical_crossentropy\",\n",
    "                  metrics=[f1_m])"
   ]
  },
  {
   "cell_type": "code",
   "execution_count": 74,
   "metadata": {},
   "outputs": [
    {
     "name": "stdout",
     "output_type": "stream",
     "text": [
      "Found 2451 images belonging to 3 classes.\n",
      "Found 307 images belonging to 3 classes.\n"
     ]
    }
   ],
   "source": [
    "train_generator = train_datagen.flow_from_directory(\n",
    "    train_path,\n",
    "    target_size=(128, 128),\n",
    "    batch_size=20,\n",
    "    class_mode='categorical',\n",
    "    color_mode='rgb',\n",
    ")\n",
    "\n",
    "val_generator = val_datagen.flow_from_directory(\n",
    "    val_path,\n",
    "    target_size=(128, 128),  \n",
    "    batch_size=20,\n",
    "    class_mode='categorical',\n",
    "    color_mode='rgb',\n",
    ")"
   ]
  },
  {
   "cell_type": "code",
   "execution_count": 97,
   "metadata": {},
   "outputs": [
    {
     "name": "stdout",
     "output_type": "stream",
     "text": [
      "Epoch 1/15\n"
     ]
    },
    {
     "ename": "InvalidArgumentError",
     "evalue": " Incompatible shapes: [20,3] vs. [20,128,128,3]\n\t [[node mul_1 (defined at \\UTILIZ~1\\AppData\\Local\\Temp/ipykernel_23064/1853306922.py:8) ]] [Op:__inference_train_function_49228]\n\nErrors may have originated from an input operation.\nInput Source operations connected to node mul_1:\n IteratorGetNext (defined at \\UTILIZ~1\\AppData\\Local\\Temp/ipykernel_23064/1190296805.py:1)\n\nFunction call stack:\ntrain_function\n",
     "output_type": "error",
     "traceback": [
      "\u001b[1;31m---------------------------------------------------------------------------\u001b[0m",
      "\u001b[1;31mInvalidArgumentError\u001b[0m                      Traceback (most recent call last)",
      "\u001b[1;32mC:\\Users\\UTILIZ~1\\AppData\\Local\\Temp/ipykernel_23064/1190296805.py\u001b[0m in \u001b[0;36m<module>\u001b[1;34m\u001b[0m\n\u001b[1;32m----> 1\u001b[1;33m model_history = unet_model.fit(train_generator,\n\u001b[0m\u001b[0;32m      2\u001b[0m                               \u001b[0mepochs\u001b[0m\u001b[1;33m=\u001b[0m\u001b[1;36m15\u001b[0m\u001b[1;33m,\u001b[0m\u001b[1;33m\u001b[0m\u001b[1;33m\u001b[0m\u001b[0m\n\u001b[0;32m      3\u001b[0m                               \u001b[0msteps_per_epoch\u001b[0m\u001b[1;33m=\u001b[0m\u001b[1;36m123\u001b[0m\u001b[1;33m,\u001b[0m\u001b[1;33m\u001b[0m\u001b[1;33m\u001b[0m\u001b[0m\n\u001b[0;32m      4\u001b[0m                               \u001b[0mvalidation_steps\u001b[0m\u001b[1;33m=\u001b[0m\u001b[1;36m16\u001b[0m\u001b[1;33m,\u001b[0m\u001b[1;33m\u001b[0m\u001b[1;33m\u001b[0m\u001b[0m\n\u001b[0;32m      5\u001b[0m                               validation_data=val_generator)\n",
      "\u001b[1;32m~\\anaconda3\\envs\\deeplearning\\lib\\site-packages\\tensorflow\\python\\keras\\engine\\training.py\u001b[0m in \u001b[0;36m_method_wrapper\u001b[1;34m(self, *args, **kwargs)\u001b[0m\n\u001b[0;32m    106\u001b[0m   \u001b[1;32mdef\u001b[0m \u001b[0m_method_wrapper\u001b[0m\u001b[1;33m(\u001b[0m\u001b[0mself\u001b[0m\u001b[1;33m,\u001b[0m \u001b[1;33m*\u001b[0m\u001b[0margs\u001b[0m\u001b[1;33m,\u001b[0m \u001b[1;33m**\u001b[0m\u001b[0mkwargs\u001b[0m\u001b[1;33m)\u001b[0m\u001b[1;33m:\u001b[0m\u001b[1;33m\u001b[0m\u001b[1;33m\u001b[0m\u001b[0m\n\u001b[0;32m    107\u001b[0m     \u001b[1;32mif\u001b[0m \u001b[1;32mnot\u001b[0m \u001b[0mself\u001b[0m\u001b[1;33m.\u001b[0m\u001b[0m_in_multi_worker_mode\u001b[0m\u001b[1;33m(\u001b[0m\u001b[1;33m)\u001b[0m\u001b[1;33m:\u001b[0m  \u001b[1;31m# pylint: disable=protected-access\u001b[0m\u001b[1;33m\u001b[0m\u001b[1;33m\u001b[0m\u001b[0m\n\u001b[1;32m--> 108\u001b[1;33m       \u001b[1;32mreturn\u001b[0m \u001b[0mmethod\u001b[0m\u001b[1;33m(\u001b[0m\u001b[0mself\u001b[0m\u001b[1;33m,\u001b[0m \u001b[1;33m*\u001b[0m\u001b[0margs\u001b[0m\u001b[1;33m,\u001b[0m \u001b[1;33m**\u001b[0m\u001b[0mkwargs\u001b[0m\u001b[1;33m)\u001b[0m\u001b[1;33m\u001b[0m\u001b[1;33m\u001b[0m\u001b[0m\n\u001b[0m\u001b[0;32m    109\u001b[0m \u001b[1;33m\u001b[0m\u001b[0m\n\u001b[0;32m    110\u001b[0m     \u001b[1;31m# Running inside `run_distribute_coordinator` already.\u001b[0m\u001b[1;33m\u001b[0m\u001b[1;33m\u001b[0m\u001b[1;33m\u001b[0m\u001b[0m\n",
      "\u001b[1;32m~\\anaconda3\\envs\\deeplearning\\lib\\site-packages\\tensorflow\\python\\keras\\engine\\training.py\u001b[0m in \u001b[0;36mfit\u001b[1;34m(self, x, y, batch_size, epochs, verbose, callbacks, validation_split, validation_data, shuffle, class_weight, sample_weight, initial_epoch, steps_per_epoch, validation_steps, validation_batch_size, validation_freq, max_queue_size, workers, use_multiprocessing)\u001b[0m\n\u001b[0;32m   1096\u001b[0m                 batch_size=batch_size):\n\u001b[0;32m   1097\u001b[0m               \u001b[0mcallbacks\u001b[0m\u001b[1;33m.\u001b[0m\u001b[0mon_train_batch_begin\u001b[0m\u001b[1;33m(\u001b[0m\u001b[0mstep\u001b[0m\u001b[1;33m)\u001b[0m\u001b[1;33m\u001b[0m\u001b[1;33m\u001b[0m\u001b[0m\n\u001b[1;32m-> 1098\u001b[1;33m               \u001b[0mtmp_logs\u001b[0m \u001b[1;33m=\u001b[0m \u001b[0mtrain_function\u001b[0m\u001b[1;33m(\u001b[0m\u001b[0miterator\u001b[0m\u001b[1;33m)\u001b[0m\u001b[1;33m\u001b[0m\u001b[1;33m\u001b[0m\u001b[0m\n\u001b[0m\u001b[0;32m   1099\u001b[0m               \u001b[1;32mif\u001b[0m \u001b[0mdata_handler\u001b[0m\u001b[1;33m.\u001b[0m\u001b[0mshould_sync\u001b[0m\u001b[1;33m:\u001b[0m\u001b[1;33m\u001b[0m\u001b[1;33m\u001b[0m\u001b[0m\n\u001b[0;32m   1100\u001b[0m                 \u001b[0mcontext\u001b[0m\u001b[1;33m.\u001b[0m\u001b[0masync_wait\u001b[0m\u001b[1;33m(\u001b[0m\u001b[1;33m)\u001b[0m\u001b[1;33m\u001b[0m\u001b[1;33m\u001b[0m\u001b[0m\n",
      "\u001b[1;32m~\\anaconda3\\envs\\deeplearning\\lib\\site-packages\\tensorflow\\python\\eager\\def_function.py\u001b[0m in \u001b[0;36m__call__\u001b[1;34m(self, *args, **kwds)\u001b[0m\n\u001b[0;32m    778\u001b[0m       \u001b[1;32melse\u001b[0m\u001b[1;33m:\u001b[0m\u001b[1;33m\u001b[0m\u001b[1;33m\u001b[0m\u001b[0m\n\u001b[0;32m    779\u001b[0m         \u001b[0mcompiler\u001b[0m \u001b[1;33m=\u001b[0m \u001b[1;34m\"nonXla\"\u001b[0m\u001b[1;33m\u001b[0m\u001b[1;33m\u001b[0m\u001b[0m\n\u001b[1;32m--> 780\u001b[1;33m         \u001b[0mresult\u001b[0m \u001b[1;33m=\u001b[0m \u001b[0mself\u001b[0m\u001b[1;33m.\u001b[0m\u001b[0m_call\u001b[0m\u001b[1;33m(\u001b[0m\u001b[1;33m*\u001b[0m\u001b[0margs\u001b[0m\u001b[1;33m,\u001b[0m \u001b[1;33m**\u001b[0m\u001b[0mkwds\u001b[0m\u001b[1;33m)\u001b[0m\u001b[1;33m\u001b[0m\u001b[1;33m\u001b[0m\u001b[0m\n\u001b[0m\u001b[0;32m    781\u001b[0m \u001b[1;33m\u001b[0m\u001b[0m\n\u001b[0;32m    782\u001b[0m       \u001b[0mnew_tracing_count\u001b[0m \u001b[1;33m=\u001b[0m \u001b[0mself\u001b[0m\u001b[1;33m.\u001b[0m\u001b[0m_get_tracing_count\u001b[0m\u001b[1;33m(\u001b[0m\u001b[1;33m)\u001b[0m\u001b[1;33m\u001b[0m\u001b[1;33m\u001b[0m\u001b[0m\n",
      "\u001b[1;32m~\\anaconda3\\envs\\deeplearning\\lib\\site-packages\\tensorflow\\python\\eager\\def_function.py\u001b[0m in \u001b[0;36m_call\u001b[1;34m(self, *args, **kwds)\u001b[0m\n\u001b[0;32m    838\u001b[0m         \u001b[1;31m# Lifting succeeded, so variables are initialized and we can run the\u001b[0m\u001b[1;33m\u001b[0m\u001b[1;33m\u001b[0m\u001b[1;33m\u001b[0m\u001b[0m\n\u001b[0;32m    839\u001b[0m         \u001b[1;31m# stateless function.\u001b[0m\u001b[1;33m\u001b[0m\u001b[1;33m\u001b[0m\u001b[1;33m\u001b[0m\u001b[0m\n\u001b[1;32m--> 840\u001b[1;33m         \u001b[1;32mreturn\u001b[0m \u001b[0mself\u001b[0m\u001b[1;33m.\u001b[0m\u001b[0m_stateless_fn\u001b[0m\u001b[1;33m(\u001b[0m\u001b[1;33m*\u001b[0m\u001b[0margs\u001b[0m\u001b[1;33m,\u001b[0m \u001b[1;33m**\u001b[0m\u001b[0mkwds\u001b[0m\u001b[1;33m)\u001b[0m\u001b[1;33m\u001b[0m\u001b[1;33m\u001b[0m\u001b[0m\n\u001b[0m\u001b[0;32m    841\u001b[0m     \u001b[1;32melse\u001b[0m\u001b[1;33m:\u001b[0m\u001b[1;33m\u001b[0m\u001b[1;33m\u001b[0m\u001b[0m\n\u001b[0;32m    842\u001b[0m       \u001b[0mcanon_args\u001b[0m\u001b[1;33m,\u001b[0m \u001b[0mcanon_kwds\u001b[0m \u001b[1;33m=\u001b[0m\u001b[0;31m \u001b[0m\u001b[0;31m\\\u001b[0m\u001b[1;33m\u001b[0m\u001b[1;33m\u001b[0m\u001b[0m\n",
      "\u001b[1;32m~\\anaconda3\\envs\\deeplearning\\lib\\site-packages\\tensorflow\\python\\eager\\function.py\u001b[0m in \u001b[0;36m__call__\u001b[1;34m(self, *args, **kwargs)\u001b[0m\n\u001b[0;32m   2827\u001b[0m     \u001b[1;32mwith\u001b[0m \u001b[0mself\u001b[0m\u001b[1;33m.\u001b[0m\u001b[0m_lock\u001b[0m\u001b[1;33m:\u001b[0m\u001b[1;33m\u001b[0m\u001b[1;33m\u001b[0m\u001b[0m\n\u001b[0;32m   2828\u001b[0m       \u001b[0mgraph_function\u001b[0m\u001b[1;33m,\u001b[0m \u001b[0margs\u001b[0m\u001b[1;33m,\u001b[0m \u001b[0mkwargs\u001b[0m \u001b[1;33m=\u001b[0m \u001b[0mself\u001b[0m\u001b[1;33m.\u001b[0m\u001b[0m_maybe_define_function\u001b[0m\u001b[1;33m(\u001b[0m\u001b[0margs\u001b[0m\u001b[1;33m,\u001b[0m \u001b[0mkwargs\u001b[0m\u001b[1;33m)\u001b[0m\u001b[1;33m\u001b[0m\u001b[1;33m\u001b[0m\u001b[0m\n\u001b[1;32m-> 2829\u001b[1;33m     \u001b[1;32mreturn\u001b[0m \u001b[0mgraph_function\u001b[0m\u001b[1;33m.\u001b[0m\u001b[0m_filtered_call\u001b[0m\u001b[1;33m(\u001b[0m\u001b[0margs\u001b[0m\u001b[1;33m,\u001b[0m \u001b[0mkwargs\u001b[0m\u001b[1;33m)\u001b[0m  \u001b[1;31m# pylint: disable=protected-access\u001b[0m\u001b[1;33m\u001b[0m\u001b[1;33m\u001b[0m\u001b[0m\n\u001b[0m\u001b[0;32m   2830\u001b[0m \u001b[1;33m\u001b[0m\u001b[0m\n\u001b[0;32m   2831\u001b[0m   \u001b[1;33m@\u001b[0m\u001b[0mproperty\u001b[0m\u001b[1;33m\u001b[0m\u001b[1;33m\u001b[0m\u001b[0m\n",
      "\u001b[1;32m~\\anaconda3\\envs\\deeplearning\\lib\\site-packages\\tensorflow\\python\\eager\\function.py\u001b[0m in \u001b[0;36m_filtered_call\u001b[1;34m(self, args, kwargs, cancellation_manager)\u001b[0m\n\u001b[0;32m   1841\u001b[0m       \u001b[0;31m`\u001b[0m\u001b[0margs\u001b[0m\u001b[0;31m`\u001b[0m \u001b[1;32mand\u001b[0m\u001b[0;31m \u001b[0m\u001b[0;31m`\u001b[0m\u001b[0mkwargs\u001b[0m\u001b[0;31m`\u001b[0m\u001b[1;33m.\u001b[0m\u001b[1;33m\u001b[0m\u001b[1;33m\u001b[0m\u001b[0m\n\u001b[0;32m   1842\u001b[0m     \"\"\"\n\u001b[1;32m-> 1843\u001b[1;33m     return self._call_flat(\n\u001b[0m\u001b[0;32m   1844\u001b[0m         [t for t in nest.flatten((args, kwargs), expand_composites=True)\n\u001b[0;32m   1845\u001b[0m          if isinstance(t, (ops.Tensor,\n",
      "\u001b[1;32m~\\anaconda3\\envs\\deeplearning\\lib\\site-packages\\tensorflow\\python\\eager\\function.py\u001b[0m in \u001b[0;36m_call_flat\u001b[1;34m(self, args, captured_inputs, cancellation_manager)\u001b[0m\n\u001b[0;32m   1921\u001b[0m         and executing_eagerly):\n\u001b[0;32m   1922\u001b[0m       \u001b[1;31m# No tape is watching; skip to running the function.\u001b[0m\u001b[1;33m\u001b[0m\u001b[1;33m\u001b[0m\u001b[1;33m\u001b[0m\u001b[0m\n\u001b[1;32m-> 1923\u001b[1;33m       return self._build_call_outputs(self._inference_function.call(\n\u001b[0m\u001b[0;32m   1924\u001b[0m           ctx, args, cancellation_manager=cancellation_manager))\n\u001b[0;32m   1925\u001b[0m     forward_backward = self._select_forward_and_backward_functions(\n",
      "\u001b[1;32m~\\anaconda3\\envs\\deeplearning\\lib\\site-packages\\tensorflow\\python\\eager\\function.py\u001b[0m in \u001b[0;36mcall\u001b[1;34m(self, ctx, args, cancellation_manager)\u001b[0m\n\u001b[0;32m    543\u001b[0m       \u001b[1;32mwith\u001b[0m \u001b[0m_InterpolateFunctionError\u001b[0m\u001b[1;33m(\u001b[0m\u001b[0mself\u001b[0m\u001b[1;33m)\u001b[0m\u001b[1;33m:\u001b[0m\u001b[1;33m\u001b[0m\u001b[1;33m\u001b[0m\u001b[0m\n\u001b[0;32m    544\u001b[0m         \u001b[1;32mif\u001b[0m \u001b[0mcancellation_manager\u001b[0m \u001b[1;32mis\u001b[0m \u001b[1;32mNone\u001b[0m\u001b[1;33m:\u001b[0m\u001b[1;33m\u001b[0m\u001b[1;33m\u001b[0m\u001b[0m\n\u001b[1;32m--> 545\u001b[1;33m           outputs = execute.execute(\n\u001b[0m\u001b[0;32m    546\u001b[0m               \u001b[0mstr\u001b[0m\u001b[1;33m(\u001b[0m\u001b[0mself\u001b[0m\u001b[1;33m.\u001b[0m\u001b[0msignature\u001b[0m\u001b[1;33m.\u001b[0m\u001b[0mname\u001b[0m\u001b[1;33m)\u001b[0m\u001b[1;33m,\u001b[0m\u001b[1;33m\u001b[0m\u001b[1;33m\u001b[0m\u001b[0m\n\u001b[0;32m    547\u001b[0m               \u001b[0mnum_outputs\u001b[0m\u001b[1;33m=\u001b[0m\u001b[0mself\u001b[0m\u001b[1;33m.\u001b[0m\u001b[0m_num_outputs\u001b[0m\u001b[1;33m,\u001b[0m\u001b[1;33m\u001b[0m\u001b[1;33m\u001b[0m\u001b[0m\n",
      "\u001b[1;32m~\\anaconda3\\envs\\deeplearning\\lib\\site-packages\\tensorflow\\python\\eager\\execute.py\u001b[0m in \u001b[0;36mquick_execute\u001b[1;34m(op_name, num_outputs, inputs, attrs, ctx, name)\u001b[0m\n\u001b[0;32m     57\u001b[0m   \u001b[1;32mtry\u001b[0m\u001b[1;33m:\u001b[0m\u001b[1;33m\u001b[0m\u001b[1;33m\u001b[0m\u001b[0m\n\u001b[0;32m     58\u001b[0m     \u001b[0mctx\u001b[0m\u001b[1;33m.\u001b[0m\u001b[0mensure_initialized\u001b[0m\u001b[1;33m(\u001b[0m\u001b[1;33m)\u001b[0m\u001b[1;33m\u001b[0m\u001b[1;33m\u001b[0m\u001b[0m\n\u001b[1;32m---> 59\u001b[1;33m     tensors = pywrap_tfe.TFE_Py_Execute(ctx._handle, device_name, op_name,\n\u001b[0m\u001b[0;32m     60\u001b[0m                                         inputs, attrs, num_outputs)\n\u001b[0;32m     61\u001b[0m   \u001b[1;32mexcept\u001b[0m \u001b[0mcore\u001b[0m\u001b[1;33m.\u001b[0m\u001b[0m_NotOkStatusException\u001b[0m \u001b[1;32mas\u001b[0m \u001b[0me\u001b[0m\u001b[1;33m:\u001b[0m\u001b[1;33m\u001b[0m\u001b[1;33m\u001b[0m\u001b[0m\n",
      "\u001b[1;31mInvalidArgumentError\u001b[0m:  Incompatible shapes: [20,3] vs. [20,128,128,3]\n\t [[node mul_1 (defined at \\UTILIZ~1\\AppData\\Local\\Temp/ipykernel_23064/1853306922.py:8) ]] [Op:__inference_train_function_49228]\n\nErrors may have originated from an input operation.\nInput Source operations connected to node mul_1:\n IteratorGetNext (defined at \\UTILIZ~1\\AppData\\Local\\Temp/ipykernel_23064/1190296805.py:1)\n\nFunction call stack:\ntrain_function\n"
     ]
    }
   ],
   "source": [
    "\n",
    "model_history = unet_model.fit(train_generator,\n",
    "                              epochs=15,\n",
    "                              steps_per_epoch=123,\n",
    "                              validation_steps=16,\n",
    "                              validation_data=val_generator)"
   ]
  },
  {
   "cell_type": "code",
   "execution_count": 73,
   "metadata": {},
   "outputs": [
    {
     "name": "stderr",
     "output_type": "stream",
     "text": [
      "C:\\Users\\filip\\AppData\\Local\\Temp/ipykernel_7176/1856620179.py:6: UserWarning: `Model.evaluate_generator` is deprecated and will be removed in a future version. Please use `Model.evaluate`, which supports generators.\n",
      "  test_score = modelBW.evaluate_generator(test_generator)\n"
     ]
    }
   ],
   "source": [
    "preds = modelBW.predict(test_generator)\n",
    "predicted_class_indices = np.argmax(preds, axis=1)\n",
    "test_labels = test_generator.labels\n",
    "\n",
    "cm = confusion_matrix(test_labels, predicted_class_indices)\n",
    "test_score = modelBW.evaluate_generator(test_generator)"
   ]
  },
  {
   "cell_type": "code",
   "execution_count": 74,
   "metadata": {},
   "outputs": [
    {
     "name": "stdout",
     "output_type": "stream",
     "text": [
      "              precision    recall  f1-score   support\n",
      "\n",
      "           0       0.94      0.83      0.88        71\n",
      "           1       0.92      0.97      0.95       142\n",
      "           2       0.97      0.97      0.97        93\n",
      "\n",
      "    accuracy                           0.94       306\n",
      "   macro avg       0.94      0.92      0.93       306\n",
      "weighted avg       0.94      0.94      0.94       306\n",
      "\n"
     ]
    }
   ],
   "source": [
    "print(classification_report(test_generator.labels, predicted_class_indices))"
   ]
  },
  {
   "cell_type": "code",
   "execution_count": null,
   "metadata": {},
   "outputs": [],
   "source": [
    "#modelBW.summary()"
   ]
  },
  {
   "cell_type": "code",
   "execution_count": null,
   "metadata": {},
   "outputs": [],
   "source": [
    "# test_score_modelBW = modelBW.evaluate_generator(test_generator)\n",
    "# test_score_modelBW"
   ]
  },
  {
   "cell_type": "code",
   "execution_count": null,
   "metadata": {},
   "outputs": [],
   "source": [
    "# Modelo sem aug BW\n",
    "#  ---- dropout augmentation\n",
    "\n",
    "# Modelo sem aug RGB\n",
    "#  ---- dropout augmentation\n",
    "\n",
    "# funçoes dos plots\n",
    "\n",
    "# time function comparison"
   ]
  }
 ],
 "metadata": {
  "interpreter": {
   "hash": "18e16194cf3a231c7e85fd3da1ceecb74b106a13d038ee6c4a53eff2850ad794"
  },
  "kernelspec": {
   "display_name": "Python 3.8.12 ('deeplearning')",
   "language": "python",
   "name": "python3"
  },
  "language_info": {
   "codemirror_mode": {
    "name": "ipython",
    "version": 3
   },
   "file_extension": ".py",
   "mimetype": "text/x-python",
   "name": "python",
   "nbconvert_exporter": "python",
   "pygments_lexer": "ipython3",
   "version": "3.8.12"
  },
  "orig_nbformat": 4
 },
 "nbformat": 4,
 "nbformat_minor": 2
}
