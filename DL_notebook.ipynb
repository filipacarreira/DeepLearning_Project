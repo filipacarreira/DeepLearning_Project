{
 "cells": [
  {
   "cell_type": "code",
   "execution_count": 1,
   "metadata": {},
   "outputs": [],
   "source": [
    "import os, random\n",
    "from os import path\n",
    "from numpy.random import seed\n",
    "from keras.preprocessing.image import ImageDataGenerator\n",
    "from matplotlib import pyplot as plt\n",
    "import numpy as np\n",
    "from distutils.dir_util import copy_tree\n",
    "import shutil\n",
    "from PIL import Image\n",
    "from keras import layers,models\n",
    "import seaborn as sns\n",
    "from tqdm import tqdm\n",
    "from sklearn.metrics import confusion_matrix\n",
    "from sklearn.model_selection import ParameterGrid\n",
    "import tarfile\n",
    "from tensorflow import random as tfrandom\n",
    "from keras.callbacks import Callback, CSVLogger\n",
    "import time\n",
    "from keras.models import load_model\n",
    "from keras.utils.vis_utils import plot_model\n",
    "import matplotlib.pyplot as plt\n",
    "\n",
    "import cv2\n",
    "\n",
    "random.seed(42)"
   ]
  },
  {
   "cell_type": "code",
   "execution_count": 2,
   "metadata": {},
   "outputs": [],
   "source": [
    "base_path=os.getcwd()"
   ]
  },
  {
   "cell_type": "code",
   "execution_count": 3,
   "metadata": {},
   "outputs": [
    {
     "data": {
      "text/plain": [
       "'c:\\\\Users\\\\Utilizador\\\\Desktop\\\\2_semestre_DS\\\\Deep_Learning\\\\DL_GroupProject\\\\DeepLearning_Group_Project'"
      ]
     },
     "execution_count": 3,
     "metadata": {},
     "output_type": "execute_result"
    }
   ],
   "source": [
    "base_path\n"
   ]
  },
  {
   "cell_type": "code",
   "execution_count": 4,
   "metadata": {},
   "outputs": [],
   "source": [
    "dir_path=(base_path+r\"\\tumor_data\")"
   ]
  },
  {
   "cell_type": "code",
   "execution_count": 5,
   "metadata": {},
   "outputs": [],
   "source": [
    "# rename the images to 1_xx, 2_xx, 3_xx, by the labels \n",
    "\n",
    "for _, letter in enumerate(os.listdir(dir_path)):\n",
    "    folder_letter = os.path.join(dir_path, letter)\n",
    " \n",
    "    counts=0\n",
    "    for _, image in enumerate(os.listdir(folder_letter)):\n",
    "        \n",
    "        dst=image\n",
    "    \n",
    "        if '_' in dst:\n",
    "            continue\n",
    "        else:\n",
    "            dst = str(letter) + \"_\" + str(counts) + \".png\"\n",
    "            #print(dst)\n",
    "            src = os.path.join(folder_letter, image)\n",
    "            dst = os.path.join(folder_letter, dst)\n",
    "            print(counts)\n",
    "            os.rename(src, dst)\n",
    "            \n",
    "        counts=counts+1\n",
    "        "
   ]
  },
  {
   "cell_type": "code",
   "execution_count": 6,
   "metadata": {},
   "outputs": [],
   "source": [
    "# define directories for the train, val and test splits\n",
    "train_path = os.path.join(dir_path, 'train')\n",
    "val_path = os.path.join(dir_path, 'validation')\n",
    "test_path = os.path.join(dir_path, 'test')"
   ]
  },
  {
   "cell_type": "code",
   "execution_count": 7,
   "metadata": {},
   "outputs": [],
   "source": [
    "def createdir(mydir):\n",
    "    try:\n",
    "        os.mkdir(mydir)\n",
    "    except OSError:\n",
    "        pass\n",
    "\n",
    "# create the directories\n",
    "\n",
    "createdir(train_path)\n",
    "createdir(val_path)\n",
    "createdir(test_path)"
   ]
  },
  {
   "cell_type": "code",
   "execution_count": 8,
   "metadata": {},
   "outputs": [],
   "source": [
    "# create the directories for each label for each train, validation and test folders\n",
    "count=0\n",
    "for dir in [train_path, val_path, test_path]:\n",
    "    count+=1\n",
    "    for letter in ['1','2','3']:\n",
    "        if count == 1:\n",
    "            createdir(os.path.join(dir,str(\"train_{0}\".format(str(letter)))))\n",
    "        elif count == 2:\n",
    "            createdir(os.path.join(dir,str(\"val_{0}\".format(str(letter)))))   \n",
    "        elif count == 3:\n",
    "            createdir(os.path.join(dir,str(\"test_{0}\".format(str(letter)))))\n",
    "        "
   ]
  },
  {
   "cell_type": "code",
   "execution_count": 9,
   "metadata": {},
   "outputs": [
    {
     "name": "stdout",
     "output_type": "stream",
     "text": [
      "break\n",
      "break\n",
      "break\n"
     ]
    }
   ],
   "source": [
    "# copy all the images for the train folder to then split them for validation and test folders \n",
    "\n",
    "count=0\n",
    "\n",
    "for dir_ in [train_path+r'\\train_1', train_path+r'\\train_2', train_path+r'\\train_3']:\n",
    "        if len(os.listdir(dir_)) != 0:\n",
    "            print('break')\n",
    "            for f in os.listdir(dir_):\n",
    "                os.remove(os.path.join(dir_, f))\n",
    "                \n",
    "for dir in [dir_path+r\"\\1\", dir_path+r\"\\2\", dir_path+r\"\\3\"]:\n",
    "    count+=1\n",
    "    \n",
    "    if count == 1:\n",
    "        copy_tree(dir, train_path+r'\\train_1')\n",
    "    elif count==2:\n",
    "        copy_tree(dir, train_path+r'\\train_2')\n",
    "    elif count==3:\n",
    "        copy_tree(dir, train_path+r'\\train_3')"
   ]
  },
  {
   "cell_type": "code",
   "execution_count": 10,
   "metadata": {},
   "outputs": [],
   "source": [
    "# proportion we want for train, val_test and the test datasets\n",
    "prop_train=0.80\n",
    "prop_val_test=0.20\n",
    "prop_test=0.50 "
   ]
  },
  {
   "cell_type": "code",
   "execution_count": 11,
   "metadata": {},
   "outputs": [],
   "source": [
    "labels={'label1':708,'label2':1426,'label3':930}"
   ]
  },
  {
   "cell_type": "code",
   "execution_count": 12,
   "metadata": {},
   "outputs": [
    {
     "name": "stdout",
     "output_type": "stream",
     "text": [
      "break\n",
      "break\n",
      "break\n"
     ]
    }
   ],
   "source": [
    "# input images in VALIDATION\n",
    "\n",
    "count=0\n",
    "for index, letter in enumerate(os.listdir(train_path)):\n",
    "    count+=1\n",
    "    folder_letter_source = os.path.join(train_path, letter)\n",
    "    folder_letter_destiny_val = os.path.join(val_path, str(\"val_{0}\".format(str(count))))\n",
    "\n",
    "    images_val = random.sample(os.listdir(folder_letter_source), k=round(prop_val_test*labels['label{0}'.format(str(count))]))\n",
    "    count1=0\n",
    "    \n",
    "    for image in images_val:\n",
    "        count1+=1\n",
    "        if count1==1 and len(os.listdir(folder_letter_destiny_val)) != 0:\n",
    "            print('break')\n",
    "            for f in os.listdir(folder_letter_destiny_val):\n",
    "                os.remove(os.path.join(folder_letter_destiny_val, f))\n",
    "            \n",
    "        src = os.path.join(folder_letter_source, image)\n",
    "        dst = os.path.join(folder_letter_destiny_val, image)\n",
    "        shutil.move(src, dst)\n"
   ]
  },
  {
   "cell_type": "code",
   "execution_count": 13,
   "metadata": {},
   "outputs": [
    {
     "data": {
      "text/plain": [
       "{'label1': 142, 'label2': 285, 'label3': 186}"
      ]
     },
     "execution_count": 13,
     "metadata": {},
     "output_type": "execute_result"
    }
   ],
   "source": [
    "labels['label1']=round(labels['label1']*prop_val_test)\n",
    "labels['label2']=round(labels['label2']*prop_val_test)\n",
    "labels['label3']=round(labels['label3']*prop_val_test)\n",
    "labels"
   ]
  },
  {
   "cell_type": "code",
   "execution_count": 14,
   "metadata": {},
   "outputs": [
    {
     "name": "stdout",
     "output_type": "stream",
     "text": [
      "break\n",
      "break\n",
      "break\n"
     ]
    }
   ],
   "source": [
    "# input images in TEST\n",
    "\n",
    "count=0\n",
    "for index, letter in enumerate(os.listdir(val_path)):\n",
    "    count+=1\n",
    "    folder_letter_source = os.path.join(val_path, letter)\n",
    "    folder_letter_destiny_test = os.path.join(test_path, str(\"test_{0}\".format(str(count))))\n",
    "\n",
    "    images_val = random.sample(os.listdir(folder_letter_source), k=round(prop_test*labels['label{0}'.format(str(count))]))\n",
    "    count1=0\n",
    "    \n",
    "    for image in images_val:\n",
    "        count1+=1\n",
    "        if count1==1 and len(os.listdir(folder_letter_destiny_test)) != 0:\n",
    "            print('break')\n",
    "            for f in os.listdir(folder_letter_destiny_test):\n",
    "                os.remove(os.path.join(folder_letter_destiny_test, f))\n",
    "            \n",
    "        src = os.path.join(folder_letter_source, image)\n",
    "        dst = os.path.join(folder_letter_destiny_test, image)\n",
    "        shutil.move(src, dst)\n",
    "        "
   ]
  },
  {
   "cell_type": "code",
   "execution_count": null,
   "metadata": {},
   "outputs": [],
   "source": [
    "train_datagen_aug=ImageDataGenerator(\n",
    "                    rescale=1./255,\n",
    "                    rotation_range=50,\n",
    "                    shear_range=0.05,\n",
    "                    horizontal_flip=True\n",
    "                )\n",
    "\n",
    "\n",
    "train_generator_aug = train_datagen_aug.flow_from_directory(\n",
    "    train_path,\n",
    "    target_size=(150, 150),\n",
    "    batch_size=20,\n",
    "    class_mode='categorical',\n",
    "    color_mode='grayscale',\n",
    ")\n",
    "\n",
    "# val_generator_aug = val_datagen_aug.flow_from_directory(\n",
    "#     val_path,\n",
    "#     target_size=(150, 150),  \n",
    "#     batch_size=20,\n",
    "#     class_mode='categorical',\n",
    "#     color_mode='grayscale',\n",
    "# )\n",
    "\n",
    "# test_generator_aug = test_datagen_aug.flow_from_directory(\n",
    "#     test_path,\n",
    "#     target_size=(150, 150), \n",
    "#     batch_size=20,\n",
    "#     class_mode='categorical',\n",
    "#     color_mode='grayscale',\n",
    "#     shuffle=False\n",
    "# )"
   ]
  },
  {
   "cell_type": "code",
   "execution_count": 15,
   "metadata": {},
   "outputs": [
    {
     "name": "stdout",
     "output_type": "stream",
     "text": [
      "Found 2451 images belonging to 3 classes.\n",
      "Found 307 images belonging to 3 classes.\n",
      "Found 306 images belonging to 3 classes.\n"
     ]
    }
   ],
   "source": [
    "train_datagen = ImageDataGenerator(rescale=1.0/255.0)\n",
    "val_datagen = ImageDataGenerator(rescale=1.0/255.0)\n",
    "test_datagen = ImageDataGenerator(rescale=1.0/255.0)\n",
    "\n",
    "train_generator = train_datagen.flow_from_directory(\n",
    "    train_path,\n",
    "    target_size=(150, 150),\n",
    "    batch_size=20,\n",
    "    class_mode='categorical',\n",
    "    color_mode='grayscale',\n",
    ")\n",
    "\n",
    "val_generator = val_datagen.flow_from_directory(\n",
    "    val_path,\n",
    "    target_size=(150, 150),  \n",
    "    batch_size=20,\n",
    "    class_mode='categorical',\n",
    "    color_mode='grayscale',\n",
    ")\n",
    "\n",
    "test_generator = test_datagen.flow_from_directory(\n",
    "    test_path,\n",
    "    target_size=(150, 150), \n",
    "    batch_size=20,\n",
    "    class_mode='categorical',\n",
    "    color_mode='grayscale',\n",
    "    shuffle=False\n",
    ")"
   ]
  },
  {
   "cell_type": "code",
   "execution_count": 18,
   "metadata": {},
   "outputs": [],
   "source": [
    "from keras import backend as K\n",
    "def recall_m(y_true, y_pred):\n",
    "    true_positives = K.sum(K.round(K.clip(y_true * y_pred, 0, 1)))\n",
    "    possible_positives = K.sum(K.round(K.clip(y_true, 0, 1)))\n",
    "    recall = true_positives / (possible_positives + K.epsilon())\n",
    "    return recall\n",
    "\n",
    "def precision_m(y_true, y_pred):\n",
    "    true_positives = K.sum(K.round(K.clip(y_true * y_pred, 0, 1)))\n",
    "    predicted_positives = K.sum(K.round(K.clip(y_pred, 0, 1)))\n",
    "    precision = true_positives / (predicted_positives + K.epsilon())\n",
    "    return precision\n",
    "\n",
    "def f1_m(y_true, y_pred):\n",
    "    precision = precision_m(y_true, y_pred)\n",
    "    recall = recall_m(y_true, y_pred)\n",
    "    return 2*((precision*recall)/(precision+recall+K.epsilon()))"
   ]
  },
  {
   "cell_type": "code",
   "execution_count": 144,
   "metadata": {},
   "outputs": [],
   "source": [
    "class TimeHistory(keras.callbacks.Callback):\n",
    "    def on_train_begin(self, logs={}):\n",
    "        self.times = []\n",
    "\n",
    "    def on_epoch_begin(self, batch, logs={}):\n",
    "        self.epoch_time_start = time.time()\n",
    "\n",
    "    def on_epoch_end(self, batch, logs={}):\n",
    "        self.times.append(time.time() - self.epoch_time_start)\n",
    "\n",
    "time_callback = TimeHistory()"
   ]
  },
  {
   "cell_type": "code",
   "execution_count": 163,
   "metadata": {},
   "outputs": [],
   "source": [
    "def save_times(model, times,name_model):\n",
    "  \n",
    "    times_dict = {'Model': ['Model {}'.format(str(name_model))]}\n",
    "    for idx, time in enumerate(times):\n",
    "        times_dict[idx] = times[idx]\n",
    "    df_save_times = pd.DataFrame(times_dict)\n",
    "\n",
    "    if os.path.exists(r'.\\models\\models_times.csv'):\n",
    "        df_save_times.to_csv(r'.\\models\\models_times.csv', mode='a', header=False, index=False)\n",
    "    else:\n",
    "        df_save_times.to_csv(r'.\\models\\models_times.csv')"
   ]
  },
  {
   "cell_type": "code",
   "execution_count": 155,
   "metadata": {},
   "outputs": [],
   "source": [
    "\n",
    "def plot_history(his):\n",
    "    f1 = his['f1_m']\n",
    "    f1_val=his['val_f1_m']\n",
    "    loss = his['loss']\n",
    "    loss_val=his['val_loss']\n",
    "\n",
    "    epochs=range(1,len(f1)+1)\n",
    "\n",
    "    plt.plot(epochs, f1,'bo',label='Training F1')\n",
    "    plt.plot(epochs, f1_val,'b',label='Validation F1')\n",
    "    plt.title('Training and Validation F1 score')\n",
    "    plt.legend()\n",
    "    plt.figure()\n",
    "\n",
    "    plt.plot(epochs, loss,'bo',label='Training loss')\n",
    "    plt.plot(epochs, loss_val,'b',label='Validation loss')\n",
    "    plt.title('Training and Validation loss')\n",
    "    plt.legend()\n",
    "    plt.figure()"
   ]
  },
  {
   "cell_type": "code",
   "execution_count": 149,
   "metadata": {},
   "outputs": [],
   "source": [
    "def callback(callname,filename):\n",
    "  callname=[keras.callbacks.EarlyStopping(monitor='val_loss', patience=5),\n",
    "            keras.callbacks.ModelCheckpoint(filepath=os.path.join(base_path+ \"\\models\")+filename, monitor='val_loss',mode='min',verbose=1, save_best_only=True)\n",
    "            ,time_callback]\n",
    "\n",
    "  return callname"
   ]
  },
  {
   "cell_type": "code",
   "execution_count": 150,
   "metadata": {},
   "outputs": [
    {
     "data": {
      "text/plain": [
       "[<tensorflow.python.keras.callbacks.EarlyStopping at 0x27b36e4f6a0>,\n",
       " <tensorflow.python.keras.callbacks.ModelCheckpoint at 0x27b39f31370>,\n",
       " <__main__.TimeHistory at 0x27b36ad5af0>]"
      ]
     },
     "execution_count": 150,
     "metadata": {},
     "output_type": "execute_result"
    }
   ],
   "source": [
    "callback(callbacks_BW,\"\\modelBW.h5\")"
   ]
  },
  {
   "cell_type": "code",
   "execution_count": 86,
   "metadata": {},
   "outputs": [
    {
     "name": "stdout",
     "output_type": "stream",
     "text": [
      "123\n",
      "16\n"
     ]
    }
   ],
   "source": [
    "import math\n",
    "BATCH_SIZE=20 \n",
    "TRAINING_SIZE = 2451 \n",
    "VALIDATION_SIZE = 307 \n",
    "# We take the ceiling because we do not drop the remainder of the batch \n",
    "compute_steps_per_epoch = lambda x: int(math.ceil(1. * x / BATCH_SIZE)) \n",
    "steps_per_epoch = compute_steps_per_epoch(TRAINING_SIZE) \n",
    "val_steps = compute_steps_per_epoch(VALIDATION_SIZE) \n",
    "\n",
    "print(steps_per_epoch)\n",
    "print(val_steps)"
   ]
  },
  {
   "cell_type": "code",
   "execution_count": 152,
   "metadata": {},
   "outputs": [],
   "source": [
    "dependencies = {\n",
    "    'f1_m': f1_m\n",
    "}"
   ]
  },
  {
   "cell_type": "code",
   "execution_count": 151,
   "metadata": {},
   "outputs": [
    {
     "name": "stdout",
     "output_type": "stream",
     "text": [
      "Epoch 1/15\n",
      "123/123 [==============================] - ETA: 0s - loss: 0.8201 - f1_m: 0.5140\n",
      "Epoch 00001: val_loss improved from inf to 0.65705, saving model to c:\\Users\\Utilizador\\Desktop\\2_semestre_DS\\Deep_Learning\\DL_GroupProject\\DeepLearning_Group_Project\\models\\modelBW.h5\n",
      "123/123 [==============================] - 131s 1s/step - loss: 0.8201 - f1_m: 0.5140 - val_loss: 0.6571 - val_f1_m: 0.6820\n",
      "Epoch 2/15\n",
      "123/123 [==============================] - ETA: 0s - loss: 0.5946 - f1_m: 0.7198\n",
      "Epoch 00002: val_loss improved from 0.65705 to 0.58316, saving model to c:\\Users\\Utilizador\\Desktop\\2_semestre_DS\\Deep_Learning\\DL_GroupProject\\DeepLearning_Group_Project\\models\\modelBW.h5\n",
      "123/123 [==============================] - 116s 939ms/step - loss: 0.5946 - f1_m: 0.7198 - val_loss: 0.5832 - val_f1_m: 0.7749\n",
      "Epoch 3/15\n",
      "123/123 [==============================] - ETA: 0s - loss: 0.4852 - f1_m: 0.7846\n",
      "Epoch 00003: val_loss improved from 0.58316 to 0.51218, saving model to c:\\Users\\Utilizador\\Desktop\\2_semestre_DS\\Deep_Learning\\DL_GroupProject\\DeepLearning_Group_Project\\models\\modelBW.h5\n",
      "123/123 [==============================] - 110s 894ms/step - loss: 0.4852 - f1_m: 0.7846 - val_loss: 0.5122 - val_f1_m: 0.7720\n",
      "Epoch 4/15\n",
      "123/123 [==============================] - ETA: 0s - loss: 0.4141 - f1_m: 0.8138\n",
      "Epoch 00004: val_loss did not improve from 0.51218\n",
      "123/123 [==============================] - 125s 1s/step - loss: 0.4141 - f1_m: 0.8138 - val_loss: 0.7648 - val_f1_m: 0.7357\n",
      "Epoch 5/15\n",
      "123/123 [==============================] - ETA: 0s - loss: 0.3537 - f1_m: 0.8477\n",
      "Epoch 00005: val_loss improved from 0.51218 to 0.38539, saving model to c:\\Users\\Utilizador\\Desktop\\2_semestre_DS\\Deep_Learning\\DL_GroupProject\\DeepLearning_Group_Project\\models\\modelBW.h5\n",
      "123/123 [==============================] - 113s 917ms/step - loss: 0.3537 - f1_m: 0.8477 - val_loss: 0.3854 - val_f1_m: 0.8328\n",
      "Epoch 6/15\n",
      "123/123 [==============================] - ETA: 0s - loss: 0.2856 - f1_m: 0.8893\n",
      "Epoch 00006: val_loss improved from 0.38539 to 0.34450, saving model to c:\\Users\\Utilizador\\Desktop\\2_semestre_DS\\Deep_Learning\\DL_GroupProject\\DeepLearning_Group_Project\\models\\modelBW.h5\n",
      "123/123 [==============================] - 114s 927ms/step - loss: 0.2856 - f1_m: 0.8893 - val_loss: 0.3445 - val_f1_m: 0.8466\n",
      "Epoch 7/15\n",
      "123/123 [==============================] - ETA: 0s - loss: 0.2248 - f1_m: 0.9136\n",
      "Epoch 00007: val_loss improved from 0.34450 to 0.26213, saving model to c:\\Users\\Utilizador\\Desktop\\2_semestre_DS\\Deep_Learning\\DL_GroupProject\\DeepLearning_Group_Project\\models\\modelBW.h5\n",
      "123/123 [==============================] - 113s 921ms/step - loss: 0.2248 - f1_m: 0.9136 - val_loss: 0.2621 - val_f1_m: 0.8754\n",
      "Epoch 8/15\n",
      "123/123 [==============================] - ETA: 0s - loss: 0.1880 - f1_m: 0.9285\n",
      "Epoch 00008: val_loss improved from 0.26213 to 0.22516, saving model to c:\\Users\\Utilizador\\Desktop\\2_semestre_DS\\Deep_Learning\\DL_GroupProject\\DeepLearning_Group_Project\\models\\modelBW.h5\n",
      "123/123 [==============================] - 113s 917ms/step - loss: 0.1880 - f1_m: 0.9285 - val_loss: 0.2252 - val_f1_m: 0.9125\n",
      "Epoch 9/15\n",
      "123/123 [==============================] - ETA: 0s - loss: 0.1510 - f1_m: 0.9487\n",
      "Epoch 00009: val_loss did not improve from 0.22516\n",
      "123/123 [==============================] - 107s 870ms/step - loss: 0.1510 - f1_m: 0.9487 - val_loss: 0.2597 - val_f1_m: 0.8896\n",
      "Epoch 10/15\n",
      "123/123 [==============================] - ETA: 0s - loss: 0.1197 - f1_m: 0.9568\n",
      "Epoch 00010: val_loss improved from 0.22516 to 0.22000, saving model to c:\\Users\\Utilizador\\Desktop\\2_semestre_DS\\Deep_Learning\\DL_GroupProject\\DeepLearning_Group_Project\\models\\modelBW.h5\n",
      "123/123 [==============================] - 94s 767ms/step - loss: 0.1197 - f1_m: 0.9568 - val_loss: 0.2200 - val_f1_m: 0.9252\n",
      "Epoch 11/15\n",
      "123/123 [==============================] - ETA: 0s - loss: 0.1020 - f1_m: 0.9616\n",
      "Epoch 00011: val_loss did not improve from 0.22000\n",
      "123/123 [==============================] - 94s 767ms/step - loss: 0.1020 - f1_m: 0.9616 - val_loss: 0.2282 - val_f1_m: 0.9144\n",
      "Epoch 12/15\n",
      "123/123 [==============================] - ETA: 0s - loss: 0.0714 - f1_m: 0.9717\n",
      "Epoch 00012: val_loss did not improve from 0.22000\n",
      "123/123 [==============================] - 97s 786ms/step - loss: 0.0714 - f1_m: 0.9717 - val_loss: 0.3033 - val_f1_m: 0.9062\n",
      "Epoch 13/15\n",
      "123/123 [==============================] - ETA: 0s - loss: 0.0693 - f1_m: 0.9760\n",
      "Epoch 00013: val_loss improved from 0.22000 to 0.21783, saving model to c:\\Users\\Utilizador\\Desktop\\2_semestre_DS\\Deep_Learning\\DL_GroupProject\\DeepLearning_Group_Project\\models\\modelBW.h5\n",
      "123/123 [==============================] - 177s 1s/step - loss: 0.0693 - f1_m: 0.9760 - val_loss: 0.2178 - val_f1_m: 0.9311\n",
      "Epoch 14/15\n",
      "123/123 [==============================] - ETA: 0s - loss: 0.0600 - f1_m: 0.9773\n",
      "Epoch 00014: val_loss improved from 0.21783 to 0.18042, saving model to c:\\Users\\Utilizador\\Desktop\\2_semestre_DS\\Deep_Learning\\DL_GroupProject\\DeepLearning_Group_Project\\models\\modelBW.h5\n",
      "123/123 [==============================] - 113s 915ms/step - loss: 0.0600 - f1_m: 0.9773 - val_loss: 0.1804 - val_f1_m: 0.9466\n",
      "Epoch 15/15\n",
      "123/123 [==============================] - ETA: 0s - loss: 0.0401 - f1_m: 0.9864\n",
      "Epoch 00015: val_loss did not improve from 0.18042\n",
      "123/123 [==============================] - 113s 921ms/step - loss: 0.0401 - f1_m: 0.9864 - val_loss: 0.2303 - val_f1_m: 0.9406\n"
     ]
    }
   ],
   "source": [
    "model = models.Sequential()\n",
    "\n",
    "model.add(layers.Conv2D(64, (3, 3), activation='relu', input_shape=(150, 150, 1)))\n",
    "model.add(layers.MaxPooling2D(2, 2))\n",
    "model.add(layers.Conv2D(64, (3, 3), activation='relu'))\n",
    "model.add(layers.MaxPooling2D(2, 2))\n",
    "model.add(layers.Conv2D(32, (3, 3), activation='relu'))\n",
    "model.add(layers.MaxPooling2D(2, 2))\n",
    "model.add(layers.Conv2D(32, (3, 3), activation='relu'))\n",
    "model.add(layers.MaxPooling2D(2, 2))\n",
    "model.add(layers.Flatten())\n",
    "model.add(layers.Dense(50, activation='relu'))\n",
    "model.add(layers.Dense(3, activation='softmax'))\n",
    "\n",
    "model.compile(loss='categorical_crossentropy', optimizer='rmsprop', metrics=[f1_m])\n",
    "\n",
    "history_1st = model.fit_generator(train_generator, callbacks=callbacks_BW, epochs=15, steps_per_epoch=123, validation_steps=16,\n",
    "                                 validation_data=val_generator, workers=2)"
   ]
  },
  {
   "cell_type": "code",
   "execution_count": 153,
   "metadata": {},
   "outputs": [],
   "source": [
    "modelBW = keras.models.load_model('models/modelBW.h5', custom_objects=dependencies)\n",
    "historyBW=np.load('models/historyBW.npy',allow_pickle='TRUE').item()\n",
    "timesBW = time_callback.times\n",
    "save_times(modelBW, timesBW,'modelBW')"
   ]
  },
  {
   "cell_type": "code",
   "execution_count": 156,
   "metadata": {},
   "outputs": [
    {
     "data": {
      "image/png": "[encoded data removed]",
      "text/plain": [
       "<Figure size 432x288 with 1 Axes>"
      ]
     },
     "metadata": {
      "needs_background": "light"
     },
     "output_type": "display_data"
    },
    {
     "data": {
      "image/png": "[encoded data removed]",
      "text/plain": [
       "<Figure size 432x288 with 1 Axes>"
      ]
     },
     "metadata": {
      "needs_background": "light"
     },
     "output_type": "display_data"
    },
    {
     "data": {
      "text/plain": [
       "<Figure size 432x288 with 0 Axes>"
      ]
     },
     "metadata": {},
     "output_type": "display_data"
    }
   ],
   "source": [
    "plot_history(historyBW)"
   ]
  },
  {
   "cell_type": "code",
   "execution_count": 157,
   "metadata": {},
   "outputs": [],
   "source": [
    "preds = modelBW.predict(test_generator)\n",
    "predicted_class_indices = np.argmax(preds, axis=1)\n",
    "test_labels = test_generator.labels\n",
    "\n",
    "cm = confusion_matrix(test_labels, predicted_class_indices)\n",
    "test_score = modelBW.evaluate_generator(test_generator)"
   ]
  },
  {
   "cell_type": "code",
   "execution_count": 158,
   "metadata": {},
   "outputs": [
    {
     "name": "stdout",
     "output_type": "stream",
     "text": [
      "              precision    recall  f1-score   support\n",
      "\n",
      "           0       0.89      0.89      0.89        71\n",
      "           1       0.95      0.94      0.95       142\n",
      "           2       0.98      0.99      0.98        93\n",
      "\n",
      "    accuracy                           0.94       306\n",
      "   macro avg       0.94      0.94      0.94       306\n",
      "weighted avg       0.94      0.94      0.94       306\n",
      "\n"
     ]
    }
   ],
   "source": [
    "print(classification_report(test_generator.labels, predicted_class_indices))"
   ]
  },
  {
   "cell_type": "code",
   "execution_count": 125,
   "metadata": {},
   "outputs": [],
   "source": [
    "#modelBW.summary()"
   ]
  },
  {
   "cell_type": "code",
   "execution_count": 131,
   "metadata": {},
   "outputs": [],
   "source": [
    "# test_score_modelBW = modelBW.evaluate_generator(test_generator)\n",
    "# test_score_modelBW"
   ]
  },
  {
   "cell_type": "code",
   "execution_count": null,
   "metadata": {},
   "outputs": [],
   "source": [
    "# Modelo sem aug BW\n",
    "#  ---- dropout augmentation\n",
    "\n",
    "# Modelo sem aug RGB\n",
    "#  ---- dropout augmentation\n",
    "\n",
    "# funçoes dos plots\n",
    "\n",
    "# time function comparison"
   ]
  }
 ],
 "metadata": {
  "interpreter": {
   "hash": "18e16194cf3a231c7e85fd3da1ceecb74b106a13d038ee6c4a53eff2850ad794"
  },
  "kernelspec": {
   "display_name": "Python 3.8.12 ('deeplearning')",
   "language": "python",
   "name": "python3"
  },
  "language_info": {
   "codemirror_mode": {
    "name": "ipython",
    "version": 3
   },
   "file_extension": ".py",
   "mimetype": "text/x-python",
   "name": "python",
   "nbconvert_exporter": "python",
   "pygments_lexer": "ipython3",
   "version": "3.8.12"
  },
  "orig_nbformat": 4
 },
 "nbformat": 4,
 "nbformat_minor": 2
}
